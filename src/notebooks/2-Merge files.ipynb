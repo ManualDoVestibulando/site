{
 "cells": [
  {
   "cell_type": "code",
   "execution_count": 1,
   "metadata": {},
   "outputs": [],
   "source": [
    "import os\n",
    "import shutil\n",
    "\n",
    "import pandas as pd"
   ]
  },
  {
   "cell_type": "code",
   "execution_count": 2,
   "metadata": {},
   "outputs": [],
   "source": [
    "FORM_INPUT_PATH = '../../data/3_processed/forms'\n",
    "FORM_OUTPUT_PATH = '../../data/4_final/forms'\n",
    "VACANCIES_INPUT_PATH = '../../data/3_processed/vagas'\n",
    "VACANCIES_OUTPUT_PATH = '../../data/4_final'\n",
    "ESSAY_INPUT_PATH = '../../data/3_processed/redacoes'\n",
    "ESSAY_OUTPUT_PATH = '../../data/4_final/redacoes'"
   ]
  },
  {
   "cell_type": "markdown",
   "metadata": {},
   "source": [
    "## Forms"
   ]
  },
  {
   "cell_type": "code",
   "execution_count": 3,
   "metadata": {},
   "outputs": [],
   "source": [
    "for exam in os.listdir(FORM_INPUT_PATH):\n",
    "    exam_forms_list = []\n",
    "    exam_dir = os.path.join(FORM_INPUT_PATH, exam)\n",
    "    if os.path.isdir(exam_dir):\n",
    "        for form in os.listdir(exam_dir):\n",
    "            form_path = os.path.join(exam_dir, form)\n",
    "            form_df = pd.read_csv(form_path)\n",
    "            exam_forms_list.append(form_df)\n",
    "        exam_forms_df = pd.concat(exam_forms_list)\n",
    "        exam_forms_df.to_csv(os.path.join(FORM_OUTPUT_PATH, exam + '.csv'), index=False)"
   ]
  },
  {
   "cell_type": "markdown",
   "metadata": {},
   "source": [
    "## Vacancies"
   ]
  },
  {
   "cell_type": "code",
   "execution_count": 4,
   "metadata": {},
   "outputs": [
    {
     "data": {
      "text/plain": [
       "'../../data/4_final/vagas.csv'"
      ]
     },
     "execution_count": 4,
     "metadata": {},
     "output_type": "execute_result"
    }
   ],
   "source": [
    "latest_vacancies_filename = sorted(os.listdir(VACANCIES_INPUT_PATH))[-1]\n",
    "latest_vacancies_path = os.path.join(VACANCIES_INPUT_PATH, latest_vacancies_filename)\n",
    "output_vacancies_filename = os.path.join(VACANCIES_OUTPUT_PATH, 'vagas.csv')\n",
    "shutil.copy(latest_vacancies_path, output_vacancies_filename)"
   ]
  },
  {
   "cell_type": "markdown",
   "metadata": {},
   "source": [
    "## Essays"
   ]
  },
  {
   "cell_type": "code",
   "execution_count": 5,
   "metadata": {},
   "outputs": [],
   "source": [
    "for exam in os.listdir(ESSAY_INPUT_PATH):\n",
    "    exam_essays_list = []\n",
    "    exam_dir = os.path.join(ESSAY_INPUT_PATH, exam)\n",
    "    if os.path.isdir(exam_dir):\n",
    "        for essays in os.listdir(exam_dir):\n",
    "            essays_path = os.path.join(exam_dir, essays)\n",
    "            essays_df = pd.read_csv(essays_path)\n",
    "            exam_essays_list.append(essays_df)\n",
    "        exam_essays_df = pd.concat(exam_essays_list)\n",
    "        exam_essays_df.to_csv(os.path.join(ESSAY_OUTPUT_PATH, exam + '.csv'), index=False)"
   ]
  },
  {
   "cell_type": "code",
   "execution_count": null,
   "metadata": {},
   "outputs": [],
   "source": []
  }
 ],
 "metadata": {
  "interpreter": {
   "hash": "bce184dc8a1dabb96f5dad7a0839116b974aa4d39cb582f42baf43fd3c34255f"
  },
  "kernelspec": {
   "display_name": "Python 3.10.4 ('venv': venv)",
   "language": "python",
   "name": "python3"
  },
  "language_info": {
   "codemirror_mode": {
    "name": "ipython",
    "version": 3
   },
   "file_extension": ".py",
   "mimetype": "text/x-python",
   "name": "python",
   "nbconvert_exporter": "python",
   "pygments_lexer": "ipython3",
   "version": "3.10.4"
  },
  "orig_nbformat": 4
 },
 "nbformat": 4,
 "nbformat_minor": 2
}
