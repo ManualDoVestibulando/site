{
  "cells": [
    {
      "cell_type": "code",
      "execution_count": 28,
      "metadata": {
        "id": "DuZ9D3RvZtJo"
      },
      "outputs": [],
      "source": [
        "import os\n",
        "\n",
        "import plotly\n",
        "import plotly.express as px\n",
        "import plotly.graph_objects as go\n",
        "import pandas as pd"
      ]
    },
    {
      "cell_type": "code",
      "execution_count": 29,
      "metadata": {
        "id": "QSI1tOa2Z-4A"
      },
      "outputs": [],
      "source": [
        "INPUT_PATH = '../../data/4_final/forms'\n",
        "OUTPUT_PATH = '../../data/5_content'"
      ]
    },
    {
      "cell_type": "markdown",
      "metadata": {
        "id": "HUixgzJbeG4y"
      },
      "source": [
        "## Reading"
      ]
    },
    {
      "cell_type": "code",
      "execution_count": 30,
      "metadata": {
        "colab": {
          "base_uri": "https://localhost:8080/",
          "height": 478
        },
        "id": "Ul6nEbWvZ0k7",
        "outputId": "04f7baa7-3b32-4593-948f-0b4d3cff9eb8"
      },
      "outputs": [
        {
          "data": {
            "text/html": [
              "<div>\n",
              "<style scoped>\n",
              "    .dataframe tbody tr th:only-of-type {\n",
              "        vertical-align: middle;\n",
              "    }\n",
              "\n",
              "    .dataframe tbody tr th {\n",
              "        vertical-align: top;\n",
              "    }\n",
              "\n",
              "    .dataframe thead th {\n",
              "        text-align: right;\n",
              "    }\n",
              "</style>\n",
              "<table border=\"1\" class=\"dataframe\">\n",
              "  <thead>\n",
              "    <tr style=\"text-align: right;\">\n",
              "      <th></th>\n",
              "      <th>id</th>\n",
              "      <th>unidade</th>\n",
              "      <th>curso</th>\n",
              "      <th>ano</th>\n",
              "      <th>modalidade</th>\n",
              "      <th>chamada</th>\n",
              "      <th>nota_linguagens</th>\n",
              "      <th>nota_humanas</th>\n",
              "      <th>nota_natureza</th>\n",
              "      <th>nota_matematica</th>\n",
              "      <th>nota_redacao</th>\n",
              "      <th>nota_final</th>\n",
              "      <th>nota_redacao_c1</th>\n",
              "      <th>nota_redacao_c2</th>\n",
              "      <th>nota_redacao_c3</th>\n",
              "      <th>nota_redacao_c4</th>\n",
              "      <th>nota_redacao_c5</th>\n",
              "      <th>redacao</th>\n",
              "    </tr>\n",
              "  </thead>\n",
              "  <tbody>\n",
              "    <tr>\n",
              "      <th>0</th>\n",
              "      <td>86</td>\n",
              "      <td>FEARP</td>\n",
              "      <td>Administração</td>\n",
              "      <td>2020</td>\n",
              "      <td>Ampla Concorrência (AC)</td>\n",
              "      <td>&lt;NA&gt;</td>\n",
              "      <td>600.3</td>\n",
              "      <td>676.2</td>\n",
              "      <td>656.3</td>\n",
              "      <td>895.2</td>\n",
              "      <td>840</td>\n",
              "      <td>746.54</td>\n",
              "      <td>&lt;NA&gt;</td>\n",
              "      <td>&lt;NA&gt;</td>\n",
              "      <td>&lt;NA&gt;</td>\n",
              "      <td>&lt;NA&gt;</td>\n",
              "      <td>&lt;NA&gt;</td>\n",
              "      <td>&lt;NA&gt;</td>\n",
              "    </tr>\n",
              "    <tr>\n",
              "      <th>1</th>\n",
              "      <td>86</td>\n",
              "      <td>FEARP</td>\n",
              "      <td>Administração</td>\n",
              "      <td>2020</td>\n",
              "      <td>Ampla Concorrência (AC)</td>\n",
              "      <td>&lt;NA&gt;</td>\n",
              "      <td>606.0</td>\n",
              "      <td>666.7</td>\n",
              "      <td>590.6</td>\n",
              "      <td>837.6</td>\n",
              "      <td>880</td>\n",
              "      <td>732.335</td>\n",
              "      <td>&lt;NA&gt;</td>\n",
              "      <td>&lt;NA&gt;</td>\n",
              "      <td>&lt;NA&gt;</td>\n",
              "      <td>&lt;NA&gt;</td>\n",
              "      <td>&lt;NA&gt;</td>\n",
              "      <td>&lt;NA&gt;</td>\n",
              "    </tr>\n",
              "    <tr>\n",
              "      <th>2</th>\n",
              "      <td>86</td>\n",
              "      <td>FEARP</td>\n",
              "      <td>Administração</td>\n",
              "      <td>2020</td>\n",
              "      <td>Ampla Concorrência (AC)</td>\n",
              "      <td>&lt;NA&gt;</td>\n",
              "      <td>631.2</td>\n",
              "      <td>632.5</td>\n",
              "      <td>623.7</td>\n",
              "      <td>734.4</td>\n",
              "      <td>900</td>\n",
              "      <td>710.335</td>\n",
              "      <td>180</td>\n",
              "      <td>180</td>\n",
              "      <td>180</td>\n",
              "      <td>160</td>\n",
              "      <td>200</td>\n",
              "      <td>&lt;NA&gt;</td>\n",
              "    </tr>\n",
              "    <tr>\n",
              "      <th>3</th>\n",
              "      <td>86</td>\n",
              "      <td>FEARP</td>\n",
              "      <td>Administração</td>\n",
              "      <td>2020</td>\n",
              "      <td>Ampla Concorrência (AC)</td>\n",
              "      <td>&lt;NA&gt;</td>\n",
              "      <td>631.9</td>\n",
              "      <td>621.1</td>\n",
              "      <td>589.3</td>\n",
              "      <td>752.2</td>\n",
              "      <td>920</td>\n",
              "      <td>712.635</td>\n",
              "      <td>160</td>\n",
              "      <td>200</td>\n",
              "      <td>180</td>\n",
              "      <td>180</td>\n",
              "      <td>200</td>\n",
              "      <td>&lt;NA&gt;</td>\n",
              "    </tr>\n",
              "    <tr>\n",
              "      <th>4</th>\n",
              "      <td>80</td>\n",
              "      <td>FEA</td>\n",
              "      <td>Administração Diurno</td>\n",
              "      <td>2019</td>\n",
              "      <td>Pretos, Pardos e Indígenas (PPI)</td>\n",
              "      <td>&lt;NA&gt;</td>\n",
              "      <td>&lt;NA&gt;</td>\n",
              "      <td>&lt;NA&gt;</td>\n",
              "      <td>&lt;NA&gt;</td>\n",
              "      <td>&lt;NA&gt;</td>\n",
              "      <td>&lt;NA&gt;</td>\n",
              "      <td>714.0</td>\n",
              "      <td>&lt;NA&gt;</td>\n",
              "      <td>&lt;NA&gt;</td>\n",
              "      <td>&lt;NA&gt;</td>\n",
              "      <td>&lt;NA&gt;</td>\n",
              "      <td>&lt;NA&gt;</td>\n",
              "      <td>&lt;NA&gt;</td>\n",
              "    </tr>\n",
              "  </tbody>\n",
              "</table>\n",
              "</div>"
            ],
            "text/plain": [
              "   id unidade                 curso   ano                        modalidade  \\\n",
              "0  86   FEARP         Administração  2020           Ampla Concorrência (AC)   \n",
              "1  86   FEARP         Administração  2020           Ampla Concorrência (AC)   \n",
              "2  86   FEARP         Administração  2020           Ampla Concorrência (AC)   \n",
              "3  86   FEARP         Administração  2020           Ampla Concorrência (AC)   \n",
              "4  80     FEA  Administração Diurno  2019  Pretos, Pardos e Indígenas (PPI)   \n",
              "\n",
              "  chamada  nota_linguagens  nota_humanas  nota_natureza  nota_matematica  \\\n",
              "0    <NA>            600.3         676.2          656.3            895.2   \n",
              "1    <NA>            606.0         666.7          590.6            837.6   \n",
              "2    <NA>            631.2         632.5          623.7            734.4   \n",
              "3    <NA>            631.9         621.1          589.3            752.2   \n",
              "4    <NA>             <NA>          <NA>           <NA>             <NA>   \n",
              "\n",
              "   nota_redacao  nota_final  nota_redacao_c1  nota_redacao_c2  \\\n",
              "0           840      746.54             <NA>             <NA>   \n",
              "1           880     732.335             <NA>             <NA>   \n",
              "2           900     710.335              180              180   \n",
              "3           920     712.635              160              200   \n",
              "4          <NA>       714.0             <NA>             <NA>   \n",
              "\n",
              "   nota_redacao_c3  nota_redacao_c4  nota_redacao_c5 redacao  \n",
              "0             <NA>             <NA>             <NA>    <NA>  \n",
              "1             <NA>             <NA>             <NA>    <NA>  \n",
              "2              180              160              200    <NA>  \n",
              "3              180              180              200    <NA>  \n",
              "4             <NA>             <NA>             <NA>    <NA>  "
            ]
          },
          "execution_count": 30,
          "metadata": {},
          "output_type": "execute_result"
        }
      ],
      "source": [
        "enem = pd.read_csv(os.path.join(INPUT_PATH, 'enem.csv')).convert_dtypes()\n",
        "enem.head()"
      ]
    },
    {
      "cell_type": "code",
      "execution_count": 31,
      "metadata": {
        "colab": {
          "base_uri": "https://localhost:8080/",
          "height": 392
        },
        "id": "GVyPBuqhaQfh",
        "outputId": "d060c8ee-af15-48c8-860b-192c8e7aca47"
      },
      "outputs": [
        {
          "data": {
            "text/html": [
              "<div>\n",
              "<style scoped>\n",
              "    .dataframe tbody tr th:only-of-type {\n",
              "        vertical-align: middle;\n",
              "    }\n",
              "\n",
              "    .dataframe tbody tr th {\n",
              "        vertical-align: top;\n",
              "    }\n",
              "\n",
              "    .dataframe thead th {\n",
              "        text-align: right;\n",
              "    }\n",
              "</style>\n",
              "<table border=\"1\" class=\"dataframe\">\n",
              "  <thead>\n",
              "    <tr style=\"text-align: right;\">\n",
              "      <th></th>\n",
              "      <th>id</th>\n",
              "      <th>unidade</th>\n",
              "      <th>curso</th>\n",
              "      <th>ano</th>\n",
              "      <th>modalidade</th>\n",
              "      <th>chamada</th>\n",
              "      <th>nota_1</th>\n",
              "      <th>nota_2_1</th>\n",
              "      <th>nota_2_2</th>\n",
              "      <th>nota_final</th>\n",
              "      <th>nota_redacao</th>\n",
              "      <th>classificacao_carreira</th>\n",
              "      <th>classificacao_curso</th>\n",
              "      <th>redacao</th>\n",
              "    </tr>\n",
              "  </thead>\n",
              "  <tbody>\n",
              "    <tr>\n",
              "      <th>0</th>\n",
              "      <td>4</td>\n",
              "      <td>EACH</td>\n",
              "      <td>Biotecnologia</td>\n",
              "      <td>2020</td>\n",
              "      <td>Escola Pública (EP)</td>\n",
              "      <td>&lt;NA&gt;</td>\n",
              "      <td>51</td>\n",
              "      <td>51.88</td>\n",
              "      <td>31.25</td>\n",
              "      <td>465.988889</td>\n",
              "      <td>30.0</td>\n",
              "      <td>32</td>\n",
              "      <td>&lt;NA&gt;</td>\n",
              "      <td>&lt;NA&gt;</td>\n",
              "    </tr>\n",
              "    <tr>\n",
              "      <th>1</th>\n",
              "      <td>4</td>\n",
              "      <td>EACH</td>\n",
              "      <td>Biotecnologia</td>\n",
              "      <td>2020</td>\n",
              "      <td>Escola Pública (EP)</td>\n",
              "      <td>&lt;NA&gt;</td>\n",
              "      <td>52</td>\n",
              "      <td>68.0</td>\n",
              "      <td>34.0</td>\n",
              "      <td>532.592593</td>\n",
              "      <td>43.0</td>\n",
              "      <td>7</td>\n",
              "      <td>&lt;NA&gt;</td>\n",
              "      <td>&lt;NA&gt;</td>\n",
              "    </tr>\n",
              "    <tr>\n",
              "      <th>2</th>\n",
              "      <td>4</td>\n",
              "      <td>EACH</td>\n",
              "      <td>Biotecnologia</td>\n",
              "      <td>2020</td>\n",
              "      <td>Escola Pública (EP)</td>\n",
              "      <td>&lt;NA&gt;</td>\n",
              "      <td>60</td>\n",
              "      <td>55.0</td>\n",
              "      <td>41.67</td>\n",
              "      <td>544.455556</td>\n",
              "      <td>31.5</td>\n",
              "      <td>5</td>\n",
              "      <td>&lt;NA&gt;</td>\n",
              "      <td>&lt;NA&gt;</td>\n",
              "    </tr>\n",
              "    <tr>\n",
              "      <th>3</th>\n",
              "      <td>4</td>\n",
              "      <td>EACH</td>\n",
              "      <td>Biotecnologia</td>\n",
              "      <td>2020</td>\n",
              "      <td>Ampla Concorrência (AC)</td>\n",
              "      <td>&lt;NA&gt;</td>\n",
              "      <td>57</td>\n",
              "      <td>59.5</td>\n",
              "      <td>49.17</td>\n",
              "      <td>573.344444</td>\n",
              "      <td>32.0</td>\n",
              "      <td>27</td>\n",
              "      <td>&lt;NA&gt;</td>\n",
              "      <td>&lt;NA&gt;</td>\n",
              "    </tr>\n",
              "    <tr>\n",
              "      <th>4</th>\n",
              "      <td>4</td>\n",
              "      <td>EACH</td>\n",
              "      <td>Biotecnologia</td>\n",
              "      <td>2020</td>\n",
              "      <td>Ampla Concorrência (AC)</td>\n",
              "      <td>&lt;NA&gt;</td>\n",
              "      <td>64</td>\n",
              "      <td>68.0</td>\n",
              "      <td>41.67</td>\n",
              "      <td>602.603704</td>\n",
              "      <td>36.0</td>\n",
              "      <td>20</td>\n",
              "      <td>&lt;NA&gt;</td>\n",
              "      <td>&lt;NA&gt;</td>\n",
              "    </tr>\n",
              "  </tbody>\n",
              "</table>\n",
              "</div>"
            ],
            "text/plain": [
              "   id unidade          curso   ano               modalidade chamada  nota_1  \\\n",
              "0   4    EACH  Biotecnologia  2020      Escola Pública (EP)    <NA>      51   \n",
              "1   4    EACH  Biotecnologia  2020      Escola Pública (EP)    <NA>      52   \n",
              "2   4    EACH  Biotecnologia  2020      Escola Pública (EP)    <NA>      60   \n",
              "3   4    EACH  Biotecnologia  2020  Ampla Concorrência (AC)    <NA>      57   \n",
              "4   4    EACH  Biotecnologia  2020  Ampla Concorrência (AC)    <NA>      64   \n",
              "\n",
              "   nota_2_1  nota_2_2  nota_final  nota_redacao  classificacao_carreira  \\\n",
              "0     51.88     31.25  465.988889          30.0                      32   \n",
              "1      68.0      34.0  532.592593          43.0                       7   \n",
              "2      55.0     41.67  544.455556          31.5                       5   \n",
              "3      59.5     49.17  573.344444          32.0                      27   \n",
              "4      68.0     41.67  602.603704          36.0                      20   \n",
              "\n",
              "   classificacao_curso redacao  \n",
              "0                 <NA>    <NA>  \n",
              "1                 <NA>    <NA>  \n",
              "2                 <NA>    <NA>  \n",
              "3                 <NA>    <NA>  \n",
              "4                 <NA>    <NA>  "
            ]
          },
          "execution_count": 31,
          "metadata": {},
          "output_type": "execute_result"
        }
      ],
      "source": [
        "fuvest = pd.read_csv(os.path.join(INPUT_PATH, 'fuvest.csv')).convert_dtypes()\n",
        "fuvest.head()"
      ]
    },
    {
      "cell_type": "markdown",
      "metadata": {
        "id": "SV1juRo9eK5G"
      },
      "source": [
        "## Analysing"
      ]
    },
    {
      "cell_type": "markdown",
      "metadata": {
        "id": "SRDEfmRDxKXR"
      },
      "source": [
        "### Support functions"
      ]
    },
    {
      "cell_type": "code",
      "execution_count": 32,
      "metadata": {
        "id": "yjSGGgkKxMMS"
      },
      "outputs": [],
      "source": [
        "def table_from_df(df, cols=None, manual_header=None, cells_format=None):\n",
        "  if cols is None:\n",
        "    cols = df.columns\n",
        "  \n",
        "  if manual_header is not None:\n",
        "    header_values = manual_header\n",
        "  else:\n",
        "    header_values = cols\n",
        "    \n",
        "  data_list = [df[col] for col in cols]\n",
        "  fig = go.Figure(data=go.Table(\n",
        "      header=dict(values=header_values,\n",
        "                  align='center'),\n",
        "      cells=dict(values=data_list,\n",
        "                 format=cells_format),\n",
        "  ))\n",
        "  return fig"
      ]
    },
    {
      "cell_type": "code",
      "execution_count": 33,
      "metadata": {
        "id": "6knHEEmKR7GF"
      },
      "outputs": [],
      "source": [
        "def plotly_fig_to_html(fig, path):\n",
        "  fig.update_layout(margin=dict(\n",
        "      b=0,\n",
        "      l=0,\n",
        "      r=0,\n",
        "      t=0,\n",
        "  ))\n",
        "  fig.write_html(path, include_plotlyjs='cdn', full_html=False)"
      ]
    },
    {
      "cell_type": "markdown",
      "metadata": {
        "id": "5u1YDsnweQE5"
      },
      "source": [
        "### Fuvest"
      ]
    },
    {
      "cell_type": "code",
      "execution_count": 34,
      "metadata": {
        "id": "AhTt3k_hNeo9"
      },
      "outputs": [],
      "source": [
        "for index, row in fuvest[['id', 'ano']].drop_duplicates().iterrows():\n",
        "  os.makedirs(os.path.join(OUTPUT_PATH, str(row.id), 'fuvest', str(row.ano)))"
      ]
    },
    {
      "cell_type": "code",
      "execution_count": 35,
      "metadata": {
        "colab": {
          "base_uri": "https://localhost:8080/"
        },
        "id": "atQcpoLOacP6",
        "outputId": "27197c86-dc23-4af5-e8f0-df165a564f41"
      },
      "outputs": [
        {
          "data": {
            "text/plain": [
              "{(0, 2019, 'Escola Pública (EP)'): [22], (0, 2019, 'Pretos, Pardos e Indígenas (PPI)'): [1872], (0, 2020, 'Ampla Concorrência (AC)'): [24, 25, 26, 27], (0, 2020, 'Escola Pública (EP)'): [19, 20, 21, 23], (0, 2021, 'Ampla Concorrência (AC)'): [1869, 1870, 1873, 1875, 1877, 1879, 1880, 1883, 1884, 1885, 1886, 1887, 1889, 1891, 1893, 1894], (0, 2021, 'Escola Pública (EP)'): [1871, 1874, 1876, 1878, 1881, 1882, 1888, 1890, 1892], (2, 2021, 'Escola Pública (EP)'): [1854], (4, 2020, 'Ampla Concorrência (AC)'): [3, 4, 5, 6, 7, 8], (4, 2020, 'Escola Pública (EP)'): [0, 1, 2], (4, 2021, 'Ampla Concorrência (AC)'): [1830, 1831, 1832, 1833, 1834, 1835, 1836, 1838], (4, 2021, 'Escola Pública (EP)'): [1837], (6, 2021, 'Ampla Concorrência (AC)'): [1867, 1868], (6, 2021, 'Escola Pública (EP)'): [1866], (7, 2019, 'Escola Pública (EP)'): [28], (7, 2021, 'Ampla Concorrência (AC)'): [1895, 1897, 1901, 1902, 1904], (7, 2021, 'Escola Pública (EP)'): [1896, 1898, 1899, 1900], (7, 2021, 'Pretos, Pardos e Indígenas (PPI)'): [1903], (10, 2021, 'Ampla Concorrência (AC)'): [1839, 1840, 1841, 1847], (10, 2021, 'Escola Pública (EP)'): [1842, 1843, 1844, 1845, 1846], (11, 2019, 'Ampla Concorrência (AC)'): [9], (11, 2020, 'Escola Pública (EP)'): [10], (12, 2015, 'Escola Pública (EP)'): [11], (12, 2019, 'Ampla Concorrência (AC)'): [12, 13], (12, 2020, 'Ampla Concorrência (AC)'): [14, 16, 17, 18, 1853], (12, 2020, 'Escola Pública (EP)'): [15], (12, 2021, 'Ampla Concorrência (AC)'): [1848, 1850, 1851, 1852], (12, 2021, 'Pretos, Pardos e Indígenas (PPI)'): [1849], (14, 2020, 'Ampla Concorrência (AC)'): [1860], (14, 2021, 'Ampla Concorrência (AC)'): [1857, 1861, 1863, 1864, 1865], (14, 2021, 'Escola Pública (EP)'): [1855, 1856, 1859, 1862], (14, 2021, 'Pretos, Pardos e Indígenas (PPI)'): [1858], (16, 2020, 'Ampla Concorrência (AC)'): [29], (16, 2021, 'Ampla Concorrência (AC)'): [1905, 1907, 1908], (16, 2021, 'Pretos, Pardos e Indígenas (PPI)'): [1906], (17, 2019, 'Ampla Concorrência (AC)'): [31], (17, 2020, 'Pretos, Pardos e Indígenas (PPI)'): [30], (17, 2021, 'Ampla Concorrência (AC)'): [1911, 1912, 1913, 1914, 1916], (17, 2021, 'Escola Pública (EP)'): [1909, 1910], (17, 2021, 'Pretos, Pardos e Indígenas (PPI)'): [1915], (19, 2021, 'Ampla Concorrência (AC)'): [1928], (21, 2020, 'Ampla Concorrência (AC)'): [46], (22, 2019, 'Ampla Concorrência (AC)'): [38, 41, 42], (22, 2019, 'Escola Pública (EP)'): [39], (22, 2020, 'Ampla Concorrência (AC)'): [40, 1940], (22, 2021, 'Ampla Concorrência (AC)'): [1938, 1941, 1944, 1945, 1946, 1947, 1948], (22, 2021, 'Escola Pública (EP)'): [1936], (22, 2021, 'Pretos, Pardos e Indígenas (PPI)'): [1937, 1939, 1942, 1943], (24, 2020, 'Ampla Concorrência (AC)'): [37], (24, 2020, 'Escola Pública (EP)'): [35], (24, 2020, 'Pretos, Pardos e Indígenas (PPI)'): [36], (24, 2021, 'Ampla Concorrência (AC)'): [1929, 1930, 1932, 1933, 1935], (24, 2021, 'Escola Pública (EP)'): [1931, 1934], (25, 2020, 'Escola Pública (EP)'): [1952], (25, 2021, 'Ampla Concorrência (AC)'): [1950, 1953, 1955, 1956, 1957, 1958, 1959, 1961], (25, 2021, 'Escola Pública (EP)'): [1951, 1954, 1960], (27, 2020, 'Ampla Concorrência (AC)'): [45, 1962], (27, 2020, 'Escola Pública (EP)'): [44], (27, 2021, 'Ampla Concorrência (AC)'): [1964, 1966, 1967, 1968, 1970], (27, 2021, 'Escola Pública (EP)'): [1963, 1965, 1969, 1971], (29, 2017, 'Ampla Concorrência (AC)'): [33], (29, 2019, 'Escola Pública (EP)'): [32], (29, 2020, 'Ampla Concorrência (AC)'): [34], (29, 2021, 'Ampla Concorrência (AC)'): [1917, 1918, 1919, 1921, 1922, 1923, 1924, 1927], (29, 2021, 'Escola Pública (EP)'): [1920, 1925, 1926], (30, 2020, 'Ampla Concorrência (AC)'): [43], (30, 2021, 'Ampla Concorrência (AC)'): [1949], (33, 2021, 'Ampla Concorrência (AC)'): [1976, 1980, 1983], (33, 2021, 'Escola Pública (EP)'): [1973, 1974, 1975, 1977, 1978, 1979, 2044, 2045], (33, 2021, 'Pretos, Pardos e Indígenas (PPI)'): [1972, 1981, 1982], (34, 2020, 'Escola Pública (EP)'): [49], (36, 2020, 'Ampla Concorrência (AC)'): [48], (37, 2021, 'Escola Pública (EP)'): [1985], (38, 2020, 'Ampla Concorrência (AC)'): [1993], (38, 2021, 'Ampla Concorrência (AC)'): [1986, 1989, 1990, 1991], (38, 2021, 'Escola Pública (EP)'): [1987, 1988, 1994], (38, 2021, 'Pretos, Pardos e Indígenas (PPI)'): [1992], (39, 2021, 'Ampla Concorrência (AC)'): [1995], (40, 2019, 'Ampla Concorrência (AC)'): [47], (42, 2021, 'Ampla Concorrência (AC)'): [1984], (43, 2020, 'Ampla Concorrência (AC)'): [98, 99, 100, 101, 102, 103, 104, 105, 106, 107, 108, 109, 110, 111, 112, 113, 114, 115, 116, 117, 118, 119, 120, 122, 123, 124, 125], (43, 2020, 'Escola Pública (EP)'): [86, 87, 88, 89, 90, 91, 92, 94, 96, 97, 121], (43, 2020, 'Pretos, Pardos e Indígenas (PPI)'): [83, 84, 85, 93, 95], (43, 2021, 'Ampla Concorrência (AC)'): [1999], (43, 2021, 'Pretos, Pardos e Indígenas (PPI)'): [1998], (44, 2021, 'Ampla Concorrência (AC)'): [2020, 2021], (45, 2020, 'Escola Pública (EP)'): [151], (45, 2021, 'Ampla Concorrência (AC)'): [2022, 2023, 2024, 2025, 2026], (46, 2020, 'Ampla Concorrência (AC)'): [154, 156, 157, 158, 159, 161, 162, 163, 164, 165, 166, 167, 2031], (46, 2020, 'Escola Pública (EP)'): [152, 153, 155, 160], (46, 2021, 'Ampla Concorrência (AC)'): [2027, 2028, 2030, 2033, 2034, 2036, 2037, 2038, 2040], (46, 2021, 'Escola Pública (EP)'): [2035, 2039], (46, 2021, 'Pretos, Pardos e Indígenas (PPI)'): [2029, 2032], (47, 2019, 'Ampla Concorrência (AC)'): [146], (47, 2019, 'Escola Pública (EP)'): [132], (47, 2019, 'Pretos, Pardos e Indígenas (PPI)'): [127], (47, 2020, 'Ampla Concorrência (AC)'): [136, 137, 138, 139, 140, 141, 142, 143, 144, 145, 147, 148, 149, 150], (47, 2020, 'Escola Pública (EP)'): [129, 130, 131, 133, 134, 135], (47, 2020, 'Pretos, Pardos e Indígenas (PPI)'): [126, 128], (47, 2021, 'Ampla Concorrência (AC)'): [2010, 2011, 2013, 2014, 2015, 2016, 2017, 2018, 2019], (47, 2021, 'Escola Pública (EP)'): [2009, 2012], ...}"
            ]
          },
          "execution_count": 35,
          "metadata": {},
          "output_type": "execute_result"
        }
      ],
      "source": [
        "fuvest_grouped = fuvest.groupby(['id', 'ano', 'modalidade'])\n",
        "fuvest_grouped.groups"
      ]
    },
    {
      "cell_type": "code",
      "execution_count": 36,
      "metadata": {
        "colab": {
          "base_uri": "https://localhost:8080/",
          "height": 455
        },
        "id": "laWfawLaawJh",
        "outputId": "181a0ede-20c7-466f-b4c0-d20441cee1e4"
      },
      "outputs": [
        {
          "data": {
            "text/html": [
              "<div>\n",
              "<style scoped>\n",
              "    .dataframe tbody tr th:only-of-type {\n",
              "        vertical-align: middle;\n",
              "    }\n",
              "\n",
              "    .dataframe tbody tr th {\n",
              "        vertical-align: top;\n",
              "    }\n",
              "\n",
              "    .dataframe thead th {\n",
              "        text-align: right;\n",
              "    }\n",
              "</style>\n",
              "<table border=\"1\" class=\"dataframe\">\n",
              "  <thead>\n",
              "    <tr style=\"text-align: right;\">\n",
              "      <th></th>\n",
              "      <th></th>\n",
              "      <th></th>\n",
              "      <th>Mínimo</th>\n",
              "      <th>Máximo</th>\n",
              "      <th>Médio</th>\n",
              "    </tr>\n",
              "    <tr>\n",
              "      <th>id</th>\n",
              "      <th>ano</th>\n",
              "      <th>modalidade</th>\n",
              "      <th></th>\n",
              "      <th></th>\n",
              "      <th></th>\n",
              "    </tr>\n",
              "  </thead>\n",
              "  <tbody>\n",
              "    <tr>\n",
              "      <th rowspan=\"5\" valign=\"top\">0</th>\n",
              "      <th rowspan=\"2\" valign=\"top\">2019</th>\n",
              "      <th>Escola Pública (EP)</th>\n",
              "      <td>506.481481</td>\n",
              "      <td>506.481481</td>\n",
              "      <td>506.481481</td>\n",
              "    </tr>\n",
              "    <tr>\n",
              "      <th>Pretos, Pardos e Indígenas (PPI)</th>\n",
              "      <td>474.63</td>\n",
              "      <td>474.63</td>\n",
              "      <td>474.63</td>\n",
              "    </tr>\n",
              "    <tr>\n",
              "      <th rowspan=\"2\" valign=\"top\">2020</th>\n",
              "      <th>Ampla Concorrência (AC)</th>\n",
              "      <td>575.72963</td>\n",
              "      <td>644.618519</td>\n",
              "      <td>609.765741</td>\n",
              "    </tr>\n",
              "    <tr>\n",
              "      <th>Escola Pública (EP)</th>\n",
              "      <td>424.085185</td>\n",
              "      <td>546.666667</td>\n",
              "      <td>480.552778</td>\n",
              "    </tr>\n",
              "    <tr>\n",
              "      <th>2021</th>\n",
              "      <th>Ampla Concorrência (AC)</th>\n",
              "      <td>577.96</td>\n",
              "      <td>729.81</td>\n",
              "      <td>649.51375</td>\n",
              "    </tr>\n",
              "    <tr>\n",
              "      <th>...</th>\n",
              "      <th>...</th>\n",
              "      <th>...</th>\n",
              "      <td>...</td>\n",
              "      <td>...</td>\n",
              "      <td>...</td>\n",
              "    </tr>\n",
              "    <tr>\n",
              "      <th rowspan=\"5\" valign=\"top\">174</th>\n",
              "      <th rowspan=\"3\" valign=\"top\">2020</th>\n",
              "      <th>Ampla Concorrência (AC)</th>\n",
              "      <td>659.26</td>\n",
              "      <td>754.81</td>\n",
              "      <td>693.173333</td>\n",
              "    </tr>\n",
              "    <tr>\n",
              "      <th>Escola Pública (EP)</th>\n",
              "      <td>610.37</td>\n",
              "      <td>642.78</td>\n",
              "      <td>626.075833</td>\n",
              "    </tr>\n",
              "    <tr>\n",
              "      <th>Pretos, Pardos e Indígenas (PPI)</th>\n",
              "      <td>511.48</td>\n",
              "      <td>672.59</td>\n",
              "      <td>575.246667</td>\n",
              "    </tr>\n",
              "    <tr>\n",
              "      <th rowspan=\"2\" valign=\"top\">2021</th>\n",
              "      <th>Ampla Concorrência (AC)</th>\n",
              "      <td>764.26</td>\n",
              "      <td>764.26</td>\n",
              "      <td>764.26</td>\n",
              "    </tr>\n",
              "    <tr>\n",
              "      <th>Escola Pública (EP)</th>\n",
              "      <td>643.7</td>\n",
              "      <td>643.7</td>\n",
              "      <td>643.7</td>\n",
              "    </tr>\n",
              "  </tbody>\n",
              "</table>\n",
              "<p>490 rows × 3 columns</p>\n",
              "</div>"
            ],
            "text/plain": [
              "                                               Mínimo      Máximo       Médio\n",
              "id  ano  modalidade                                                          \n",
              "0   2019 Escola Pública (EP)               506.481481  506.481481  506.481481\n",
              "         Pretos, Pardos e Indígenas (PPI)      474.63      474.63      474.63\n",
              "    2020 Ampla Concorrência (AC)            575.72963  644.618519  609.765741\n",
              "         Escola Pública (EP)               424.085185  546.666667  480.552778\n",
              "    2021 Ampla Concorrência (AC)               577.96      729.81   649.51375\n",
              "...                                               ...         ...         ...\n",
              "174 2020 Ampla Concorrência (AC)               659.26      754.81  693.173333\n",
              "         Escola Pública (EP)                   610.37      642.78  626.075833\n",
              "         Pretos, Pardos e Indígenas (PPI)      511.48      672.59  575.246667\n",
              "    2021 Ampla Concorrência (AC)               764.26      764.26      764.26\n",
              "         Escola Pública (EP)                    643.7       643.7       643.7\n",
              "\n",
              "[490 rows x 3 columns]"
            ]
          },
          "execution_count": 36,
          "metadata": {},
          "output_type": "execute_result"
        }
      ],
      "source": [
        "fuvest_metrics_df = fuvest_grouped.agg(\n",
        "  Mínimo=('nota_final', 'min'),\n",
        "  Máximo=('nota_final', 'max'), \n",
        "  Médio=('nota_final', 'mean'),\n",
        ")\n",
        "fuvest_metrics_df"
      ]
    },
    {
      "cell_type": "markdown",
      "metadata": {
        "id": "Lar2h-t9Qg0-"
      },
      "source": [
        "#### Metrics plot"
      ]
    },
    {
      "cell_type": "code",
      "execution_count": 37,
      "metadata": {
        "colab": {
          "base_uri": "https://localhost:8080/",
          "height": 238
        },
        "id": "kZC-Y8-k1z5O",
        "outputId": "cc3c0024-06b0-4bfe-d69d-0c3ddf77f92b"
      },
      "outputs": [
        {
          "data": {
            "text/html": [
              "<div>\n",
              "<style scoped>\n",
              "    .dataframe tbody tr th:only-of-type {\n",
              "        vertical-align: middle;\n",
              "    }\n",
              "\n",
              "    .dataframe tbody tr th {\n",
              "        vertical-align: top;\n",
              "    }\n",
              "\n",
              "    .dataframe thead th {\n",
              "        text-align: right;\n",
              "    }\n",
              "</style>\n",
              "<table border=\"1\" class=\"dataframe\">\n",
              "  <thead>\n",
              "    <tr style=\"text-align: right;\">\n",
              "      <th></th>\n",
              "      <th>ano</th>\n",
              "      <th>modalidade</th>\n",
              "      <th>Mínimo</th>\n",
              "      <th>Máximo</th>\n",
              "      <th>Médio</th>\n",
              "    </tr>\n",
              "  </thead>\n",
              "  <tbody>\n",
              "    <tr>\n",
              "      <th>0</th>\n",
              "      <td>2019</td>\n",
              "      <td>Escola Pública (EP)</td>\n",
              "      <td>506.481481</td>\n",
              "      <td>506.481481</td>\n",
              "      <td>506.481481</td>\n",
              "    </tr>\n",
              "    <tr>\n",
              "      <th>1</th>\n",
              "      <td>2019</td>\n",
              "      <td>Pretos, Pardos e Indígenas (PPI)</td>\n",
              "      <td>474.63</td>\n",
              "      <td>474.63</td>\n",
              "      <td>474.63</td>\n",
              "    </tr>\n",
              "    <tr>\n",
              "      <th>2</th>\n",
              "      <td>2020</td>\n",
              "      <td>Ampla Concorrência (AC)</td>\n",
              "      <td>575.72963</td>\n",
              "      <td>644.618519</td>\n",
              "      <td>609.765741</td>\n",
              "    </tr>\n",
              "    <tr>\n",
              "      <th>3</th>\n",
              "      <td>2020</td>\n",
              "      <td>Escola Pública (EP)</td>\n",
              "      <td>424.085185</td>\n",
              "      <td>546.666667</td>\n",
              "      <td>480.552778</td>\n",
              "    </tr>\n",
              "    <tr>\n",
              "      <th>4</th>\n",
              "      <td>2021</td>\n",
              "      <td>Ampla Concorrência (AC)</td>\n",
              "      <td>577.96</td>\n",
              "      <td>729.81</td>\n",
              "      <td>649.51375</td>\n",
              "    </tr>\n",
              "    <tr>\n",
              "      <th>5</th>\n",
              "      <td>2021</td>\n",
              "      <td>Escola Pública (EP)</td>\n",
              "      <td>479.44</td>\n",
              "      <td>579.26</td>\n",
              "      <td>527.895556</td>\n",
              "    </tr>\n",
              "  </tbody>\n",
              "</table>\n",
              "</div>"
            ],
            "text/plain": [
              "    ano                        modalidade      Mínimo      Máximo       Médio\n",
              "0  2019               Escola Pública (EP)  506.481481  506.481481  506.481481\n",
              "1  2019  Pretos, Pardos e Indígenas (PPI)      474.63      474.63      474.63\n",
              "2  2020           Ampla Concorrência (AC)   575.72963  644.618519  609.765741\n",
              "3  2020               Escola Pública (EP)  424.085185  546.666667  480.552778\n",
              "4  2021           Ampla Concorrência (AC)      577.96      729.81   649.51375\n",
              "5  2021               Escola Pública (EP)      479.44      579.26  527.895556"
            ]
          },
          "execution_count": 37,
          "metadata": {},
          "output_type": "execute_result"
        }
      ],
      "source": [
        "example_metrics = fuvest_metrics_df.loc[0].reset_index()\n",
        "example_metrics"
      ]
    },
    {
      "cell_type": "code",
      "execution_count": 38,
      "metadata": {
        "colab": {
          "base_uri": "https://localhost:8080/",
          "height": 614
        },
        "id": "WkVijELW_yh2",
        "outputId": "47bad51c-f8e1-4d72-ce68-fb119f02fe13"
      },
      "outputs": [
        {
          "data": {
            "text/html": [
              "<div>\n",
              "<style scoped>\n",
              "    .dataframe tbody tr th:only-of-type {\n",
              "        vertical-align: middle;\n",
              "    }\n",
              "\n",
              "    .dataframe tbody tr th {\n",
              "        vertical-align: top;\n",
              "    }\n",
              "\n",
              "    .dataframe thead th {\n",
              "        text-align: right;\n",
              "    }\n",
              "</style>\n",
              "<table border=\"1\" class=\"dataframe\">\n",
              "  <thead>\n",
              "    <tr style=\"text-align: right;\">\n",
              "      <th></th>\n",
              "      <th>ano</th>\n",
              "      <th>modalidade</th>\n",
              "      <th>metric</th>\n",
              "      <th>nota</th>\n",
              "    </tr>\n",
              "  </thead>\n",
              "  <tbody>\n",
              "    <tr>\n",
              "      <th>0</th>\n",
              "      <td>2019</td>\n",
              "      <td>Escola Pública (EP)</td>\n",
              "      <td>Mínimo</td>\n",
              "      <td>506.481481</td>\n",
              "    </tr>\n",
              "    <tr>\n",
              "      <th>1</th>\n",
              "      <td>2019</td>\n",
              "      <td>Pretos, Pardos e Indígenas (PPI)</td>\n",
              "      <td>Mínimo</td>\n",
              "      <td>474.63</td>\n",
              "    </tr>\n",
              "    <tr>\n",
              "      <th>2</th>\n",
              "      <td>2020</td>\n",
              "      <td>Ampla Concorrência (AC)</td>\n",
              "      <td>Mínimo</td>\n",
              "      <td>575.72963</td>\n",
              "    </tr>\n",
              "    <tr>\n",
              "      <th>3</th>\n",
              "      <td>2020</td>\n",
              "      <td>Escola Pública (EP)</td>\n",
              "      <td>Mínimo</td>\n",
              "      <td>424.085185</td>\n",
              "    </tr>\n",
              "    <tr>\n",
              "      <th>4</th>\n",
              "      <td>2021</td>\n",
              "      <td>Ampla Concorrência (AC)</td>\n",
              "      <td>Mínimo</td>\n",
              "      <td>577.96</td>\n",
              "    </tr>\n",
              "    <tr>\n",
              "      <th>5</th>\n",
              "      <td>2021</td>\n",
              "      <td>Escola Pública (EP)</td>\n",
              "      <td>Mínimo</td>\n",
              "      <td>479.44</td>\n",
              "    </tr>\n",
              "    <tr>\n",
              "      <th>6</th>\n",
              "      <td>2019</td>\n",
              "      <td>Escola Pública (EP)</td>\n",
              "      <td>Médio</td>\n",
              "      <td>506.481481</td>\n",
              "    </tr>\n",
              "    <tr>\n",
              "      <th>7</th>\n",
              "      <td>2019</td>\n",
              "      <td>Pretos, Pardos e Indígenas (PPI)</td>\n",
              "      <td>Médio</td>\n",
              "      <td>474.63</td>\n",
              "    </tr>\n",
              "    <tr>\n",
              "      <th>8</th>\n",
              "      <td>2020</td>\n",
              "      <td>Ampla Concorrência (AC)</td>\n",
              "      <td>Médio</td>\n",
              "      <td>609.765741</td>\n",
              "    </tr>\n",
              "    <tr>\n",
              "      <th>9</th>\n",
              "      <td>2020</td>\n",
              "      <td>Escola Pública (EP)</td>\n",
              "      <td>Médio</td>\n",
              "      <td>480.552778</td>\n",
              "    </tr>\n",
              "    <tr>\n",
              "      <th>10</th>\n",
              "      <td>2021</td>\n",
              "      <td>Ampla Concorrência (AC)</td>\n",
              "      <td>Médio</td>\n",
              "      <td>649.51375</td>\n",
              "    </tr>\n",
              "    <tr>\n",
              "      <th>11</th>\n",
              "      <td>2021</td>\n",
              "      <td>Escola Pública (EP)</td>\n",
              "      <td>Médio</td>\n",
              "      <td>527.895556</td>\n",
              "    </tr>\n",
              "    <tr>\n",
              "      <th>12</th>\n",
              "      <td>2019</td>\n",
              "      <td>Escola Pública (EP)</td>\n",
              "      <td>Máximo</td>\n",
              "      <td>506.481481</td>\n",
              "    </tr>\n",
              "    <tr>\n",
              "      <th>13</th>\n",
              "      <td>2019</td>\n",
              "      <td>Pretos, Pardos e Indígenas (PPI)</td>\n",
              "      <td>Máximo</td>\n",
              "      <td>474.63</td>\n",
              "    </tr>\n",
              "    <tr>\n",
              "      <th>14</th>\n",
              "      <td>2020</td>\n",
              "      <td>Ampla Concorrência (AC)</td>\n",
              "      <td>Máximo</td>\n",
              "      <td>644.618519</td>\n",
              "    </tr>\n",
              "    <tr>\n",
              "      <th>15</th>\n",
              "      <td>2020</td>\n",
              "      <td>Escola Pública (EP)</td>\n",
              "      <td>Máximo</td>\n",
              "      <td>546.666667</td>\n",
              "    </tr>\n",
              "    <tr>\n",
              "      <th>16</th>\n",
              "      <td>2021</td>\n",
              "      <td>Ampla Concorrência (AC)</td>\n",
              "      <td>Máximo</td>\n",
              "      <td>729.81</td>\n",
              "    </tr>\n",
              "    <tr>\n",
              "      <th>17</th>\n",
              "      <td>2021</td>\n",
              "      <td>Escola Pública (EP)</td>\n",
              "      <td>Máximo</td>\n",
              "      <td>579.26</td>\n",
              "    </tr>\n",
              "  </tbody>\n",
              "</table>\n",
              "</div>"
            ],
            "text/plain": [
              "     ano                        modalidade  metric        nota\n",
              "0   2019               Escola Pública (EP)  Mínimo  506.481481\n",
              "1   2019  Pretos, Pardos e Indígenas (PPI)  Mínimo      474.63\n",
              "2   2020           Ampla Concorrência (AC)  Mínimo   575.72963\n",
              "3   2020               Escola Pública (EP)  Mínimo  424.085185\n",
              "4   2021           Ampla Concorrência (AC)  Mínimo      577.96\n",
              "5   2021               Escola Pública (EP)  Mínimo      479.44\n",
              "6   2019               Escola Pública (EP)   Médio  506.481481\n",
              "7   2019  Pretos, Pardos e Indígenas (PPI)   Médio      474.63\n",
              "8   2020           Ampla Concorrência (AC)   Médio  609.765741\n",
              "9   2020               Escola Pública (EP)   Médio  480.552778\n",
              "10  2021           Ampla Concorrência (AC)   Médio   649.51375\n",
              "11  2021               Escola Pública (EP)   Médio  527.895556\n",
              "12  2019               Escola Pública (EP)  Máximo  506.481481\n",
              "13  2019  Pretos, Pardos e Indígenas (PPI)  Máximo      474.63\n",
              "14  2020           Ampla Concorrência (AC)  Máximo  644.618519\n",
              "15  2020               Escola Pública (EP)  Máximo  546.666667\n",
              "16  2021           Ampla Concorrência (AC)  Máximo      729.81\n",
              "17  2021               Escola Pública (EP)  Máximo      579.26"
            ]
          },
          "execution_count": 38,
          "metadata": {},
          "output_type": "execute_result"
        }
      ],
      "source": [
        "molten_example_metrics = pd.melt(example_metrics,\n",
        "                                 id_vars=['ano', 'modalidade'],\n",
        "                                 value_vars=['Mínimo', 'Médio', 'Máximo'],\n",
        "                                 var_name='metric',\n",
        "                                 value_name='nota')\n",
        "molten_example_metrics"
      ]
    },
    {
      "cell_type": "code",
      "execution_count": 39,
      "metadata": {
        "colab": {
          "base_uri": "https://localhost:8080/"
        },
        "id": "YZIBwEDzt9Ox",
        "outputId": "64f84af0-6a00-40df-a817-dda41ee5a9e6"
      },
      "outputs": [
        {
          "data": {
            "text/plain": [
              "2019"
            ]
          },
          "execution_count": 39,
          "metadata": {},
          "output_type": "execute_result"
        }
      ],
      "source": [
        "first_year = molten_example_metrics.ano.min()\n",
        "first_year"
      ]
    },
    {
      "cell_type": "code",
      "execution_count": 40,
      "metadata": {
        "colab": {
          "base_uri": "https://localhost:8080/",
          "height": 542
        },
        "id": "ABtSDZZQ6Snf",
        "outputId": "d44464f6-8d59-480a-a91e-3e2178bd939c"
      },
      "outputs": [
        {
          "data": {
            "application/vnd.plotly.v1+json": {
              "config": {
                "plotlyServerURL": "https://plot.ly"
              },
              "data": [
                {
                  "hovertemplate": "Valor=Máximo<br>modalidade=Ampla Concorrência (AC)<br>Ano de ingresso=%{x}<br>=%{y}<extra></extra>",
                  "legendgroup": "Máximo",
                  "line": {
                    "color": "#636efa",
                    "dash": "solid"
                  },
                  "marker": {
                    "symbol": "circle"
                  },
                  "mode": "markers+lines",
                  "name": "Máximo",
                  "orientation": "h",
                  "showlegend": true,
                  "type": "scatter",
                  "x": [
                    2020,
                    2021
                  ],
                  "xaxis": "x3",
                  "y": [
                    644.6185185,
                    729.81
                  ],
                  "yaxis": "y3"
                },
                {
                  "hovertemplate": "Valor=Máximo<br>modalidade=Escola Pública (EP)<br>Ano de ingresso=%{x}<br>=%{y}<extra></extra>",
                  "legendgroup": "Máximo",
                  "line": {
                    "color": "#636efa",
                    "dash": "solid"
                  },
                  "marker": {
                    "symbol": "circle"
                  },
                  "mode": "markers+lines",
                  "name": "Máximo",
                  "orientation": "h",
                  "showlegend": false,
                  "type": "scatter",
                  "x": [
                    2019,
                    2020,
                    2021
                  ],
                  "xaxis": "x2",
                  "y": [
                    506.4814815,
                    546.6666667,
                    579.26
                  ],
                  "yaxis": "y2"
                },
                {
                  "hovertemplate": "Valor=Máximo<br>modalidade=Pretos, Pardos e Indígenas (PPI)<br>Ano de ingresso=%{x}<br>=%{y}<extra></extra>",
                  "legendgroup": "Máximo",
                  "line": {
                    "color": "#636efa",
                    "dash": "solid"
                  },
                  "marker": {
                    "symbol": "circle"
                  },
                  "mode": "markers+lines",
                  "name": "Máximo",
                  "orientation": "h",
                  "showlegend": false,
                  "type": "scatter",
                  "x": [
                    2019
                  ],
                  "xaxis": "x",
                  "y": [
                    474.63
                  ],
                  "yaxis": "y"
                },
                {
                  "hovertemplate": "Valor=Médio<br>modalidade=Ampla Concorrência (AC)<br>Ano de ingresso=%{x}<br>=%{y}<extra></extra>",
                  "legendgroup": "Médio",
                  "line": {
                    "color": "#EF553B",
                    "dash": "solid"
                  },
                  "marker": {
                    "symbol": "circle"
                  },
                  "mode": "markers+lines",
                  "name": "Médio",
                  "orientation": "h",
                  "showlegend": true,
                  "type": "scatter",
                  "x": [
                    2020,
                    2021
                  ],
                  "xaxis": "x3",
                  "y": [
                    609.765740725,
                    649.51375
                  ],
                  "yaxis": "y3"
                },
                {
                  "hovertemplate": "Valor=Médio<br>modalidade=Escola Pública (EP)<br>Ano de ingresso=%{x}<br>=%{y}<extra></extra>",
                  "legendgroup": "Médio",
                  "line": {
                    "color": "#EF553B",
                    "dash": "solid"
                  },
                  "marker": {
                    "symbol": "circle"
                  },
                  "mode": "markers+lines",
                  "name": "Médio",
                  "orientation": "h",
                  "showlegend": false,
                  "type": "scatter",
                  "x": [
                    2019,
                    2020,
                    2021
                  ],
                  "xaxis": "x2",
                  "y": [
                    506.4814815,
                    480.552777775,
                    527.8955555555556
                  ],
                  "yaxis": "y2"
                },
                {
                  "hovertemplate": "Valor=Médio<br>modalidade=Pretos, Pardos e Indígenas (PPI)<br>Ano de ingresso=%{x}<br>=%{y}<extra></extra>",
                  "legendgroup": "Médio",
                  "line": {
                    "color": "#EF553B",
                    "dash": "solid"
                  },
                  "marker": {
                    "symbol": "circle"
                  },
                  "mode": "markers+lines",
                  "name": "Médio",
                  "orientation": "h",
                  "showlegend": false,
                  "type": "scatter",
                  "x": [
                    2019
                  ],
                  "xaxis": "x",
                  "y": [
                    474.63
                  ],
                  "yaxis": "y"
                },
                {
                  "hovertemplate": "Valor=Mínimo<br>modalidade=Ampla Concorrência (AC)<br>Ano de ingresso=%{x}<br>=%{y}<extra></extra>",
                  "legendgroup": "Mínimo",
                  "line": {
                    "color": "#00cc96",
                    "dash": "solid"
                  },
                  "marker": {
                    "symbol": "circle"
                  },
                  "mode": "markers+lines",
                  "name": "Mínimo",
                  "orientation": "h",
                  "showlegend": true,
                  "type": "scatter",
                  "x": [
                    2020,
                    2021
                  ],
                  "xaxis": "x3",
                  "y": [
                    575.7296296,
                    577.96
                  ],
                  "yaxis": "y3"
                },
                {
                  "hovertemplate": "Valor=Mínimo<br>modalidade=Escola Pública (EP)<br>Ano de ingresso=%{x}<br>=%{y}<extra></extra>",
                  "legendgroup": "Mínimo",
                  "line": {
                    "color": "#00cc96",
                    "dash": "solid"
                  },
                  "marker": {
                    "symbol": "circle"
                  },
                  "mode": "markers+lines",
                  "name": "Mínimo",
                  "orientation": "h",
                  "showlegend": false,
                  "type": "scatter",
                  "x": [
                    2019,
                    2020,
                    2021
                  ],
                  "xaxis": "x2",
                  "y": [
                    506.4814815,
                    424.0851852,
                    479.44
                  ],
                  "yaxis": "y2"
                },
                {
                  "hovertemplate": "Valor=Mínimo<br>modalidade=Pretos, Pardos e Indígenas (PPI)<br>Ano de ingresso=%{x}<br>=%{y}<extra></extra>",
                  "legendgroup": "Mínimo",
                  "line": {
                    "color": "#00cc96",
                    "dash": "solid"
                  },
                  "marker": {
                    "symbol": "circle"
                  },
                  "mode": "markers+lines",
                  "name": "Mínimo",
                  "orientation": "h",
                  "showlegend": false,
                  "type": "scatter",
                  "x": [
                    2019
                  ],
                  "xaxis": "x",
                  "y": [
                    474.63
                  ],
                  "yaxis": "y"
                }
              ],
              "layout": {
                "annotations": [
                  {
                    "font": {},
                    "showarrow": false,
                    "text": "modalidade=Pretos, Pardos e Indígenas (PPI)",
                    "textangle": 90,
                    "x": 0.98,
                    "xanchor": "left",
                    "xref": "paper",
                    "y": 0.15666666666666665,
                    "yanchor": "middle",
                    "yref": "paper"
                  },
                  {
                    "font": {},
                    "showarrow": false,
                    "text": "modalidade=Escola Pública (EP)",
                    "textangle": 90,
                    "x": 0.98,
                    "xanchor": "left",
                    "xref": "paper",
                    "y": 0.4999999999999999,
                    "yanchor": "middle",
                    "yref": "paper"
                  },
                  {
                    "font": {},
                    "showarrow": false,
                    "text": "modalidade=Ampla Concorrência (AC)",
                    "textangle": 90,
                    "x": 0.98,
                    "xanchor": "left",
                    "xref": "paper",
                    "y": 0.8433333333333332,
                    "yanchor": "middle",
                    "yref": "paper"
                  }
                ],
                "legend": {
                  "title": {
                    "text": "Valor"
                  },
                  "tracegroupgap": 0
                },
                "margin": {
                  "t": 60
                },
                "template": {
                  "data": {
                    "bar": [
                      {
                        "error_x": {
                          "color": "#2a3f5f"
                        },
                        "error_y": {
                          "color": "#2a3f5f"
                        },
                        "marker": {
                          "line": {
                            "color": "#E5ECF6",
                            "width": 0.5
                          },
                          "pattern": {
                            "fillmode": "overlay",
                            "size": 10,
                            "solidity": 0.2
                          }
                        },
                        "type": "bar"
                      }
                    ],
                    "barpolar": [
                      {
                        "marker": {
                          "line": {
                            "color": "#E5ECF6",
                            "width": 0.5
                          },
                          "pattern": {
                            "fillmode": "overlay",
                            "size": 10,
                            "solidity": 0.2
                          }
                        },
                        "type": "barpolar"
                      }
                    ],
                    "carpet": [
                      {
                        "aaxis": {
                          "endlinecolor": "#2a3f5f",
                          "gridcolor": "white",
                          "linecolor": "white",
                          "minorgridcolor": "white",
                          "startlinecolor": "#2a3f5f"
                        },
                        "baxis": {
                          "endlinecolor": "#2a3f5f",
                          "gridcolor": "white",
                          "linecolor": "white",
                          "minorgridcolor": "white",
                          "startlinecolor": "#2a3f5f"
                        },
                        "type": "carpet"
                      }
                    ],
                    "choropleth": [
                      {
                        "colorbar": {
                          "outlinewidth": 0,
                          "ticks": ""
                        },
                        "type": "choropleth"
                      }
                    ],
                    "contour": [
                      {
                        "colorbar": {
                          "outlinewidth": 0,
                          "ticks": ""
                        },
                        "colorscale": [
                          [
                            0,
                            "#0d0887"
                          ],
                          [
                            0.1111111111111111,
                            "#46039f"
                          ],
                          [
                            0.2222222222222222,
                            "#7201a8"
                          ],
                          [
                            0.3333333333333333,
                            "#9c179e"
                          ],
                          [
                            0.4444444444444444,
                            "#bd3786"
                          ],
                          [
                            0.5555555555555556,
                            "#d8576b"
                          ],
                          [
                            0.6666666666666666,
                            "#ed7953"
                          ],
                          [
                            0.7777777777777778,
                            "#fb9f3a"
                          ],
                          [
                            0.8888888888888888,
                            "#fdca26"
                          ],
                          [
                            1,
                            "#f0f921"
                          ]
                        ],
                        "type": "contour"
                      }
                    ],
                    "contourcarpet": [
                      {
                        "colorbar": {
                          "outlinewidth": 0,
                          "ticks": ""
                        },
                        "type": "contourcarpet"
                      }
                    ],
                    "heatmap": [
                      {
                        "colorbar": {
                          "outlinewidth": 0,
                          "ticks": ""
                        },
                        "colorscale": [
                          [
                            0,
                            "#0d0887"
                          ],
                          [
                            0.1111111111111111,
                            "#46039f"
                          ],
                          [
                            0.2222222222222222,
                            "#7201a8"
                          ],
                          [
                            0.3333333333333333,
                            "#9c179e"
                          ],
                          [
                            0.4444444444444444,
                            "#bd3786"
                          ],
                          [
                            0.5555555555555556,
                            "#d8576b"
                          ],
                          [
                            0.6666666666666666,
                            "#ed7953"
                          ],
                          [
                            0.7777777777777778,
                            "#fb9f3a"
                          ],
                          [
                            0.8888888888888888,
                            "#fdca26"
                          ],
                          [
                            1,
                            "#f0f921"
                          ]
                        ],
                        "type": "heatmap"
                      }
                    ],
                    "heatmapgl": [
                      {
                        "colorbar": {
                          "outlinewidth": 0,
                          "ticks": ""
                        },
                        "colorscale": [
                          [
                            0,
                            "#0d0887"
                          ],
                          [
                            0.1111111111111111,
                            "#46039f"
                          ],
                          [
                            0.2222222222222222,
                            "#7201a8"
                          ],
                          [
                            0.3333333333333333,
                            "#9c179e"
                          ],
                          [
                            0.4444444444444444,
                            "#bd3786"
                          ],
                          [
                            0.5555555555555556,
                            "#d8576b"
                          ],
                          [
                            0.6666666666666666,
                            "#ed7953"
                          ],
                          [
                            0.7777777777777778,
                            "#fb9f3a"
                          ],
                          [
                            0.8888888888888888,
                            "#fdca26"
                          ],
                          [
                            1,
                            "#f0f921"
                          ]
                        ],
                        "type": "heatmapgl"
                      }
                    ],
                    "histogram": [
                      {
                        "marker": {
                          "pattern": {
                            "fillmode": "overlay",
                            "size": 10,
                            "solidity": 0.2
                          }
                        },
                        "type": "histogram"
                      }
                    ],
                    "histogram2d": [
                      {
                        "colorbar": {
                          "outlinewidth": 0,
                          "ticks": ""
                        },
                        "colorscale": [
                          [
                            0,
                            "#0d0887"
                          ],
                          [
                            0.1111111111111111,
                            "#46039f"
                          ],
                          [
                            0.2222222222222222,
                            "#7201a8"
                          ],
                          [
                            0.3333333333333333,
                            "#9c179e"
                          ],
                          [
                            0.4444444444444444,
                            "#bd3786"
                          ],
                          [
                            0.5555555555555556,
                            "#d8576b"
                          ],
                          [
                            0.6666666666666666,
                            "#ed7953"
                          ],
                          [
                            0.7777777777777778,
                            "#fb9f3a"
                          ],
                          [
                            0.8888888888888888,
                            "#fdca26"
                          ],
                          [
                            1,
                            "#f0f921"
                          ]
                        ],
                        "type": "histogram2d"
                      }
                    ],
                    "histogram2dcontour": [
                      {
                        "colorbar": {
                          "outlinewidth": 0,
                          "ticks": ""
                        },
                        "colorscale": [
                          [
                            0,
                            "#0d0887"
                          ],
                          [
                            0.1111111111111111,
                            "#46039f"
                          ],
                          [
                            0.2222222222222222,
                            "#7201a8"
                          ],
                          [
                            0.3333333333333333,
                            "#9c179e"
                          ],
                          [
                            0.4444444444444444,
                            "#bd3786"
                          ],
                          [
                            0.5555555555555556,
                            "#d8576b"
                          ],
                          [
                            0.6666666666666666,
                            "#ed7953"
                          ],
                          [
                            0.7777777777777778,
                            "#fb9f3a"
                          ],
                          [
                            0.8888888888888888,
                            "#fdca26"
                          ],
                          [
                            1,
                            "#f0f921"
                          ]
                        ],
                        "type": "histogram2dcontour"
                      }
                    ],
                    "mesh3d": [
                      {
                        "colorbar": {
                          "outlinewidth": 0,
                          "ticks": ""
                        },
                        "type": "mesh3d"
                      }
                    ],
                    "parcoords": [
                      {
                        "line": {
                          "colorbar": {
                            "outlinewidth": 0,
                            "ticks": ""
                          }
                        },
                        "type": "parcoords"
                      }
                    ],
                    "pie": [
                      {
                        "automargin": true,
                        "type": "pie"
                      }
                    ],
                    "scatter": [
                      {
                        "fillpattern": {
                          "fillmode": "overlay",
                          "size": 10,
                          "solidity": 0.2
                        },
                        "type": "scatter"
                      }
                    ],
                    "scatter3d": [
                      {
                        "line": {
                          "colorbar": {
                            "outlinewidth": 0,
                            "ticks": ""
                          }
                        },
                        "marker": {
                          "colorbar": {
                            "outlinewidth": 0,
                            "ticks": ""
                          }
                        },
                        "type": "scatter3d"
                      }
                    ],
                    "scattercarpet": [
                      {
                        "marker": {
                          "colorbar": {
                            "outlinewidth": 0,
                            "ticks": ""
                          }
                        },
                        "type": "scattercarpet"
                      }
                    ],
                    "scattergeo": [
                      {
                        "marker": {
                          "colorbar": {
                            "outlinewidth": 0,
                            "ticks": ""
                          }
                        },
                        "type": "scattergeo"
                      }
                    ],
                    "scattergl": [
                      {
                        "marker": {
                          "colorbar": {
                            "outlinewidth": 0,
                            "ticks": ""
                          }
                        },
                        "type": "scattergl"
                      }
                    ],
                    "scattermapbox": [
                      {
                        "marker": {
                          "colorbar": {
                            "outlinewidth": 0,
                            "ticks": ""
                          }
                        },
                        "type": "scattermapbox"
                      }
                    ],
                    "scatterpolar": [
                      {
                        "marker": {
                          "colorbar": {
                            "outlinewidth": 0,
                            "ticks": ""
                          }
                        },
                        "type": "scatterpolar"
                      }
                    ],
                    "scatterpolargl": [
                      {
                        "marker": {
                          "colorbar": {
                            "outlinewidth": 0,
                            "ticks": ""
                          }
                        },
                        "type": "scatterpolargl"
                      }
                    ],
                    "scatterternary": [
                      {
                        "marker": {
                          "colorbar": {
                            "outlinewidth": 0,
                            "ticks": ""
                          }
                        },
                        "type": "scatterternary"
                      }
                    ],
                    "surface": [
                      {
                        "colorbar": {
                          "outlinewidth": 0,
                          "ticks": ""
                        },
                        "colorscale": [
                          [
                            0,
                            "#0d0887"
                          ],
                          [
                            0.1111111111111111,
                            "#46039f"
                          ],
                          [
                            0.2222222222222222,
                            "#7201a8"
                          ],
                          [
                            0.3333333333333333,
                            "#9c179e"
                          ],
                          [
                            0.4444444444444444,
                            "#bd3786"
                          ],
                          [
                            0.5555555555555556,
                            "#d8576b"
                          ],
                          [
                            0.6666666666666666,
                            "#ed7953"
                          ],
                          [
                            0.7777777777777778,
                            "#fb9f3a"
                          ],
                          [
                            0.8888888888888888,
                            "#fdca26"
                          ],
                          [
                            1,
                            "#f0f921"
                          ]
                        ],
                        "type": "surface"
                      }
                    ],
                    "table": [
                      {
                        "cells": {
                          "fill": {
                            "color": "#EBF0F8"
                          },
                          "line": {
                            "color": "white"
                          }
                        },
                        "header": {
                          "fill": {
                            "color": "#C8D4E3"
                          },
                          "line": {
                            "color": "white"
                          }
                        },
                        "type": "table"
                      }
                    ]
                  },
                  "layout": {
                    "annotationdefaults": {
                      "arrowcolor": "#2a3f5f",
                      "arrowhead": 0,
                      "arrowwidth": 1
                    },
                    "autotypenumbers": "strict",
                    "coloraxis": {
                      "colorbar": {
                        "outlinewidth": 0,
                        "ticks": ""
                      }
                    },
                    "colorscale": {
                      "diverging": [
                        [
                          0,
                          "#8e0152"
                        ],
                        [
                          0.1,
                          "#c51b7d"
                        ],
                        [
                          0.2,
                          "#de77ae"
                        ],
                        [
                          0.3,
                          "#f1b6da"
                        ],
                        [
                          0.4,
                          "#fde0ef"
                        ],
                        [
                          0.5,
                          "#f7f7f7"
                        ],
                        [
                          0.6,
                          "#e6f5d0"
                        ],
                        [
                          0.7,
                          "#b8e186"
                        ],
                        [
                          0.8,
                          "#7fbc41"
                        ],
                        [
                          0.9,
                          "#4d9221"
                        ],
                        [
                          1,
                          "#276419"
                        ]
                      ],
                      "sequential": [
                        [
                          0,
                          "#0d0887"
                        ],
                        [
                          0.1111111111111111,
                          "#46039f"
                        ],
                        [
                          0.2222222222222222,
                          "#7201a8"
                        ],
                        [
                          0.3333333333333333,
                          "#9c179e"
                        ],
                        [
                          0.4444444444444444,
                          "#bd3786"
                        ],
                        [
                          0.5555555555555556,
                          "#d8576b"
                        ],
                        [
                          0.6666666666666666,
                          "#ed7953"
                        ],
                        [
                          0.7777777777777778,
                          "#fb9f3a"
                        ],
                        [
                          0.8888888888888888,
                          "#fdca26"
                        ],
                        [
                          1,
                          "#f0f921"
                        ]
                      ],
                      "sequentialminus": [
                        [
                          0,
                          "#0d0887"
                        ],
                        [
                          0.1111111111111111,
                          "#46039f"
                        ],
                        [
                          0.2222222222222222,
                          "#7201a8"
                        ],
                        [
                          0.3333333333333333,
                          "#9c179e"
                        ],
                        [
                          0.4444444444444444,
                          "#bd3786"
                        ],
                        [
                          0.5555555555555556,
                          "#d8576b"
                        ],
                        [
                          0.6666666666666666,
                          "#ed7953"
                        ],
                        [
                          0.7777777777777778,
                          "#fb9f3a"
                        ],
                        [
                          0.8888888888888888,
                          "#fdca26"
                        ],
                        [
                          1,
                          "#f0f921"
                        ]
                      ]
                    },
                    "colorway": [
                      "#636efa",
                      "#EF553B",
                      "#00cc96",
                      "#ab63fa",
                      "#FFA15A",
                      "#19d3f3",
                      "#FF6692",
                      "#B6E880",
                      "#FF97FF",
                      "#FECB52"
                    ],
                    "font": {
                      "color": "#2a3f5f"
                    },
                    "geo": {
                      "bgcolor": "white",
                      "lakecolor": "white",
                      "landcolor": "#E5ECF6",
                      "showlakes": true,
                      "showland": true,
                      "subunitcolor": "white"
                    },
                    "hoverlabel": {
                      "align": "left"
                    },
                    "hovermode": "closest",
                    "mapbox": {
                      "style": "light"
                    },
                    "paper_bgcolor": "white",
                    "plot_bgcolor": "#E5ECF6",
                    "polar": {
                      "angularaxis": {
                        "gridcolor": "white",
                        "linecolor": "white",
                        "ticks": ""
                      },
                      "bgcolor": "#E5ECF6",
                      "radialaxis": {
                        "gridcolor": "white",
                        "linecolor": "white",
                        "ticks": ""
                      }
                    },
                    "scene": {
                      "xaxis": {
                        "backgroundcolor": "#E5ECF6",
                        "gridcolor": "white",
                        "gridwidth": 2,
                        "linecolor": "white",
                        "showbackground": true,
                        "ticks": "",
                        "zerolinecolor": "white"
                      },
                      "yaxis": {
                        "backgroundcolor": "#E5ECF6",
                        "gridcolor": "white",
                        "gridwidth": 2,
                        "linecolor": "white",
                        "showbackground": true,
                        "ticks": "",
                        "zerolinecolor": "white"
                      },
                      "zaxis": {
                        "backgroundcolor": "#E5ECF6",
                        "gridcolor": "white",
                        "gridwidth": 2,
                        "linecolor": "white",
                        "showbackground": true,
                        "ticks": "",
                        "zerolinecolor": "white"
                      }
                    },
                    "shapedefaults": {
                      "line": {
                        "color": "#2a3f5f"
                      }
                    },
                    "ternary": {
                      "aaxis": {
                        "gridcolor": "white",
                        "linecolor": "white",
                        "ticks": ""
                      },
                      "baxis": {
                        "gridcolor": "white",
                        "linecolor": "white",
                        "ticks": ""
                      },
                      "bgcolor": "#E5ECF6",
                      "caxis": {
                        "gridcolor": "white",
                        "linecolor": "white",
                        "ticks": ""
                      }
                    },
                    "title": {
                      "x": 0.05
                    },
                    "xaxis": {
                      "automargin": true,
                      "gridcolor": "white",
                      "linecolor": "white",
                      "ticks": "",
                      "title": {
                        "standoff": 15
                      },
                      "zerolinecolor": "white",
                      "zerolinewidth": 2
                    },
                    "yaxis": {
                      "automargin": true,
                      "gridcolor": "white",
                      "linecolor": "white",
                      "ticks": "",
                      "title": {
                        "standoff": 15
                      },
                      "zerolinecolor": "white",
                      "zerolinewidth": 2
                    }
                  }
                },
                "xaxis": {
                  "anchor": "y",
                  "domain": [
                    0,
                    0.98
                  ],
                  "title": {
                    "text": "Ano de ingresso"
                  }
                },
                "xaxis2": {
                  "anchor": "y2",
                  "domain": [
                    0,
                    0.98
                  ],
                  "matches": "x",
                  "showticklabels": false
                },
                "xaxis3": {
                  "anchor": "y3",
                  "domain": [
                    0,
                    0.98
                  ],
                  "matches": "x",
                  "showticklabels": false
                },
                "yaxis": {
                  "anchor": "x",
                  "domain": [
                    0,
                    0.3133333333333333
                  ],
                  "title": {
                    "text": ""
                  }
                },
                "yaxis2": {
                  "anchor": "x2",
                  "domain": [
                    0.34333333333333327,
                    0.6566666666666665
                  ],
                  "matches": "y",
                  "title": {
                    "text": ""
                  }
                },
                "yaxis3": {
                  "anchor": "x3",
                  "domain": [
                    0.6866666666666665,
                    0.9999999999999998
                  ],
                  "matches": "y",
                  "title": {
                    "text": ""
                  }
                }
              }
            }
          },
          "metadata": {},
          "output_type": "display_data"
        }
      ],
      "source": [
        "px.line(\n",
        "  molten_example_metrics,\n",
        "  x='ano', y='nota',\n",
        "  color='metric',\n",
        "  facet_row='modalidade',\n",
        "  markers=True,\n",
        "\n",
        "  labels={\n",
        "      'ano': 'Ano de ingresso',\n",
        "      'nota': '',\n",
        "      'metric': 'Valor',\n",
        "  },\n",
        "  category_orders={\n",
        "      'modalidade': ['Ampla Concorrência (AC)',\n",
        "                     'Escola Pública (EP)', \n",
        "                     'Pretos, Pardos e Indígenas (PPI)'],\n",
        "      'metric': ['Máximo', 'Médio', 'Mínimo'],\n",
        "  },\n",
        ")"
      ]
    },
    {
      "cell_type": "code",
      "execution_count": 41,
      "metadata": {
        "colab": {
          "base_uri": "https://localhost:8080/",
          "height": 560
        },
        "id": "wOl0I3j4PqX-",
        "outputId": "f599b467-4c1e-4b70-d601-a4fc1aa82f66"
      },
      "outputs": [
        {
          "name": "stdout",
          "output_type": "stream",
          "text": [
            "126\n"
          ]
        },
        {
          "data": {
            "application/vnd.plotly.v1+json": {
              "config": {
                "plotlyServerURL": "https://plot.ly"
              },
              "data": [
                {
                  "hovertemplate": "Valor=Máximo<br>modalidade=Ampla Concorrência (AC)<br>Ano de ingresso=%{x}<br>=%{y}<extra></extra>",
                  "legendgroup": "Máximo",
                  "line": {
                    "color": "#636efa",
                    "dash": "solid"
                  },
                  "marker": {
                    "symbol": "circle"
                  },
                  "mode": "markers+lines",
                  "name": "Máximo",
                  "orientation": "h",
                  "showlegend": true,
                  "type": "scatter",
                  "x": [
                    2020,
                    2021
                  ],
                  "xaxis": "x3",
                  "y": [
                    644.6185185,
                    729.81
                  ],
                  "yaxis": "y3"
                },
                {
                  "hovertemplate": "Valor=Máximo<br>modalidade=Escola Pública (EP)<br>Ano de ingresso=%{x}<br>=%{y}<extra></extra>",
                  "legendgroup": "Máximo",
                  "line": {
                    "color": "#636efa",
                    "dash": "solid"
                  },
                  "marker": {
                    "symbol": "circle"
                  },
                  "mode": "markers+lines",
                  "name": "Máximo",
                  "orientation": "h",
                  "showlegend": false,
                  "type": "scatter",
                  "x": [
                    2019,
                    2020,
                    2021
                  ],
                  "xaxis": "x2",
                  "y": [
                    506.4814815,
                    546.6666667,
                    579.26
                  ],
                  "yaxis": "y2"
                },
                {
                  "hovertemplate": "Valor=Máximo<br>modalidade=Pretos, Pardos e Indígenas (PPI)<br>Ano de ingresso=%{x}<br>=%{y}<extra></extra>",
                  "legendgroup": "Máximo",
                  "line": {
                    "color": "#636efa",
                    "dash": "solid"
                  },
                  "marker": {
                    "symbol": "circle"
                  },
                  "mode": "markers+lines",
                  "name": "Máximo",
                  "orientation": "h",
                  "showlegend": false,
                  "type": "scatter",
                  "x": [
                    2019
                  ],
                  "xaxis": "x",
                  "y": [
                    474.63
                  ],
                  "yaxis": "y"
                },
                {
                  "hovertemplate": "Valor=Médio<br>modalidade=Ampla Concorrência (AC)<br>Ano de ingresso=%{x}<br>=%{y}<extra></extra>",
                  "legendgroup": "Médio",
                  "line": {
                    "color": "#EF553B",
                    "dash": "solid"
                  },
                  "marker": {
                    "symbol": "circle"
                  },
                  "mode": "markers+lines",
                  "name": "Médio",
                  "orientation": "h",
                  "showlegend": true,
                  "type": "scatter",
                  "x": [
                    2020,
                    2021
                  ],
                  "xaxis": "x3",
                  "y": [
                    609.765740725,
                    649.51375
                  ],
                  "yaxis": "y3"
                },
                {
                  "hovertemplate": "Valor=Médio<br>modalidade=Escola Pública (EP)<br>Ano de ingresso=%{x}<br>=%{y}<extra></extra>",
                  "legendgroup": "Médio",
                  "line": {
                    "color": "#EF553B",
                    "dash": "solid"
                  },
                  "marker": {
                    "symbol": "circle"
                  },
                  "mode": "markers+lines",
                  "name": "Médio",
                  "orientation": "h",
                  "showlegend": false,
                  "type": "scatter",
                  "x": [
                    2019,
                    2020,
                    2021
                  ],
                  "xaxis": "x2",
                  "y": [
                    506.4814815,
                    480.552777775,
                    527.8955555555556
                  ],
                  "yaxis": "y2"
                },
                {
                  "hovertemplate": "Valor=Médio<br>modalidade=Pretos, Pardos e Indígenas (PPI)<br>Ano de ingresso=%{x}<br>=%{y}<extra></extra>",
                  "legendgroup": "Médio",
                  "line": {
                    "color": "#EF553B",
                    "dash": "solid"
                  },
                  "marker": {
                    "symbol": "circle"
                  },
                  "mode": "markers+lines",
                  "name": "Médio",
                  "orientation": "h",
                  "showlegend": false,
                  "type": "scatter",
                  "x": [
                    2019
                  ],
                  "xaxis": "x",
                  "y": [
                    474.63
                  ],
                  "yaxis": "y"
                },
                {
                  "hovertemplate": "Valor=Mínimo<br>modalidade=Ampla Concorrência (AC)<br>Ano de ingresso=%{x}<br>=%{y}<extra></extra>",
                  "legendgroup": "Mínimo",
                  "line": {
                    "color": "#00cc96",
                    "dash": "solid"
                  },
                  "marker": {
                    "symbol": "circle"
                  },
                  "mode": "markers+lines",
                  "name": "Mínimo",
                  "orientation": "h",
                  "showlegend": true,
                  "type": "scatter",
                  "x": [
                    2020,
                    2021
                  ],
                  "xaxis": "x3",
                  "y": [
                    575.7296296,
                    577.96
                  ],
                  "yaxis": "y3"
                },
                {
                  "hovertemplate": "Valor=Mínimo<br>modalidade=Escola Pública (EP)<br>Ano de ingresso=%{x}<br>=%{y}<extra></extra>",
                  "legendgroup": "Mínimo",
                  "line": {
                    "color": "#00cc96",
                    "dash": "solid"
                  },
                  "marker": {
                    "symbol": "circle"
                  },
                  "mode": "markers+lines",
                  "name": "Mínimo",
                  "orientation": "h",
                  "showlegend": false,
                  "type": "scatter",
                  "x": [
                    2019,
                    2020,
                    2021
                  ],
                  "xaxis": "x2",
                  "y": [
                    506.4814815,
                    424.0851852,
                    479.44
                  ],
                  "yaxis": "y2"
                },
                {
                  "hovertemplate": "Valor=Mínimo<br>modalidade=Pretos, Pardos e Indígenas (PPI)<br>Ano de ingresso=%{x}<br>=%{y}<extra></extra>",
                  "legendgroup": "Mínimo",
                  "line": {
                    "color": "#00cc96",
                    "dash": "solid"
                  },
                  "marker": {
                    "symbol": "circle"
                  },
                  "mode": "markers+lines",
                  "name": "Mínimo",
                  "orientation": "h",
                  "showlegend": false,
                  "type": "scatter",
                  "x": [
                    2019
                  ],
                  "xaxis": "x",
                  "y": [
                    474.63
                  ],
                  "yaxis": "y"
                }
              ],
              "layout": {
                "annotations": [
                  {
                    "font": {},
                    "showarrow": false,
                    "text": "PPI",
                    "textangle": 90,
                    "x": 0.98,
                    "xanchor": "left",
                    "xref": "paper",
                    "y": 0.15666666666666665,
                    "yanchor": "middle",
                    "yref": "paper"
                  },
                  {
                    "font": {},
                    "showarrow": false,
                    "text": "EP",
                    "textangle": 90,
                    "x": 0.98,
                    "xanchor": "left",
                    "xref": "paper",
                    "y": 0.4999999999999999,
                    "yanchor": "middle",
                    "yref": "paper"
                  },
                  {
                    "font": {},
                    "showarrow": false,
                    "text": "AC",
                    "textangle": 90,
                    "x": 0.98,
                    "xanchor": "left",
                    "xref": "paper",
                    "y": 0.8433333333333332,
                    "yanchor": "middle",
                    "yref": "paper"
                  }
                ],
                "legend": {
                  "title": {
                    "text": "Valor"
                  },
                  "tracegroupgap": 0
                },
                "margin": {
                  "t": 60
                },
                "template": {
                  "data": {
                    "bar": [
                      {
                        "error_x": {
                          "color": "#2a3f5f"
                        },
                        "error_y": {
                          "color": "#2a3f5f"
                        },
                        "marker": {
                          "line": {
                            "color": "#E5ECF6",
                            "width": 0.5
                          },
                          "pattern": {
                            "fillmode": "overlay",
                            "size": 10,
                            "solidity": 0.2
                          }
                        },
                        "type": "bar"
                      }
                    ],
                    "barpolar": [
                      {
                        "marker": {
                          "line": {
                            "color": "#E5ECF6",
                            "width": 0.5
                          },
                          "pattern": {
                            "fillmode": "overlay",
                            "size": 10,
                            "solidity": 0.2
                          }
                        },
                        "type": "barpolar"
                      }
                    ],
                    "carpet": [
                      {
                        "aaxis": {
                          "endlinecolor": "#2a3f5f",
                          "gridcolor": "white",
                          "linecolor": "white",
                          "minorgridcolor": "white",
                          "startlinecolor": "#2a3f5f"
                        },
                        "baxis": {
                          "endlinecolor": "#2a3f5f",
                          "gridcolor": "white",
                          "linecolor": "white",
                          "minorgridcolor": "white",
                          "startlinecolor": "#2a3f5f"
                        },
                        "type": "carpet"
                      }
                    ],
                    "choropleth": [
                      {
                        "colorbar": {
                          "outlinewidth": 0,
                          "ticks": ""
                        },
                        "type": "choropleth"
                      }
                    ],
                    "contour": [
                      {
                        "colorbar": {
                          "outlinewidth": 0,
                          "ticks": ""
                        },
                        "colorscale": [
                          [
                            0,
                            "#0d0887"
                          ],
                          [
                            0.1111111111111111,
                            "#46039f"
                          ],
                          [
                            0.2222222222222222,
                            "#7201a8"
                          ],
                          [
                            0.3333333333333333,
                            "#9c179e"
                          ],
                          [
                            0.4444444444444444,
                            "#bd3786"
                          ],
                          [
                            0.5555555555555556,
                            "#d8576b"
                          ],
                          [
                            0.6666666666666666,
                            "#ed7953"
                          ],
                          [
                            0.7777777777777778,
                            "#fb9f3a"
                          ],
                          [
                            0.8888888888888888,
                            "#fdca26"
                          ],
                          [
                            1,
                            "#f0f921"
                          ]
                        ],
                        "type": "contour"
                      }
                    ],
                    "contourcarpet": [
                      {
                        "colorbar": {
                          "outlinewidth": 0,
                          "ticks": ""
                        },
                        "type": "contourcarpet"
                      }
                    ],
                    "heatmap": [
                      {
                        "colorbar": {
                          "outlinewidth": 0,
                          "ticks": ""
                        },
                        "colorscale": [
                          [
                            0,
                            "#0d0887"
                          ],
                          [
                            0.1111111111111111,
                            "#46039f"
                          ],
                          [
                            0.2222222222222222,
                            "#7201a8"
                          ],
                          [
                            0.3333333333333333,
                            "#9c179e"
                          ],
                          [
                            0.4444444444444444,
                            "#bd3786"
                          ],
                          [
                            0.5555555555555556,
                            "#d8576b"
                          ],
                          [
                            0.6666666666666666,
                            "#ed7953"
                          ],
                          [
                            0.7777777777777778,
                            "#fb9f3a"
                          ],
                          [
                            0.8888888888888888,
                            "#fdca26"
                          ],
                          [
                            1,
                            "#f0f921"
                          ]
                        ],
                        "type": "heatmap"
                      }
                    ],
                    "heatmapgl": [
                      {
                        "colorbar": {
                          "outlinewidth": 0,
                          "ticks": ""
                        },
                        "colorscale": [
                          [
                            0,
                            "#0d0887"
                          ],
                          [
                            0.1111111111111111,
                            "#46039f"
                          ],
                          [
                            0.2222222222222222,
                            "#7201a8"
                          ],
                          [
                            0.3333333333333333,
                            "#9c179e"
                          ],
                          [
                            0.4444444444444444,
                            "#bd3786"
                          ],
                          [
                            0.5555555555555556,
                            "#d8576b"
                          ],
                          [
                            0.6666666666666666,
                            "#ed7953"
                          ],
                          [
                            0.7777777777777778,
                            "#fb9f3a"
                          ],
                          [
                            0.8888888888888888,
                            "#fdca26"
                          ],
                          [
                            1,
                            "#f0f921"
                          ]
                        ],
                        "type": "heatmapgl"
                      }
                    ],
                    "histogram": [
                      {
                        "marker": {
                          "pattern": {
                            "fillmode": "overlay",
                            "size": 10,
                            "solidity": 0.2
                          }
                        },
                        "type": "histogram"
                      }
                    ],
                    "histogram2d": [
                      {
                        "colorbar": {
                          "outlinewidth": 0,
                          "ticks": ""
                        },
                        "colorscale": [
                          [
                            0,
                            "#0d0887"
                          ],
                          [
                            0.1111111111111111,
                            "#46039f"
                          ],
                          [
                            0.2222222222222222,
                            "#7201a8"
                          ],
                          [
                            0.3333333333333333,
                            "#9c179e"
                          ],
                          [
                            0.4444444444444444,
                            "#bd3786"
                          ],
                          [
                            0.5555555555555556,
                            "#d8576b"
                          ],
                          [
                            0.6666666666666666,
                            "#ed7953"
                          ],
                          [
                            0.7777777777777778,
                            "#fb9f3a"
                          ],
                          [
                            0.8888888888888888,
                            "#fdca26"
                          ],
                          [
                            1,
                            "#f0f921"
                          ]
                        ],
                        "type": "histogram2d"
                      }
                    ],
                    "histogram2dcontour": [
                      {
                        "colorbar": {
                          "outlinewidth": 0,
                          "ticks": ""
                        },
                        "colorscale": [
                          [
                            0,
                            "#0d0887"
                          ],
                          [
                            0.1111111111111111,
                            "#46039f"
                          ],
                          [
                            0.2222222222222222,
                            "#7201a8"
                          ],
                          [
                            0.3333333333333333,
                            "#9c179e"
                          ],
                          [
                            0.4444444444444444,
                            "#bd3786"
                          ],
                          [
                            0.5555555555555556,
                            "#d8576b"
                          ],
                          [
                            0.6666666666666666,
                            "#ed7953"
                          ],
                          [
                            0.7777777777777778,
                            "#fb9f3a"
                          ],
                          [
                            0.8888888888888888,
                            "#fdca26"
                          ],
                          [
                            1,
                            "#f0f921"
                          ]
                        ],
                        "type": "histogram2dcontour"
                      }
                    ],
                    "mesh3d": [
                      {
                        "colorbar": {
                          "outlinewidth": 0,
                          "ticks": ""
                        },
                        "type": "mesh3d"
                      }
                    ],
                    "parcoords": [
                      {
                        "line": {
                          "colorbar": {
                            "outlinewidth": 0,
                            "ticks": ""
                          }
                        },
                        "type": "parcoords"
                      }
                    ],
                    "pie": [
                      {
                        "automargin": true,
                        "type": "pie"
                      }
                    ],
                    "scatter": [
                      {
                        "fillpattern": {
                          "fillmode": "overlay",
                          "size": 10,
                          "solidity": 0.2
                        },
                        "type": "scatter"
                      }
                    ],
                    "scatter3d": [
                      {
                        "line": {
                          "colorbar": {
                            "outlinewidth": 0,
                            "ticks": ""
                          }
                        },
                        "marker": {
                          "colorbar": {
                            "outlinewidth": 0,
                            "ticks": ""
                          }
                        },
                        "type": "scatter3d"
                      }
                    ],
                    "scattercarpet": [
                      {
                        "marker": {
                          "colorbar": {
                            "outlinewidth": 0,
                            "ticks": ""
                          }
                        },
                        "type": "scattercarpet"
                      }
                    ],
                    "scattergeo": [
                      {
                        "marker": {
                          "colorbar": {
                            "outlinewidth": 0,
                            "ticks": ""
                          }
                        },
                        "type": "scattergeo"
                      }
                    ],
                    "scattergl": [
                      {
                        "marker": {
                          "colorbar": {
                            "outlinewidth": 0,
                            "ticks": ""
                          }
                        },
                        "type": "scattergl"
                      }
                    ],
                    "scattermapbox": [
                      {
                        "marker": {
                          "colorbar": {
                            "outlinewidth": 0,
                            "ticks": ""
                          }
                        },
                        "type": "scattermapbox"
                      }
                    ],
                    "scatterpolar": [
                      {
                        "marker": {
                          "colorbar": {
                            "outlinewidth": 0,
                            "ticks": ""
                          }
                        },
                        "type": "scatterpolar"
                      }
                    ],
                    "scatterpolargl": [
                      {
                        "marker": {
                          "colorbar": {
                            "outlinewidth": 0,
                            "ticks": ""
                          }
                        },
                        "type": "scatterpolargl"
                      }
                    ],
                    "scatterternary": [
                      {
                        "marker": {
                          "colorbar": {
                            "outlinewidth": 0,
                            "ticks": ""
                          }
                        },
                        "type": "scatterternary"
                      }
                    ],
                    "surface": [
                      {
                        "colorbar": {
                          "outlinewidth": 0,
                          "ticks": ""
                        },
                        "colorscale": [
                          [
                            0,
                            "#0d0887"
                          ],
                          [
                            0.1111111111111111,
                            "#46039f"
                          ],
                          [
                            0.2222222222222222,
                            "#7201a8"
                          ],
                          [
                            0.3333333333333333,
                            "#9c179e"
                          ],
                          [
                            0.4444444444444444,
                            "#bd3786"
                          ],
                          [
                            0.5555555555555556,
                            "#d8576b"
                          ],
                          [
                            0.6666666666666666,
                            "#ed7953"
                          ],
                          [
                            0.7777777777777778,
                            "#fb9f3a"
                          ],
                          [
                            0.8888888888888888,
                            "#fdca26"
                          ],
                          [
                            1,
                            "#f0f921"
                          ]
                        ],
                        "type": "surface"
                      }
                    ],
                    "table": [
                      {
                        "cells": {
                          "fill": {
                            "color": "#EBF0F8"
                          },
                          "line": {
                            "color": "white"
                          }
                        },
                        "header": {
                          "fill": {
                            "color": "#C8D4E3"
                          },
                          "line": {
                            "color": "white"
                          }
                        },
                        "type": "table"
                      }
                    ]
                  },
                  "layout": {
                    "annotationdefaults": {
                      "arrowcolor": "#2a3f5f",
                      "arrowhead": 0,
                      "arrowwidth": 1
                    },
                    "autotypenumbers": "strict",
                    "coloraxis": {
                      "colorbar": {
                        "outlinewidth": 0,
                        "ticks": ""
                      }
                    },
                    "colorscale": {
                      "diverging": [
                        [
                          0,
                          "#8e0152"
                        ],
                        [
                          0.1,
                          "#c51b7d"
                        ],
                        [
                          0.2,
                          "#de77ae"
                        ],
                        [
                          0.3,
                          "#f1b6da"
                        ],
                        [
                          0.4,
                          "#fde0ef"
                        ],
                        [
                          0.5,
                          "#f7f7f7"
                        ],
                        [
                          0.6,
                          "#e6f5d0"
                        ],
                        [
                          0.7,
                          "#b8e186"
                        ],
                        [
                          0.8,
                          "#7fbc41"
                        ],
                        [
                          0.9,
                          "#4d9221"
                        ],
                        [
                          1,
                          "#276419"
                        ]
                      ],
                      "sequential": [
                        [
                          0,
                          "#0d0887"
                        ],
                        [
                          0.1111111111111111,
                          "#46039f"
                        ],
                        [
                          0.2222222222222222,
                          "#7201a8"
                        ],
                        [
                          0.3333333333333333,
                          "#9c179e"
                        ],
                        [
                          0.4444444444444444,
                          "#bd3786"
                        ],
                        [
                          0.5555555555555556,
                          "#d8576b"
                        ],
                        [
                          0.6666666666666666,
                          "#ed7953"
                        ],
                        [
                          0.7777777777777778,
                          "#fb9f3a"
                        ],
                        [
                          0.8888888888888888,
                          "#fdca26"
                        ],
                        [
                          1,
                          "#f0f921"
                        ]
                      ],
                      "sequentialminus": [
                        [
                          0,
                          "#0d0887"
                        ],
                        [
                          0.1111111111111111,
                          "#46039f"
                        ],
                        [
                          0.2222222222222222,
                          "#7201a8"
                        ],
                        [
                          0.3333333333333333,
                          "#9c179e"
                        ],
                        [
                          0.4444444444444444,
                          "#bd3786"
                        ],
                        [
                          0.5555555555555556,
                          "#d8576b"
                        ],
                        [
                          0.6666666666666666,
                          "#ed7953"
                        ],
                        [
                          0.7777777777777778,
                          "#fb9f3a"
                        ],
                        [
                          0.8888888888888888,
                          "#fdca26"
                        ],
                        [
                          1,
                          "#f0f921"
                        ]
                      ]
                    },
                    "colorway": [
                      "#636efa",
                      "#EF553B",
                      "#00cc96",
                      "#ab63fa",
                      "#FFA15A",
                      "#19d3f3",
                      "#FF6692",
                      "#B6E880",
                      "#FF97FF",
                      "#FECB52"
                    ],
                    "font": {
                      "color": "#2a3f5f"
                    },
                    "geo": {
                      "bgcolor": "white",
                      "lakecolor": "white",
                      "landcolor": "#E5ECF6",
                      "showlakes": true,
                      "showland": true,
                      "subunitcolor": "white"
                    },
                    "hoverlabel": {
                      "align": "left"
                    },
                    "hovermode": "closest",
                    "mapbox": {
                      "style": "light"
                    },
                    "paper_bgcolor": "white",
                    "plot_bgcolor": "#E5ECF6",
                    "polar": {
                      "angularaxis": {
                        "gridcolor": "white",
                        "linecolor": "white",
                        "ticks": ""
                      },
                      "bgcolor": "#E5ECF6",
                      "radialaxis": {
                        "gridcolor": "white",
                        "linecolor": "white",
                        "ticks": ""
                      }
                    },
                    "scene": {
                      "xaxis": {
                        "backgroundcolor": "#E5ECF6",
                        "gridcolor": "white",
                        "gridwidth": 2,
                        "linecolor": "white",
                        "showbackground": true,
                        "ticks": "",
                        "zerolinecolor": "white"
                      },
                      "yaxis": {
                        "backgroundcolor": "#E5ECF6",
                        "gridcolor": "white",
                        "gridwidth": 2,
                        "linecolor": "white",
                        "showbackground": true,
                        "ticks": "",
                        "zerolinecolor": "white"
                      },
                      "zaxis": {
                        "backgroundcolor": "#E5ECF6",
                        "gridcolor": "white",
                        "gridwidth": 2,
                        "linecolor": "white",
                        "showbackground": true,
                        "ticks": "",
                        "zerolinecolor": "white"
                      }
                    },
                    "shapedefaults": {
                      "line": {
                        "color": "#2a3f5f"
                      }
                    },
                    "ternary": {
                      "aaxis": {
                        "gridcolor": "white",
                        "linecolor": "white",
                        "ticks": ""
                      },
                      "baxis": {
                        "gridcolor": "white",
                        "linecolor": "white",
                        "ticks": ""
                      },
                      "bgcolor": "#E5ECF6",
                      "caxis": {
                        "gridcolor": "white",
                        "linecolor": "white",
                        "ticks": ""
                      }
                    },
                    "title": {
                      "x": 0.05
                    },
                    "xaxis": {
                      "automargin": true,
                      "gridcolor": "white",
                      "linecolor": "white",
                      "ticks": "",
                      "title": {
                        "standoff": 15
                      },
                      "zerolinecolor": "white",
                      "zerolinewidth": 2
                    },
                    "yaxis": {
                      "automargin": true,
                      "gridcolor": "white",
                      "linecolor": "white",
                      "ticks": "",
                      "title": {
                        "standoff": 15
                      },
                      "zerolinecolor": "white",
                      "zerolinewidth": 2
                    }
                  }
                },
                "xaxis": {
                  "anchor": "y",
                  "domain": [
                    0,
                    0.98
                  ],
                  "dtick": 1,
                  "fixedrange": true,
                  "tick0": 2019,
                  "tickmode": "linear",
                  "title": {
                    "text": "Ano de ingresso"
                  }
                },
                "xaxis2": {
                  "anchor": "y2",
                  "domain": [
                    0,
                    0.98
                  ],
                  "matches": "x",
                  "showticklabels": false
                },
                "xaxis3": {
                  "anchor": "y3",
                  "domain": [
                    0,
                    0.98
                  ],
                  "matches": "x",
                  "showticklabels": false
                },
                "yaxis": {
                  "anchor": "x",
                  "domain": [
                    0,
                    0.3133333333333333
                  ],
                  "fixedrange": true,
                  "title": {
                    "text": ""
                  }
                },
                "yaxis2": {
                  "anchor": "x2",
                  "domain": [
                    0.34333333333333327,
                    0.6566666666666665
                  ],
                  "matches": "y",
                  "title": {
                    "text": ""
                  }
                },
                "yaxis3": {
                  "anchor": "x3",
                  "domain": [
                    0.6866666666666665,
                    0.9999999999999998
                  ],
                  "matches": "y",
                  "title": {
                    "text": ""
                  }
                }
              }
            }
          },
          "metadata": {},
          "output_type": "display_data"
        }
      ],
      "source": [
        "def abbreviate_quota(plotly_annotation):\n",
        "  text = plotly_annotation.text\n",
        "  new_text = text\n",
        "  for abbreviation in ['AC', 'EP', 'PPI']:\n",
        "    if abbreviation in text:\n",
        "      new_text = abbreviation\n",
        "      break\n",
        "  \n",
        "  return plotly_annotation.update(text=new_text)\n",
        "\n",
        "figs = []\n",
        "for id, df in fuvest_metrics_df.groupby('id'):\n",
        "  molten_df = pd.melt(df.reset_index(),\n",
        "                      id_vars=['ano', 'modalidade'],\n",
        "                      value_vars=['Mínimo', 'Máximo', 'Médio'],\n",
        "                      var_name='metric',\n",
        "                      value_name='nota')\n",
        "  fig = px.line(\n",
        "    molten_df,\n",
        "    x='ano', y='nota',\n",
        "    color='metric',\n",
        "    facet_row='modalidade',\n",
        "    markers=True,\n",
        "\n",
        "    labels={\n",
        "        'ano': 'Ano de ingresso',\n",
        "        'nota': '',\n",
        "        'metric': 'Valor',\n",
        "    },\n",
        "    category_orders={\n",
        "        'modalidade': ['Ampla Concorrência (AC)',\n",
        "                      'Escola Pública (EP)', \n",
        "                      'Pretos, Pardos e Indígenas (PPI)'],\n",
        "        'metric': ['Máximo', 'Médio', 'Mínimo'],\n",
        "    },\n",
        "  )\n",
        "  first_year = molten_df.ano.min()\n",
        "  fig.update_layout(\n",
        "      xaxis=dict(\n",
        "          tickmode='linear',\n",
        "          tick0=first_year,\n",
        "          dtick=1,\n",
        "          fixedrange=True,\n",
        "      ),\n",
        "      yaxis=dict(\n",
        "          fixedrange=True,\n",
        "      ),\n",
        "  )\n",
        "  fig.for_each_annotation(abbreviate_quota)\n",
        "\n",
        "  figs.append(fig)\n",
        "\n",
        "print(len(figs))\n",
        "figs[0].show()"
      ]
    },
    {
      "cell_type": "code",
      "execution_count": 42,
      "metadata": {
        "colab": {
          "base_uri": "https://localhost:8080/",
          "height": 542
        },
        "id": "j4hX6lrPAdab",
        "outputId": "ecfc02c4-ac74-43e6-89c6-68ea882c3a23"
      },
      "outputs": [
        {
          "data": {
            "application/vnd.plotly.v1+json": {
              "config": {
                "plotlyServerURL": "https://plot.ly"
              },
              "data": [
                {
                  "hovertemplate": "Valor=Máximo<br>modalidade=Ampla Concorrência (AC)<br>Ano de ingresso=%{x}<br>=%{y}<extra></extra>",
                  "legendgroup": "Máximo",
                  "line": {
                    "color": "#636efa",
                    "dash": "solid"
                  },
                  "marker": {
                    "symbol": "circle"
                  },
                  "mode": "markers+lines",
                  "name": "Máximo",
                  "orientation": "h",
                  "showlegend": true,
                  "type": "scatter",
                  "x": [
                    2020
                  ],
                  "xaxis": "x3",
                  "y": [
                    814.63
                  ],
                  "yaxis": "y3"
                },
                {
                  "hovertemplate": "Valor=Máximo<br>modalidade=Escola Pública (EP)<br>Ano de ingresso=%{x}<br>=%{y}<extra></extra>",
                  "legendgroup": "Máximo",
                  "line": {
                    "color": "#636efa",
                    "dash": "solid"
                  },
                  "marker": {
                    "symbol": "circle"
                  },
                  "mode": "markers+lines",
                  "name": "Máximo",
                  "orientation": "h",
                  "showlegend": false,
                  "type": "scatter",
                  "x": [
                    2020
                  ],
                  "xaxis": "x2",
                  "y": [
                    633.33
                  ],
                  "yaxis": "y2"
                },
                {
                  "hovertemplate": "Valor=Máximo<br>modalidade=Pretos, Pardos e Indígenas (PPI)<br>Ano de ingresso=%{x}<br>=%{y}<extra></extra>",
                  "legendgroup": "Máximo",
                  "line": {
                    "color": "#636efa",
                    "dash": "solid"
                  },
                  "marker": {
                    "symbol": "circle"
                  },
                  "mode": "markers+lines",
                  "name": "Máximo",
                  "orientation": "h",
                  "showlegend": false,
                  "type": "scatter",
                  "x": [
                    2020,
                    2021
                  ],
                  "xaxis": "x",
                  "y": [
                    543.33,
                    538.52
                  ],
                  "yaxis": "y"
                },
                {
                  "hovertemplate": "Valor=Médio<br>modalidade=Ampla Concorrência (AC)<br>Ano de ingresso=%{x}<br>=%{y}<extra></extra>",
                  "legendgroup": "Médio",
                  "line": {
                    "color": "#EF553B",
                    "dash": "solid"
                  },
                  "marker": {
                    "symbol": "circle"
                  },
                  "mode": "markers+lines",
                  "name": "Médio",
                  "orientation": "h",
                  "showlegend": true,
                  "type": "scatter",
                  "x": [
                    2020
                  ],
                  "xaxis": "x3",
                  "y": [
                    658.528695652174
                  ],
                  "yaxis": "y3"
                },
                {
                  "hovertemplate": "Valor=Médio<br>modalidade=Escola Pública (EP)<br>Ano de ingresso=%{x}<br>=%{y}<extra></extra>",
                  "legendgroup": "Médio",
                  "line": {
                    "color": "#EF553B",
                    "dash": "solid"
                  },
                  "marker": {
                    "symbol": "circle"
                  },
                  "mode": "markers+lines",
                  "name": "Médio",
                  "orientation": "h",
                  "showlegend": false,
                  "type": "scatter",
                  "x": [
                    2020
                  ],
                  "xaxis": "x2",
                  "y": [
                    563.518
                  ],
                  "yaxis": "y2"
                },
                {
                  "hovertemplate": "Valor=Médio<br>modalidade=Pretos, Pardos e Indígenas (PPI)<br>Ano de ingresso=%{x}<br>=%{y}<extra></extra>",
                  "legendgroup": "Médio",
                  "line": {
                    "color": "#EF553B",
                    "dash": "solid"
                  },
                  "marker": {
                    "symbol": "circle"
                  },
                  "mode": "markers+lines",
                  "name": "Médio",
                  "orientation": "h",
                  "showlegend": false,
                  "type": "scatter",
                  "x": [
                    2020,
                    2021
                  ],
                  "xaxis": "x",
                  "y": [
                    492.07399999999996,
                    506.35999999999996
                  ],
                  "yaxis": "y"
                },
                {
                  "hovertemplate": "Valor=Mínimo<br>modalidade=Ampla Concorrência (AC)<br>Ano de ingresso=%{x}<br>=%{y}<extra></extra>",
                  "legendgroup": "Mínimo",
                  "line": {
                    "color": "#00cc96",
                    "dash": "solid"
                  },
                  "marker": {
                    "symbol": "circle"
                  },
                  "mode": "markers+lines",
                  "name": "Mínimo",
                  "orientation": "h",
                  "showlegend": true,
                  "type": "scatter",
                  "x": [
                    2020
                  ],
                  "xaxis": "x3",
                  "y": [
                    589.26
                  ],
                  "yaxis": "y3"
                },
                {
                  "hovertemplate": "Valor=Mínimo<br>modalidade=Escola Pública (EP)<br>Ano de ingresso=%{x}<br>=%{y}<extra></extra>",
                  "legendgroup": "Mínimo",
                  "line": {
                    "color": "#00cc96",
                    "dash": "solid"
                  },
                  "marker": {
                    "symbol": "circle"
                  },
                  "mode": "markers+lines",
                  "name": "Mínimo",
                  "orientation": "h",
                  "showlegend": false,
                  "type": "scatter",
                  "x": [
                    2020
                  ],
                  "xaxis": "x2",
                  "y": [
                    483.52
                  ],
                  "yaxis": "y2"
                },
                {
                  "hovertemplate": "Valor=Mínimo<br>modalidade=Pretos, Pardos e Indígenas (PPI)<br>Ano de ingresso=%{x}<br>=%{y}<extra></extra>",
                  "legendgroup": "Mínimo",
                  "line": {
                    "color": "#00cc96",
                    "dash": "solid"
                  },
                  "marker": {
                    "symbol": "circle"
                  },
                  "mode": "markers+lines",
                  "name": "Mínimo",
                  "orientation": "h",
                  "showlegend": false,
                  "type": "scatter",
                  "x": [
                    2020,
                    2021
                  ],
                  "xaxis": "x",
                  "y": [
                    400.93,
                    488.89
                  ],
                  "yaxis": "y"
                }
              ],
              "layout": {
                "annotations": [
                  {
                    "font": {},
                    "showarrow": false,
                    "text": "PPI",
                    "textangle": 90,
                    "x": 0.98,
                    "xanchor": "left",
                    "xref": "paper",
                    "y": 0.15666666666666665,
                    "yanchor": "middle",
                    "yref": "paper"
                  },
                  {
                    "font": {},
                    "showarrow": false,
                    "text": "EP",
                    "textangle": 90,
                    "x": 0.98,
                    "xanchor": "left",
                    "xref": "paper",
                    "y": 0.4999999999999999,
                    "yanchor": "middle",
                    "yref": "paper"
                  },
                  {
                    "font": {},
                    "showarrow": false,
                    "text": "AC",
                    "textangle": 90,
                    "x": 0.98,
                    "xanchor": "left",
                    "xref": "paper",
                    "y": 0.8433333333333332,
                    "yanchor": "middle",
                    "yref": "paper"
                  }
                ],
                "legend": {
                  "title": {
                    "text": "Valor"
                  },
                  "tracegroupgap": 0
                },
                "margin": {
                  "t": 60
                },
                "template": {
                  "data": {
                    "bar": [
                      {
                        "error_x": {
                          "color": "#2a3f5f"
                        },
                        "error_y": {
                          "color": "#2a3f5f"
                        },
                        "marker": {
                          "line": {
                            "color": "#E5ECF6",
                            "width": 0.5
                          },
                          "pattern": {
                            "fillmode": "overlay",
                            "size": 10,
                            "solidity": 0.2
                          }
                        },
                        "type": "bar"
                      }
                    ],
                    "barpolar": [
                      {
                        "marker": {
                          "line": {
                            "color": "#E5ECF6",
                            "width": 0.5
                          },
                          "pattern": {
                            "fillmode": "overlay",
                            "size": 10,
                            "solidity": 0.2
                          }
                        },
                        "type": "barpolar"
                      }
                    ],
                    "carpet": [
                      {
                        "aaxis": {
                          "endlinecolor": "#2a3f5f",
                          "gridcolor": "white",
                          "linecolor": "white",
                          "minorgridcolor": "white",
                          "startlinecolor": "#2a3f5f"
                        },
                        "baxis": {
                          "endlinecolor": "#2a3f5f",
                          "gridcolor": "white",
                          "linecolor": "white",
                          "minorgridcolor": "white",
                          "startlinecolor": "#2a3f5f"
                        },
                        "type": "carpet"
                      }
                    ],
                    "choropleth": [
                      {
                        "colorbar": {
                          "outlinewidth": 0,
                          "ticks": ""
                        },
                        "type": "choropleth"
                      }
                    ],
                    "contour": [
                      {
                        "colorbar": {
                          "outlinewidth": 0,
                          "ticks": ""
                        },
                        "colorscale": [
                          [
                            0,
                            "#0d0887"
                          ],
                          [
                            0.1111111111111111,
                            "#46039f"
                          ],
                          [
                            0.2222222222222222,
                            "#7201a8"
                          ],
                          [
                            0.3333333333333333,
                            "#9c179e"
                          ],
                          [
                            0.4444444444444444,
                            "#bd3786"
                          ],
                          [
                            0.5555555555555556,
                            "#d8576b"
                          ],
                          [
                            0.6666666666666666,
                            "#ed7953"
                          ],
                          [
                            0.7777777777777778,
                            "#fb9f3a"
                          ],
                          [
                            0.8888888888888888,
                            "#fdca26"
                          ],
                          [
                            1,
                            "#f0f921"
                          ]
                        ],
                        "type": "contour"
                      }
                    ],
                    "contourcarpet": [
                      {
                        "colorbar": {
                          "outlinewidth": 0,
                          "ticks": ""
                        },
                        "type": "contourcarpet"
                      }
                    ],
                    "heatmap": [
                      {
                        "colorbar": {
                          "outlinewidth": 0,
                          "ticks": ""
                        },
                        "colorscale": [
                          [
                            0,
                            "#0d0887"
                          ],
                          [
                            0.1111111111111111,
                            "#46039f"
                          ],
                          [
                            0.2222222222222222,
                            "#7201a8"
                          ],
                          [
                            0.3333333333333333,
                            "#9c179e"
                          ],
                          [
                            0.4444444444444444,
                            "#bd3786"
                          ],
                          [
                            0.5555555555555556,
                            "#d8576b"
                          ],
                          [
                            0.6666666666666666,
                            "#ed7953"
                          ],
                          [
                            0.7777777777777778,
                            "#fb9f3a"
                          ],
                          [
                            0.8888888888888888,
                            "#fdca26"
                          ],
                          [
                            1,
                            "#f0f921"
                          ]
                        ],
                        "type": "heatmap"
                      }
                    ],
                    "heatmapgl": [
                      {
                        "colorbar": {
                          "outlinewidth": 0,
                          "ticks": ""
                        },
                        "colorscale": [
                          [
                            0,
                            "#0d0887"
                          ],
                          [
                            0.1111111111111111,
                            "#46039f"
                          ],
                          [
                            0.2222222222222222,
                            "#7201a8"
                          ],
                          [
                            0.3333333333333333,
                            "#9c179e"
                          ],
                          [
                            0.4444444444444444,
                            "#bd3786"
                          ],
                          [
                            0.5555555555555556,
                            "#d8576b"
                          ],
                          [
                            0.6666666666666666,
                            "#ed7953"
                          ],
                          [
                            0.7777777777777778,
                            "#fb9f3a"
                          ],
                          [
                            0.8888888888888888,
                            "#fdca26"
                          ],
                          [
                            1,
                            "#f0f921"
                          ]
                        ],
                        "type": "heatmapgl"
                      }
                    ],
                    "histogram": [
                      {
                        "marker": {
                          "pattern": {
                            "fillmode": "overlay",
                            "size": 10,
                            "solidity": 0.2
                          }
                        },
                        "type": "histogram"
                      }
                    ],
                    "histogram2d": [
                      {
                        "colorbar": {
                          "outlinewidth": 0,
                          "ticks": ""
                        },
                        "colorscale": [
                          [
                            0,
                            "#0d0887"
                          ],
                          [
                            0.1111111111111111,
                            "#46039f"
                          ],
                          [
                            0.2222222222222222,
                            "#7201a8"
                          ],
                          [
                            0.3333333333333333,
                            "#9c179e"
                          ],
                          [
                            0.4444444444444444,
                            "#bd3786"
                          ],
                          [
                            0.5555555555555556,
                            "#d8576b"
                          ],
                          [
                            0.6666666666666666,
                            "#ed7953"
                          ],
                          [
                            0.7777777777777778,
                            "#fb9f3a"
                          ],
                          [
                            0.8888888888888888,
                            "#fdca26"
                          ],
                          [
                            1,
                            "#f0f921"
                          ]
                        ],
                        "type": "histogram2d"
                      }
                    ],
                    "histogram2dcontour": [
                      {
                        "colorbar": {
                          "outlinewidth": 0,
                          "ticks": ""
                        },
                        "colorscale": [
                          [
                            0,
                            "#0d0887"
                          ],
                          [
                            0.1111111111111111,
                            "#46039f"
                          ],
                          [
                            0.2222222222222222,
                            "#7201a8"
                          ],
                          [
                            0.3333333333333333,
                            "#9c179e"
                          ],
                          [
                            0.4444444444444444,
                            "#bd3786"
                          ],
                          [
                            0.5555555555555556,
                            "#d8576b"
                          ],
                          [
                            0.6666666666666666,
                            "#ed7953"
                          ],
                          [
                            0.7777777777777778,
                            "#fb9f3a"
                          ],
                          [
                            0.8888888888888888,
                            "#fdca26"
                          ],
                          [
                            1,
                            "#f0f921"
                          ]
                        ],
                        "type": "histogram2dcontour"
                      }
                    ],
                    "mesh3d": [
                      {
                        "colorbar": {
                          "outlinewidth": 0,
                          "ticks": ""
                        },
                        "type": "mesh3d"
                      }
                    ],
                    "parcoords": [
                      {
                        "line": {
                          "colorbar": {
                            "outlinewidth": 0,
                            "ticks": ""
                          }
                        },
                        "type": "parcoords"
                      }
                    ],
                    "pie": [
                      {
                        "automargin": true,
                        "type": "pie"
                      }
                    ],
                    "scatter": [
                      {
                        "fillpattern": {
                          "fillmode": "overlay",
                          "size": 10,
                          "solidity": 0.2
                        },
                        "type": "scatter"
                      }
                    ],
                    "scatter3d": [
                      {
                        "line": {
                          "colorbar": {
                            "outlinewidth": 0,
                            "ticks": ""
                          }
                        },
                        "marker": {
                          "colorbar": {
                            "outlinewidth": 0,
                            "ticks": ""
                          }
                        },
                        "type": "scatter3d"
                      }
                    ],
                    "scattercarpet": [
                      {
                        "marker": {
                          "colorbar": {
                            "outlinewidth": 0,
                            "ticks": ""
                          }
                        },
                        "type": "scattercarpet"
                      }
                    ],
                    "scattergeo": [
                      {
                        "marker": {
                          "colorbar": {
                            "outlinewidth": 0,
                            "ticks": ""
                          }
                        },
                        "type": "scattergeo"
                      }
                    ],
                    "scattergl": [
                      {
                        "marker": {
                          "colorbar": {
                            "outlinewidth": 0,
                            "ticks": ""
                          }
                        },
                        "type": "scattergl"
                      }
                    ],
                    "scattermapbox": [
                      {
                        "marker": {
                          "colorbar": {
                            "outlinewidth": 0,
                            "ticks": ""
                          }
                        },
                        "type": "scattermapbox"
                      }
                    ],
                    "scatterpolar": [
                      {
                        "marker": {
                          "colorbar": {
                            "outlinewidth": 0,
                            "ticks": ""
                          }
                        },
                        "type": "scatterpolar"
                      }
                    ],
                    "scatterpolargl": [
                      {
                        "marker": {
                          "colorbar": {
                            "outlinewidth": 0,
                            "ticks": ""
                          }
                        },
                        "type": "scatterpolargl"
                      }
                    ],
                    "scatterternary": [
                      {
                        "marker": {
                          "colorbar": {
                            "outlinewidth": 0,
                            "ticks": ""
                          }
                        },
                        "type": "scatterternary"
                      }
                    ],
                    "surface": [
                      {
                        "colorbar": {
                          "outlinewidth": 0,
                          "ticks": ""
                        },
                        "colorscale": [
                          [
                            0,
                            "#0d0887"
                          ],
                          [
                            0.1111111111111111,
                            "#46039f"
                          ],
                          [
                            0.2222222222222222,
                            "#7201a8"
                          ],
                          [
                            0.3333333333333333,
                            "#9c179e"
                          ],
                          [
                            0.4444444444444444,
                            "#bd3786"
                          ],
                          [
                            0.5555555555555556,
                            "#d8576b"
                          ],
                          [
                            0.6666666666666666,
                            "#ed7953"
                          ],
                          [
                            0.7777777777777778,
                            "#fb9f3a"
                          ],
                          [
                            0.8888888888888888,
                            "#fdca26"
                          ],
                          [
                            1,
                            "#f0f921"
                          ]
                        ],
                        "type": "surface"
                      }
                    ],
                    "table": [
                      {
                        "cells": {
                          "fill": {
                            "color": "#EBF0F8"
                          },
                          "line": {
                            "color": "white"
                          }
                        },
                        "header": {
                          "fill": {
                            "color": "#C8D4E3"
                          },
                          "line": {
                            "color": "white"
                          }
                        },
                        "type": "table"
                      }
                    ]
                  },
                  "layout": {
                    "annotationdefaults": {
                      "arrowcolor": "#2a3f5f",
                      "arrowhead": 0,
                      "arrowwidth": 1
                    },
                    "autotypenumbers": "strict",
                    "coloraxis": {
                      "colorbar": {
                        "outlinewidth": 0,
                        "ticks": ""
                      }
                    },
                    "colorscale": {
                      "diverging": [
                        [
                          0,
                          "#8e0152"
                        ],
                        [
                          0.1,
                          "#c51b7d"
                        ],
                        [
                          0.2,
                          "#de77ae"
                        ],
                        [
                          0.3,
                          "#f1b6da"
                        ],
                        [
                          0.4,
                          "#fde0ef"
                        ],
                        [
                          0.5,
                          "#f7f7f7"
                        ],
                        [
                          0.6,
                          "#e6f5d0"
                        ],
                        [
                          0.7,
                          "#b8e186"
                        ],
                        [
                          0.8,
                          "#7fbc41"
                        ],
                        [
                          0.9,
                          "#4d9221"
                        ],
                        [
                          1,
                          "#276419"
                        ]
                      ],
                      "sequential": [
                        [
                          0,
                          "#0d0887"
                        ],
                        [
                          0.1111111111111111,
                          "#46039f"
                        ],
                        [
                          0.2222222222222222,
                          "#7201a8"
                        ],
                        [
                          0.3333333333333333,
                          "#9c179e"
                        ],
                        [
                          0.4444444444444444,
                          "#bd3786"
                        ],
                        [
                          0.5555555555555556,
                          "#d8576b"
                        ],
                        [
                          0.6666666666666666,
                          "#ed7953"
                        ],
                        [
                          0.7777777777777778,
                          "#fb9f3a"
                        ],
                        [
                          0.8888888888888888,
                          "#fdca26"
                        ],
                        [
                          1,
                          "#f0f921"
                        ]
                      ],
                      "sequentialminus": [
                        [
                          0,
                          "#0d0887"
                        ],
                        [
                          0.1111111111111111,
                          "#46039f"
                        ],
                        [
                          0.2222222222222222,
                          "#7201a8"
                        ],
                        [
                          0.3333333333333333,
                          "#9c179e"
                        ],
                        [
                          0.4444444444444444,
                          "#bd3786"
                        ],
                        [
                          0.5555555555555556,
                          "#d8576b"
                        ],
                        [
                          0.6666666666666666,
                          "#ed7953"
                        ],
                        [
                          0.7777777777777778,
                          "#fb9f3a"
                        ],
                        [
                          0.8888888888888888,
                          "#fdca26"
                        ],
                        [
                          1,
                          "#f0f921"
                        ]
                      ]
                    },
                    "colorway": [
                      "#636efa",
                      "#EF553B",
                      "#00cc96",
                      "#ab63fa",
                      "#FFA15A",
                      "#19d3f3",
                      "#FF6692",
                      "#B6E880",
                      "#FF97FF",
                      "#FECB52"
                    ],
                    "font": {
                      "color": "#2a3f5f"
                    },
                    "geo": {
                      "bgcolor": "white",
                      "lakecolor": "white",
                      "landcolor": "#E5ECF6",
                      "showlakes": true,
                      "showland": true,
                      "subunitcolor": "white"
                    },
                    "hoverlabel": {
                      "align": "left"
                    },
                    "hovermode": "closest",
                    "mapbox": {
                      "style": "light"
                    },
                    "paper_bgcolor": "white",
                    "plot_bgcolor": "#E5ECF6",
                    "polar": {
                      "angularaxis": {
                        "gridcolor": "white",
                        "linecolor": "white",
                        "ticks": ""
                      },
                      "bgcolor": "#E5ECF6",
                      "radialaxis": {
                        "gridcolor": "white",
                        "linecolor": "white",
                        "ticks": ""
                      }
                    },
                    "scene": {
                      "xaxis": {
                        "backgroundcolor": "#E5ECF6",
                        "gridcolor": "white",
                        "gridwidth": 2,
                        "linecolor": "white",
                        "showbackground": true,
                        "ticks": "",
                        "zerolinecolor": "white"
                      },
                      "yaxis": {
                        "backgroundcolor": "#E5ECF6",
                        "gridcolor": "white",
                        "gridwidth": 2,
                        "linecolor": "white",
                        "showbackground": true,
                        "ticks": "",
                        "zerolinecolor": "white"
                      },
                      "zaxis": {
                        "backgroundcolor": "#E5ECF6",
                        "gridcolor": "white",
                        "gridwidth": 2,
                        "linecolor": "white",
                        "showbackground": true,
                        "ticks": "",
                        "zerolinecolor": "white"
                      }
                    },
                    "shapedefaults": {
                      "line": {
                        "color": "#2a3f5f"
                      }
                    },
                    "ternary": {
                      "aaxis": {
                        "gridcolor": "white",
                        "linecolor": "white",
                        "ticks": ""
                      },
                      "baxis": {
                        "gridcolor": "white",
                        "linecolor": "white",
                        "ticks": ""
                      },
                      "bgcolor": "#E5ECF6",
                      "caxis": {
                        "gridcolor": "white",
                        "linecolor": "white",
                        "ticks": ""
                      }
                    },
                    "title": {
                      "x": 0.05
                    },
                    "xaxis": {
                      "automargin": true,
                      "gridcolor": "white",
                      "linecolor": "white",
                      "ticks": "",
                      "title": {
                        "standoff": 15
                      },
                      "zerolinecolor": "white",
                      "zerolinewidth": 2
                    },
                    "yaxis": {
                      "automargin": true,
                      "gridcolor": "white",
                      "linecolor": "white",
                      "ticks": "",
                      "title": {
                        "standoff": 15
                      },
                      "zerolinecolor": "white",
                      "zerolinewidth": 2
                    }
                  }
                },
                "xaxis": {
                  "anchor": "y",
                  "domain": [
                    0,
                    0.98
                  ],
                  "dtick": 1,
                  "fixedrange": true,
                  "tick0": 2020,
                  "tickmode": "linear",
                  "title": {
                    "text": "Ano de ingresso"
                  }
                },
                "xaxis2": {
                  "anchor": "y2",
                  "domain": [
                    0,
                    0.98
                  ],
                  "matches": "x",
                  "showticklabels": false
                },
                "xaxis3": {
                  "anchor": "y3",
                  "domain": [
                    0,
                    0.98
                  ],
                  "matches": "x",
                  "showticklabels": false
                },
                "yaxis": {
                  "anchor": "x",
                  "domain": [
                    0,
                    0.3133333333333333
                  ],
                  "fixedrange": true,
                  "title": {
                    "text": ""
                  }
                },
                "yaxis2": {
                  "anchor": "x2",
                  "domain": [
                    0.34333333333333327,
                    0.6566666666666665
                  ],
                  "matches": "y",
                  "title": {
                    "text": ""
                  }
                },
                "yaxis3": {
                  "anchor": "x3",
                  "domain": [
                    0.6866666666666665,
                    0.9999999999999998
                  ],
                  "matches": "y",
                  "title": {
                    "text": ""
                  }
                }
              }
            }
          },
          "metadata": {},
          "output_type": "display_data"
        }
      ],
      "source": [
        "figs[102].show()"
      ]
    },
    {
      "cell_type": "code",
      "execution_count": 43,
      "metadata": {
        "id": "Kh0YD9JdQVuB"
      },
      "outputs": [],
      "source": [
        "def plot_metric_evolution(metrics_df, exam='fuvest'):\n",
        "\n",
        "  def abbreviate_quota(plotly_annotation):\n",
        "    text = plotly_annotation.text\n",
        "    new_text = text\n",
        "    for abbreviation in ['AC', 'EP', 'PPI']:\n",
        "      if abbreviation in text:\n",
        "        new_text = abbreviation\n",
        "        break\n",
        "    \n",
        "    return plotly_annotation.update(text=new_text)\n",
        "\n",
        "  for id, df in metrics_df.groupby('id'):\n",
        "    molten_df = pd.melt(df.reset_index(),\n",
        "                        id_vars=['ano', 'modalidade'],\n",
        "                        value_vars=['Mínimo', 'Máximo', 'Médio'],\n",
        "                        var_name='metric',\n",
        "                        value_name='nota')\n",
        "    fig = px.line(\n",
        "      molten_df,\n",
        "      x='ano', y='nota',\n",
        "      color='metric',\n",
        "      facet_row='modalidade',\n",
        "      markers=True,\n",
        "\n",
        "      labels={\n",
        "          'ano': 'Ano de ingresso',\n",
        "          'nota': '',\n",
        "          'metric': 'Valor',\n",
        "      },\n",
        "      category_orders={\n",
        "          'modalidade': ['Ampla Concorrência (AC)',\n",
        "                        'Escola Pública (EP)', \n",
        "                        'Pretos, Pardos e Indígenas (PPI)'],\n",
        "          'metric': ['Máximo', 'Médio', 'Mínimo'],\n",
        "      },\n",
        "    )\n",
        "    first_year = molten_df.ano.min()\n",
        "    fig.update_layout(\n",
        "        xaxis=dict(\n",
        "            tickmode='linear',\n",
        "            tick0=first_year,\n",
        "            dtick=1,\n",
        "            fixedrange=True,\n",
        "        ),\n",
        "        yaxis=dict(\n",
        "            fixedrange=True,\n",
        "        ),\n",
        "    )\n",
        "    fig.for_each_annotation(abbreviate_quota)\n",
        "\n",
        "    plotly_fig_to_html(\n",
        "      fig,\n",
        "      os.path.join(OUTPUT_PATH, str(id), exam,\n",
        "                   'metric_evolution.html'))"
      ]
    },
    {
      "cell_type": "code",
      "execution_count": 44,
      "metadata": {
        "id": "HLiHOvQkRSnB"
      },
      "outputs": [],
      "source": [
        "plot_metric_evolution(fuvest_metrics_df)"
      ]
    },
    {
      "cell_type": "markdown",
      "metadata": {
        "id": "EbdflwE3Qk5a"
      },
      "source": [
        "#### Metrics table for the latest year"
      ]
    },
    {
      "cell_type": "code",
      "execution_count": 45,
      "metadata": {
        "colab": {
          "base_uri": "https://localhost:8080/"
        },
        "id": "wFBBtcTPp_vA",
        "outputId": "cbff5066-417a-4dcb-d1c9-8c902bbf3467"
      },
      "outputs": [
        {
          "name": "stdout",
          "output_type": "stream",
          "text": [
            "0\n",
            "    ano                        modalidade      Mínimo       Médio      Máximo\n",
            "0  2019               Escola Pública (EP)  506.481481  506.481481  506.481481\n",
            "1  2019  Pretos, Pardos e Indígenas (PPI)      474.63      474.63      474.63\n",
            "2  2020           Ampla Concorrência (AC)   575.72963  609.765741  644.618519\n",
            "3  2020               Escola Pública (EP)  424.085185  480.552778  546.666667\n",
            "4  2021           Ampla Concorrência (AC)      577.96   649.51375      729.81\n",
            "5  2021               Escola Pública (EP)      479.44  527.895556      579.26\n",
            "2\n",
            "    ano           modalidade  Mínimo   Médio  Máximo\n",
            "6  2021  Escola Pública (EP)  352.78  352.78  352.78\n",
            "4\n",
            "     ano               modalidade      Mínimo       Médio      Máximo\n",
            "7   2020  Ampla Concorrência (AC)  573.344444  645.005556  735.555556\n",
            "8   2020      Escola Pública (EP)  465.988889  514.345679  544.455556\n",
            "9   2021  Ampla Concorrência (AC)      616.48   674.37375      823.33\n",
            "10  2021      Escola Pública (EP)      618.33      618.33      618.33\n",
            "6\n",
            "     ano               modalidade  Mínimo   Médio  Máximo\n",
            "11  2021  Ampla Concorrência (AC)  508.52  593.98  679.44\n",
            "12  2021      Escola Pública (EP)  499.26  499.26  499.26\n",
            "7\n",
            "     ano                        modalidade      Mínimo       Médio      Máximo\n",
            "13  2019               Escola Pública (EP)  450.196296  450.196296  450.196296\n",
            "14  2021           Ampla Concorrência (AC)      499.63      535.03      560.19\n",
            "15  2021               Escola Pública (EP)      474.07    500.3675      534.81\n",
            "16  2021  Pretos, Pardos e Indígenas (PPI)      522.78      522.78      522.78\n",
            "10\n",
            "     ano               modalidade  Mínimo    Médio  Máximo\n",
            "17  2021  Ampla Concorrência (AC)  413.15   431.62  454.44\n",
            "18  2021      Escola Pública (EP)  398.89  458.148   515.0\n",
            "11\n",
            "     ano               modalidade      Mínimo       Médio      Máximo\n",
            "19  2019  Ampla Concorrência (AC)   378.52963   378.52963   378.52963\n",
            "20  2020      Escola Pública (EP)  607.581481  607.581481  607.581481\n",
            "12\n",
            "     ano                        modalidade      Mínimo       Médio      Máximo\n",
            "21  2015               Escola Pública (EP)  414.444444  414.444444  414.444444\n",
            "22  2019           Ampla Concorrência (AC)  433.888889  439.253704  444.618518\n",
            "23  2020           Ampla Concorrência (AC)       413.7  529.594074  686.285185\n",
            "24  2020               Escola Pública (EP)  480.185185  480.185185  480.185185\n",
            "25  2021           Ampla Concorrência (AC)      498.52     575.095      642.41\n",
            "26  2021  Pretos, Pardos e Indígenas (PPI)      488.52      488.52      488.52\n",
            "14\n",
            "     ano                        modalidade  Mínimo     Médio  Máximo\n",
            "27  2020           Ampla Concorrência (AC)  472.41    472.41  472.41\n",
            "28  2021           Ampla Concorrência (AC)  537.59    577.91   616.0\n",
            "29  2021               Escola Pública (EP)  475.74  489.9525  498.15\n",
            "30  2021  Pretos, Pardos e Indígenas (PPI)  340.19    340.19  340.19\n",
            "16\n",
            "     ano                        modalidade      Mínimo       Médio      Máximo\n",
            "31  2020           Ampla Concorrência (AC)  655.555556  655.555556  655.555556\n",
            "32  2021           Ampla Concorrência (AC)       670.0  710.296667      763.89\n",
            "33  2021  Pretos, Pardos e Indígenas (PPI)      673.22      673.22      673.22\n",
            "17\n",
            "     ano                        modalidade      Mínimo       Médio      Máximo\n",
            "34  2019           Ampla Concorrência (AC)  508.888889  508.888889  508.888889\n",
            "35  2020  Pretos, Pardos e Indígenas (PPI)  418.333333  418.333333  418.333333\n",
            "36  2021           Ampla Concorrência (AC)      657.41      695.17       790.0\n",
            "37  2021               Escola Pública (EP)       576.3      600.15       624.0\n",
            "38  2021  Pretos, Pardos e Indígenas (PPI)      614.81      614.81      614.81\n",
            "19\n",
            "     ano               modalidade  Mínimo  Médio  Máximo\n",
            "39  2021  Ampla Concorrência (AC)    30.0   30.0    30.0\n",
            "21\n",
            "     ano               modalidade      Mínimo       Médio      Máximo\n",
            "40  2020  Ampla Concorrência (AC)  540.185185  540.185185  540.185185\n",
            "22\n",
            "     ano                        modalidade      Mínimo       Médio      Máximo\n",
            "41  2019           Ampla Concorrência (AC)  560.740741  584.633333  600.011111\n",
            "42  2019               Escola Pública (EP)  587.592593  587.592593  587.592593\n",
            "43  2020           Ampla Concorrência (AC)      578.89  585.463518  592.037037\n",
            "44  2021           Ampla Concorrência (AC)      617.41  644.444286      663.89\n",
            "45  2021               Escola Pública (EP)      644.81      644.81      644.81\n",
            "46  2021  Pretos, Pardos e Indígenas (PPI)      495.56     545.555      679.26\n",
            "24\n",
            "     ano                        modalidade      Mínimo       Médio      Máximo\n",
            "47  2020           Ampla Concorrência (AC)  601.666667  601.666667  601.666667\n",
            "48  2020               Escola Pública (EP)  429.988889  429.988889  429.988889\n",
            "49  2020  Pretos, Pardos e Indígenas (PPI)  508.148148  508.148148  508.148148\n",
            "50  2021           Ampla Concorrência (AC)      554.63      610.03      714.44\n",
            "51  2021               Escola Pública (EP)      528.52     584.445      640.37\n",
            "25\n",
            "     ano               modalidade  Mínimo       Médio  Máximo\n",
            "52  2020      Escola Pública (EP)  607.96      607.96  607.96\n",
            "53  2021  Ampla Concorrência (AC)   665.0      729.49  805.56\n",
            "54  2021      Escola Pública (EP)  566.67  618.336667  675.56\n",
            "27\n",
            "     ano               modalidade      Mínimo       Médio      Máximo\n",
            "55  2020  Ampla Concorrência (AC)  527.592593  577.316296      627.04\n",
            "56  2020      Escola Pública (EP)  469.062963  469.062963  469.062963\n",
            "57  2021  Ampla Concorrência (AC)      579.44     613.444      685.19\n",
            "58  2021      Escola Pública (EP)      476.85      522.36      559.07\n",
            "29\n",
            "     ano               modalidade      Mínimo       Médio      Máximo\n",
            "59  2017  Ampla Concorrência (AC)  649.444444  649.444444  649.444444\n",
            "60  2019      Escola Pública (EP)   645.72963   645.72963   645.72963\n",
            "61  2020  Ampla Concorrência (AC)  704.988889  704.988889  704.988889\n",
            "62  2021  Ampla Concorrência (AC)      683.33   725.97125      773.89\n",
            "63  2021      Escola Pública (EP)      642.96      680.06      704.81\n",
            "30\n",
            "     ano               modalidade      Mínimo       Médio      Máximo\n",
            "64  2020  Ampla Concorrência (AC)  581.851852  581.851852  581.851852\n",
            "65  2021  Ampla Concorrência (AC)      559.81      559.81      559.81\n",
            "33\n",
            "     ano                        modalidade  Mínimo       Médio  Máximo\n",
            "66  2021           Ampla Concorrência (AC)  631.85  640.803333   650.0\n",
            "67  2021               Escola Pública (EP)  518.89    549.2875  583.15\n",
            "68  2021  Pretos, Pardos e Indígenas (PPI)  443.52  490.183333  514.44\n",
            "34\n",
            "     ano           modalidade      Mínimo       Médio      Máximo\n",
            "69  2020  Escola Pública (EP)  560.196296  560.196296  560.196296\n",
            "36\n",
            "     ano               modalidade      Mínimo       Médio      Máximo\n",
            "70  2020  Ampla Concorrência (AC)  682.211111  682.211111  682.211111\n",
            "37\n",
            "     ano           modalidade  Mínimo   Médio  Máximo\n",
            "71  2021  Escola Pública (EP)  574.07  574.07  574.07\n",
            "38\n",
            "     ano                        modalidade  Mínimo       Médio  Máximo\n",
            "72  2020           Ampla Concorrência (AC)   711.3       711.3   711.3\n",
            "73  2021           Ampla Concorrência (AC)  581.67      620.64  675.74\n",
            "74  2021               Escola Pública (EP)  464.44  512.036667  557.41\n",
            "75  2021  Pretos, Pardos e Indígenas (PPI)  303.52      303.52  303.52\n",
            "39\n",
            "     ano               modalidade  Mínimo  Médio  Máximo\n",
            "76  2021  Ampla Concorrência (AC)   610.0  610.0   610.0\n",
            "40\n",
            "     ano               modalidade      Mínimo       Médio      Máximo\n",
            "77  2019  Ampla Concorrência (AC)  555.555556  555.555556  555.555556\n",
            "42\n",
            "     ano               modalidade  Mínimo  Médio  Máximo\n",
            "78  2021  Ampla Concorrência (AC)   635.0  635.0   635.0\n",
            "43\n",
            "     ano                        modalidade  Mínimo       Médio  Máximo\n",
            "79  2020           Ampla Concorrência (AC)  566.48  621.564815   723.7\n",
            "80  2020               Escola Pública (EP)  420.74  492.912727  667.78\n",
            "81  2020  Pretos, Pardos e Indígenas (PPI)  339.26      427.26  542.04\n",
            "82  2021           Ampla Concorrência (AC)   613.7       613.7   613.7\n",
            "83  2021  Pretos, Pardos e Indígenas (PPI)   508.0       508.0   508.0\n",
            "44\n",
            "     ano               modalidade  Mínimo   Médio  Máximo\n",
            "84  2021  Ampla Concorrência (AC)  671.48  683.52  695.56\n",
            "45\n",
            "     ano               modalidade      Mínimo       Médio      Máximo\n",
            "85  2020      Escola Pública (EP)  592.962963  592.962963  592.962963\n",
            "86  2021  Ampla Concorrência (AC)      653.15     693.816      757.22\n",
            "46\n",
            "     ano                        modalidade      Mínimo       Médio      Máximo\n",
            "87  2020           Ampla Concorrência (AC)  607.407407  677.960741  725.544444\n",
            "88  2020               Escola Pública (EP)  515.925926  587.783333  683.714815\n",
            "89  2021           Ampla Concorrência (AC)      700.37  724.893333      773.89\n",
            "90  2021               Escola Pública (EP)      621.11      646.02      670.93\n",
            "91  2021  Pretos, Pardos e Indígenas (PPI)       405.0       413.0       421.0\n",
            "47\n",
            "     ano                        modalidade      Mínimo       Médio      Máximo\n",
            "92  2019           Ampla Concorrência (AC)  674.444444  674.444444  674.444444\n",
            "93  2019               Escola Pública (EP)  501.307407  501.307407  501.307407\n",
            "94  2019  Pretos, Pardos e Indígenas (PPI)  300.925926  300.925926  300.925926\n",
            "95  2020           Ampla Concorrência (AC)  616.296296  655.182275  692.481481\n",
            "96  2020               Escola Pública (EP)  474.618518  529.783951       605.0\n",
            "97  2020  Pretos, Pardos e Indígenas (PPI)  192.111111  271.148148  350.185185\n",
            "98  2021           Ampla Concorrência (AC)      585.56  717.777778      831.48\n",
            "99  2021               Escola Pública (EP)      582.78     622.225      661.67\n",
            "48\n",
            "      ano                        modalidade  Mínimo       Médio  Máximo\n",
            "100  2020           Ampla Concorrência (AC)  642.04   730.34381  796.85\n",
            "101  2020               Escola Pública (EP)   623.7  664.587778  701.85\n",
            "102  2020  Pretos, Pardos e Indígenas (PPI)  510.93      608.21   710.0\n",
            "103  2021           Ampla Concorrência (AC)  801.67     812.225  822.78\n",
            "50\n",
            "      ano                        modalidade      Mínimo       Médio  \\\n",
            "104  2020           Ampla Concorrência (AC)   634.62963  697.032593   \n",
            "105  2020               Escola Pública (EP)  647.418519  647.418519   \n",
            "106  2020  Pretos, Pardos e Indígenas (PPI)  466.666667  466.666667   \n",
            "107  2021               Escola Pública (EP)      537.96      537.96   \n",
            "\n",
            "         Máximo  \n",
            "104   801.47037  \n",
            "105  647.418519  \n",
            "106  466.666667  \n",
            "107      537.96  \n",
            "51\n",
            "      ano               modalidade  Mínimo   Médio  Máximo\n",
            "108  2021  Ampla Concorrência (AC)  662.59  662.59  662.59\n",
            "52\n",
            "      ano               modalidade  Mínimo   Médio  Máximo\n",
            "109  2021  Ampla Concorrência (AC)  673.89  724.73  765.56\n",
            "110  2021       Escola Pública (EP  674.07  674.07  674.07\n",
            "111  2021      Escola Pública (EP)   671.3  691.02  710.74\n",
            "53\n",
            "      ano                        modalidade  Mínimo       Médio  Máximo\n",
            "112  2020           Ampla Concorrência (AC)  696.48  715.843333  778.34\n",
            "113  2020               Escola Pública (EP)  512.42  540.979091  652.05\n",
            "114  2020  Pretos, Pardos e Indígenas (PPI)  448.88     464.535  480.19\n",
            "115  2021           Ampla Concorrência (AC)  689.26   729.30375  780.37\n",
            "116  2021               Escola Pública (EP)  627.22      627.22  627.22\n",
            "117  2021  Pretos, Pardos e Indígenas (PPI)  363.15      363.15  363.15\n",
            "54\n",
            "      ano                        modalidade  Mínimo       Médio  Máximo\n",
            "118  2020           Ampla Concorrência (AC)   692.4  721.579375   851.1\n",
            "119  2020               Escola Pública (EP)  523.32   575.70381  685.17\n",
            "120  2020  Pretos, Pardos e Indígenas (PPI)  376.11      465.31  581.85\n",
            "121  2021           Ampla Concorrência (AC)  704.81     735.083  817.59\n",
            "122  2021               Escola Pública (EP)   488.7  557.825455   631.3\n",
            "123  2021  Pretos, Pardos e Indígenas (PPI)  409.81     564.445  678.15\n",
            "55\n",
            "      ano                        modalidade  Mínimo       Médio  Máximo\n",
            "124  2014               Escola Pública (EP)    <NA>        <NA>    <NA>\n",
            "125  2020           Ampla Concorrência (AC)  679.25  768.283548   832.6\n",
            "126  2020               Escola Pública (EP)  517.41  650.140667  724.26\n",
            "127  2020  Pretos, Pardos e Indígenas (PPI)  477.96  599.947143  800.94\n",
            "128  2021           Ampla Concorrência (AC)  768.89  799.743846  833.89\n",
            "129  2021               Escola Pública (EP)  630.74   681.08875  757.41\n",
            "130  2021  Pretos, Pardos e Indígenas (PPI)  519.63    570.3875   643.7\n",
            "56\n",
            "      ano                        modalidade  Mínimo       Médio  Máximo\n",
            "131  2020           Ampla Concorrência (AC)  675.38     721.285  764.83\n",
            "132  2020               Escola Pública (EP)  505.56      562.37  690.36\n",
            "133  2020  Pretos, Pardos e Indígenas (PPI)  377.78      424.63  471.48\n",
            "134  2021           Ampla Concorrência (AC)   700.0  729.813636  748.33\n",
            "135  2021               Escola Pública (EP)  416.48     512.315  590.37\n",
            "57\n",
            "      ano                        modalidade  Mínimo       Médio  Máximo\n",
            "136  2020           Ampla Concorrência (AC)  685.57  697.992727  731.74\n",
            "137  2020               Escola Pública (EP)  476.84       516.9  582.78\n",
            "138  2020  Pretos, Pardos e Indígenas (PPI)  388.15  530.186667  738.89\n",
            "139  2021           Ampla Concorrência (AC)  692.22     700.184  707.96\n",
            "140  2021               Escola Pública (EP)  487.22  492.963333  497.78\n",
            "58\n",
            "      ano                        modalidade  Mínimo       Médio  Máximo\n",
            "141  2020           Ampla Concorrência (AC)  558.51  647.323529  759.43\n",
            "142  2020               Escola Pública (EP)   406.3  476.974444  548.89\n",
            "143  2020  Pretos, Pardos e Indígenas (PPI)  367.05  404.886667   458.9\n",
            "144  2021           Ampla Concorrência (AC)  680.19   699.31625  718.33\n",
            "59\n",
            "      ano                        modalidade  Mínimo       Médio  Máximo\n",
            "145  2020           Ampla Concorrência (AC)   710.0  777.319213  861.11\n",
            "146  2020               Escola Pública (EP)  509.26    609.6525   743.7\n",
            "147  2020  Pretos, Pardos e Indígenas (PPI)   398.0      450.08  501.11\n",
            "148  2021           Ampla Concorrência (AC)  755.93  807.824667   855.0\n",
            "149  2021               Escola Pública (EP)  547.78      634.78  777.59\n",
            "150  2021  Pretos, Pardos e Indígenas (PPI)  358.33      423.24  488.15\n",
            "60\n",
            "      ano                        modalidade  Mínimo       Médio  Máximo\n",
            "151  2020           Ampla Concorrência (AC)  707.77   750.47125  884.27\n",
            "152  2020               Escola Pública (EP)  438.71  603.423913  769.07\n",
            "153  2020  Pretos, Pardos e Indígenas (PPI)  402.96  500.745714  680.76\n",
            "154  2021           Ampla Concorrência (AC)  717.59  764.453478  851.48\n",
            "155  2021               Escola Pública (EP)  563.89      637.02  772.59\n",
            "156  2021  Pretos, Pardos e Indígenas (PPI)   399.0     453.636  540.37\n",
            "61\n",
            "      ano                        modalidade  Mínimo       Médio  Máximo\n",
            "157  2020           Ampla Concorrência (AC)  710.74  767.505263  830.74\n",
            "158  2020               Escola Pública (EP)  551.85     634.556  737.95\n",
            "159  2020  Pretos, Pardos e Indígenas (PPI)   450.0     454.075  458.15\n",
            "160  2021           Ampla Concorrência (AC)  723.52  777.679333  876.85\n",
            "161  2021               Escola Pública (EP)  596.11     689.785  790.19\n",
            "162  2021  Pretos, Pardos e Indígenas (PPI)   489.0      507.32  530.37\n",
            "62\n",
            "      ano                        modalidade  Mínimo       Médio  Máximo\n",
            "163  2020           Ampla Concorrência (AC)  689.46      758.49  811.31\n",
            "164  2020               Escola Pública (EP)  474.46      596.02   787.4\n",
            "165  2020  Pretos, Pardos e Indígenas (PPI)  284.64     503.188  626.11\n",
            "166  2021           Ampla Concorrência (AC)  719.44  791.143333  899.44\n",
            "167  2021               Escola Pública (EP)  595.74      639.84  672.78\n",
            "168  2021  Pretos, Pardos e Indígenas (PPI)  481.85      481.85  481.85\n",
            "63\n",
            "      ano                        modalidade  Mínimo      Médio  Máximo\n",
            "169  2020           Ampla Concorrência (AC)  693.71  730.69875   813.9\n",
            "170  2020               Escola Pública (EP)  529.09    578.424  667.97\n",
            "171  2020  Pretos, Pardos e Indígenas (PPI)  395.74    478.032  540.74\n",
            "172  2021           Ampla Concorrência (AC)  714.63    727.964  735.93\n",
            "173  2021               Escola Pública (EP)  523.52    551.695  579.26\n",
            "174  2021  Pretos, Pardos e Indígenas (PPI)   623.0     628.35   633.7\n",
            "64\n",
            "      ano                        modalidade  Mínimo        Médio    Máximo\n",
            "175  2020           Ampla Concorrência (AC)  678.15   753.616154    817.59\n",
            "176  2020               Escola Pública (EP)  515.19   597.602727     640.0\n",
            "177  2020  Pretos, Pardos e Indígenas (PPI)   425.0  104021.4925  414633.0\n",
            "178  2021           Ampla Concorrência (AC)   750.0   786.341818    899.44\n",
            "179  2021               Escola Pública (EP)  773.52       773.52    773.52\n",
            "65\n",
            "      ano                        modalidade      Mínimo       Médio  \\\n",
            "180  2020           Ampla Concorrência (AC)       526.1  569.147037   \n",
            "181  2020               Escola Pública (EP)  381.492593  471.388889   \n",
            "182  2020  Pretos, Pardos e Indígenas (PPI)  242.048148  242.048148   \n",
            "183  2021           Ampla Concorrência (AC)      558.52  600.743333   \n",
            "184  2021               Escola Pública (EP)      524.26      529.63   \n",
            "185  2021  Pretos, Pardos e Indígenas (PPI)      384.07      384.07   \n",
            "\n",
            "         Máximo  \n",
            "180  607.777778  \n",
            "181       556.1  \n",
            "182  242.048148  \n",
            "183      645.93  \n",
            "184      537.59  \n",
            "185      384.07  \n",
            "66\n",
            "      ano               modalidade      Mínimo      Médio      Máximo\n",
            "186  2020  Ampla Concorrência (AC)  527.407407  620.92963  772.603704\n",
            "187  2021      Escola Pública (EP)      435.56     485.93      525.93\n",
            "67\n",
            "      ano               modalidade      Mínimo       Médio      Máximo\n",
            "188  2019      Escola Pública (EP)  409.259259  409.259259  409.259259\n",
            "189  2020  Ampla Concorrência (AC)  424.085185  428.338889  432.592593\n",
            "68\n",
            "      ano               modalidade      Mínimo       Médio      Máximo\n",
            "190  2020  Ampla Concorrência (AC)  658.148148  658.148148  658.148148\n",
            "191  2021  Ampla Concorrência (AC)      620.56      631.76      642.96\n",
            "192  2021      Escola Pública (EP)      494.07     503.145      512.22\n",
            "69\n",
            "      ano                        modalidade      Mínimo       Médio  \\\n",
            "193  2020           Ampla Concorrência (AC)  550.359259  616.046296   \n",
            "194  2020               Escola Pública (EP)  523.714815  523.714815   \n",
            "195  2020  Pretos, Pardos e Indígenas (PPI)  395.544444  395.544444   \n",
            "196  2021           Ampla Concorrência (AC)      571.48      571.48   \n",
            "197  2021               Escola Pública (EP)      561.11     568.335   \n",
            "\n",
            "         Máximo  \n",
            "193       663.9  \n",
            "194  523.714815  \n",
            "195  395.544444  \n",
            "196      571.48  \n",
            "197      575.56  \n",
            "70\n",
            "      ano               modalidade  Mínimo   Médio  Máximo\n",
            "198  2021  Ampla Concorrência (AC)  490.19  490.19  490.19\n",
            "71\n",
            "      ano               modalidade      Mínimo       Médio      Máximo\n",
            "199  2020  Ampla Concorrência (AC)  636.655556  636.655556  636.655556\n",
            "200  2021  Ampla Concorrência (AC)      516.11      527.22      538.33\n",
            "201  2021      Escola Pública (EP)      407.41      407.41      407.41\n",
            "72\n",
            "      ano                        modalidade      Mínimo       Médio  \\\n",
            "202  2019           Ampla Concorrência (AC)  641.851852  674.077778   \n",
            "203  2020           Ampla Concorrência (AC)  653.159259    694.9218   \n",
            "204  2020               Escola Pública (EP)   548.52963   603.91088   \n",
            "205  2020  Pretos, Pardos e Indígenas (PPI)      495.44    529.5075   \n",
            "206  2021           Ampla Concorrência (AC)      708.52  758.748889   \n",
            "207  2021               Escola Pública (EP)      587.22      640.26   \n",
            "208  2021  Pretos, Pardos e Indígenas (PPI)       499.0     524.685   \n",
            "\n",
            "         Máximo  \n",
            "202  694.825926  \n",
            "203      790.37  \n",
            "204       726.3  \n",
            "205      581.85  \n",
            "206      822.04  \n",
            "207      678.33  \n",
            "208      550.37  \n",
            "73\n",
            "      ano                        modalidade      Mínimo       Médio  \\\n",
            "209  2020           Ampla Concorrência (AC)  641.677778  674.004931   \n",
            "210  2020               Escola Pública (EP)      572.04  595.038444   \n",
            "211  2020  Pretos, Pardos e Indígenas (PPI)  550.566667  550.566667   \n",
            "212  2021           Ampla Concorrência (AC)       671.3       671.3   \n",
            "\n",
            "         Máximo  \n",
            "209      751.67  \n",
            "210  613.703704  \n",
            "211  550.566667  \n",
            "212       671.3  \n",
            "74\n",
            "      ano                        modalidade      Mínimo       Médio  \\\n",
            "213  2018           Ampla Concorrência (AC)  634.785185  645.777778   \n",
            "214  2019           Ampla Concorrência (AC)  619.259259  675.411111   \n",
            "215  2019               Escola Pública (EP)  499.640741  515.931481   \n",
            "216  2020           Ampla Concorrência (AC)  601.666667  628.306878   \n",
            "217  2020               Escola Pública (EP)  599.640741  615.682716   \n",
            "218  2020  Pretos, Pardos e Indígenas (PPI)  494.074074  522.095062   \n",
            "219  2021           Ampla Concorrência (AC)      637.41  722.036667   \n",
            "220  2021               Escola Pública (EP)      559.44     571.665   \n",
            "221  2021  Pretos, Pardos e Indígenas (PPI)       539.0       539.0   \n",
            "\n",
            "         Máximo  \n",
            "213   656.77037  \n",
            "214  770.359259  \n",
            "215  532.222222  \n",
            "216  681.677778  \n",
            "217  629.085185  \n",
            "218  563.148148  \n",
            "219      789.07  \n",
            "220      583.89  \n",
            "221       539.0  \n",
            "76\n",
            "      ano               modalidade  Mínimo   Médio  Máximo\n",
            "222  2021  Ampla Concorrência (AC)  717.04  717.04  717.04\n",
            "223  2021      Escola Pública (EP)  525.37  562.59  599.81\n",
            "77\n",
            "      ano                        modalidade  Mínimo       Médio  Máximo\n",
            "224  2020           Ampla Concorrência (AC)   623.7  697.809822  772.96\n",
            "225  2020               Escola Pública (EP)  579.26  610.212857  693.33\n",
            "226  2020  Pretos, Pardos e Indígenas (PPI)  489.44  525.893333  570.93\n",
            "227  2021           Ampla Concorrência (AC)   683.7  742.458571  767.59\n",
            "78\n",
            "      ano                        modalidade  Mínimo       Médio  Máximo\n",
            "228  2020           Ampla Concorrência (AC)  640.93  667.457317  745.74\n",
            "229  2020               Escola Pública (EP)  509.07      577.01   618.7\n",
            "230  2020  Pretos, Pardos e Indígenas (PPI)   485.0     505.555  526.11\n",
            "231  2021           Ampla Concorrência (AC)  686.85  695.587143   712.0\n",
            "232  2021               Escola Pública (EP)  674.63      674.63  674.63\n",
            "233  2021  Pretos, Pardos e Indígenas (PPI)  612.22      612.22  612.22\n",
            "79\n",
            "      ano               modalidade  Mínimo   Médio  Máximo\n",
            "234  2021  Ampla Concorrência (AC)  838.33  838.33  838.33\n",
            "80\n",
            "      ano                        modalidade  Mínimo       Médio  Máximo\n",
            "235  2019           Ampla Concorrência (AC)  619.26  658.700833   725.0\n",
            "236  2020           Ampla Concorrência (AC)  605.56  640.031579  723.52\n",
            "237  2020               Escola Pública (EP)  497.04     556.964  581.67\n",
            "238  2020  Pretos, Pardos e Indígenas (PPI)  475.74      475.74  475.74\n",
            "239  2021           Ampla Concorrência (AC)  668.33      701.48  742.41\n",
            "240  2021               Escola Pública (EP)  505.37  580.246667  632.78\n",
            "81\n",
            "      ano                        modalidade  Mínimo       Médio  Máximo\n",
            "241  2019           Ampla Concorrência (AC)  604.63  631.651667  720.56\n",
            "242  2020           Ampla Concorrência (AC)  592.04  614.545556   685.5\n",
            "243  2020               Escola Pública (EP)  495.56      547.13   603.7\n",
            "244  2020  Pretos, Pardos e Indígenas (PPI)  442.96     454.075  465.19\n",
            "245  2021           Ampla Concorrência (AC)  642.41      661.42  689.81\n",
            "246  2021               Escola Pública (EP)  539.07     552.035   565.0\n",
            "82\n",
            "      ano                        modalidade  Mínimo       Médio  Máximo\n",
            "247  2020           Ampla Concorrência (AC)  532.04  584.680769  640.56\n",
            "248  2020               Escola Pública (EP)  554.63     628.425  702.22\n",
            "249  2020  Pretos, Pardos e Indígenas (PPI)  437.41       437.5  437.59\n",
            "250  2021           Ampla Concorrência (AC)  609.44  645.923333  689.26\n",
            "251  2021  Pretos, Pardos e Indígenas (PPI)  457.59      457.59  457.59\n",
            "83\n",
            "      ano                        modalidade  Mínimo       Médio  Máximo\n",
            "252  2019           Ampla Concorrência (AC)  571.67  607.912857  755.37\n",
            "253  2019  Pretos, Pardos e Indígenas (PPI)  502.78      502.78  502.78\n",
            "254  2020           Ampla Concorrência (AC)  550.56  586.617368  609.26\n",
            "255  2020               Escola Pública (EP)  414.26     466.295  518.33\n",
            "256  2020  Pretos, Pardos e Indígenas (PPI)  480.37      482.22  484.07\n",
            "257  2021           Ampla Concorrência (AC)  612.59  635.183333  658.89\n",
            "258  2021               Escola Pública (EP)  504.63      548.52  592.41\n",
            "84\n",
            "      ano                        modalidade  Mínimo       Médio  Máximo\n",
            "259  2019           Ampla Concorrência (AC)  673.89  725.073333  832.96\n",
            "260  2019  Pretos, Pardos e Indígenas (PPI)  562.96      609.98   657.0\n",
            "261  2020           Ampla Concorrência (AC)   616.3  695.542647  764.07\n",
            "262  2020               Escola Pública (EP)   605.0  634.603333  671.11\n",
            "263  2020  Pretos, Pardos e Indígenas (PPI)  518.52     527.225  535.93\n",
            "264  2021           Ampla Concorrência (AC)   695.0  737.116667  756.85\n",
            "265  2021               Escola Pública (EP)  644.26      659.26  674.26\n",
            "85\n",
            "      ano                        modalidade  Mínimo       Médio  Máximo\n",
            "266  2019           Ampla Concorrência (AC)   641.0     651.245  660.37\n",
            "267  2020           Ampla Concorrência (AC)   600.0  653.633333  789.63\n",
            "268  2020               Escola Pública (EP)   516.0     579.608  622.78\n",
            "269  2020  Pretos, Pardos e Indígenas (PPI)   466.3  525.063333  600.74\n",
            "270  2021           Ampla Concorrência (AC)  675.74  707.493333  773.15\n",
            "271  2021               Escola Pública (EP)  602.96     651.665  700.37\n",
            "272  2021  Pretos, Pardos e Indígenas (PPI)  553.52      553.52  553.52\n",
            "86\n",
            "      ano               modalidade      Mínimo       Médio      Máximo\n",
            "273  2020  Ampla Concorrência (AC)  529.988889  569.150265  612.222222\n",
            "274  2020      Escola Pública (EP)  488.137037  488.137037  488.137037\n",
            "275  2021  Ampla Concorrência (AC)      574.81     620.822      688.33\n",
            "276  2021      Escola Pública (EP)      457.22  476.666667      514.26\n",
            "88\n",
            "      ano               modalidade      Mínimo       Médio      Máximo\n",
            "277  2018  Ampla Concorrência (AC)  637.037037  637.037037  637.037037\n",
            "278  2019  Ampla Concorrência (AC)  488.888889  488.888889  488.888889\n",
            "279  2020  Ampla Concorrência (AC)  492.603704  504.760494  524.085185\n",
            "280  2020      Escola Pública (EP)  400.925926  400.925926  400.925926\n",
            "281  2021  Ampla Concorrência (AC)      580.93      580.93      580.93\n",
            "89\n",
            "      ano               modalidade      Mínimo       Médio      Máximo\n",
            "282  2020  Ampla Concorrência (AC)  550.481481  556.537037  562.592593\n",
            "283  2020      Escola Pública (EP)  448.888889  448.888889  448.888889\n",
            "284  2021  Ampla Concorrência (AC)       633.0       633.0       633.0\n",
            "285  2021      Escola Pública (EP)       546.0       546.0       546.0\n",
            "90\n",
            "      ano               modalidade      Mínimo       Médio      Máximo\n",
            "286  2020  Ampla Concorrência (AC)  561.296296  577.408025  595.185185\n",
            "287  2020      Escola Pública (EP)  438.518519  438.518519  438.518519\n",
            "288  2021  Ampla Concorrência (AC)      593.15      593.15      593.15\n",
            "289  2021      Escola Pública (EP)      440.19      544.17      648.15\n",
            "92\n",
            "      ano               modalidade  Mínimo    Médio  Máximo\n",
            "290  2021  Ampla Concorrência (AC)  489.63  550.442  617.96\n",
            "291  2021      Escola Pública (EP)  562.78   562.78  562.78\n",
            "93\n",
            "      ano           modalidade  Mínimo   Médio  Máximo\n",
            "292  2021  Escola Pública (EP)  520.19  520.19  520.19\n",
            "97\n",
            "      ano               modalidade  Mínimo   Médio  Máximo\n",
            "293  2021  Ampla Concorrência (AC)  738.15  738.15  738.15\n",
            "98\n",
            "      ano               modalidade      Mínimo       Médio      Máximo\n",
            "294  2016  Ampla Concorrência (AC)       650.0       650.0       650.0\n",
            "295  2020  Ampla Concorrência (AC)  521.851852  581.333333  730.914815\n",
            "296  2020      Escola Pública (EP)  512.037037  551.203704   581.47037\n",
            "99\n",
            "      ano               modalidade  Mínimo       Médio  Máximo\n",
            "297  2021  Ampla Concorrência (AC)   561.3    682.8725  770.19\n",
            "298  2021      Escola Pública (EP)  397.22  528.766667  625.19\n",
            "101\n",
            "      ano           modalidade  Mínimo       Médio  Máximo\n",
            "299  2021  Escola Pública (EP)  552.41  588.456667  634.63\n",
            "102\n",
            "      ano           modalidade  Mínimo   Médio  Máximo\n",
            "300  2021  Escola Pública (EP)  683.67  683.67  683.67\n",
            "103\n",
            "      ano                        modalidade      Mínimo       Médio  \\\n",
            "301  2020                               AC   548.888889  548.888889   \n",
            "302  2020           Ampla Concorrência (AC)  530.740741  582.504139   \n",
            "303  2020               Escola Pública (EP)  486.307407   496.15463   \n",
            "304  2020  Pretos, Pardos e Indígenas (PPI)  414.248148  414.248148   \n",
            "305  2021           Ampla Concorrência (AC)      577.96     641.374   \n",
            "306  2021               Escola Pública (EP)      598.52      598.52   \n",
            "\n",
            "         Máximo  \n",
            "301  548.888889  \n",
            "302  711.481481  \n",
            "303  515.544444  \n",
            "304  414.248148  \n",
            "305      713.52  \n",
            "306      598.52  \n",
            "105\n",
            "      ano               modalidade      Mínimo       Médio      Máximo\n",
            "307  2019  Ampla Concorrência (AC)  608.703704  608.703704  608.703704\n",
            "308  2020  Ampla Concorrência (AC)  598.148148  631.300741   683.52963\n",
            "309  2021  Ampla Concorrência (AC)      712.22      712.22      712.22\n",
            "107\n",
            "      ano                        modalidade      Mínimo       Médio  \\\n",
            "310  2019           Ampla Concorrência (AC)  642.581481  642.581481   \n",
            "311  2020           Ampla Concorrência (AC)  504.085185   561.62963   \n",
            "312  2021           Ampla Concorrência (AC)       485.0   562.26375   \n",
            "313  2021               Escola Pública (EP)      507.04      512.04   \n",
            "314  2021  Pretos, Pardos e Indígenas (PPI)      546.67      546.67   \n",
            "\n",
            "         Máximo  \n",
            "310  642.581481  \n",
            "311  618.425926  \n",
            "312      645.74  \n",
            "313      517.04  \n",
            "314      546.67  \n",
            "109\n",
            "      ano               modalidade     Mínimo       Médio     Máximo\n",
            "315  2020  Ampla Concorrência (AC)  565.37037  627.916667  664.27037\n",
            "316  2021  Ampla Concorrência (AC)     571.67  633.037778      683.7\n",
            "317  2021      Escola Pública (EP)      546.0  581.506667      606.3\n",
            "111\n",
            "      ano                        modalidade      Mínimo       Médio  \\\n",
            "318  2019           Ampla Concorrência (AC)       500.0  581.938889   \n",
            "319  2019               Escola Pública (EP)  637.037037  637.037037   \n",
            "320  2020           Ampla Concorrência (AC)  485.174074  577.592593   \n",
            "321  2020  Pretos, Pardos e Indígenas (PPI)  390.740741      426.95   \n",
            "322  2021           Ampla Concorrência (AC)      522.78     617.374   \n",
            "323  2021               Escola Pública (EP)       453.0      533.47   \n",
            "324  2021  Pretos, Pardos e Indígenas (PPI)      443.33     446.165   \n",
            "\n",
            "         Máximo  \n",
            "318  663.877778  \n",
            "319  637.037037  \n",
            "320  711.666667  \n",
            "321  463.159259  \n",
            "322      761.67  \n",
            "323      645.56  \n",
            "324       449.0  \n",
            "113\n",
            "      ano                        modalidade  Mínimo       Médio  Máximo\n",
            "325  2020           Ampla Concorrência (AC)  833.15  851.519524  894.07\n",
            "326  2020               Escola Pública (EP)  745.56  783.680909  878.15\n",
            "327  2020  Pretos, Pardos e Indígenas (PPI)  664.63   710.27381  787.78\n",
            "328  2021           Ampla Concorrência (AC)  882.22      882.22  882.22\n",
            "114\n",
            "      ano                        modalidade      Mínimo       Médio  \\\n",
            "329  2019           Ampla Concorrência (AC)  630.196296  630.196296   \n",
            "330  2020           Ampla Concorrência (AC)      565.74  655.292963   \n",
            "331  2020               Escola Pública (EP)      538.89  569.359321   \n",
            "332  2020  Pretos, Pardos e Indígenas (PPI)      414.63      414.63   \n",
            "\n",
            "         Máximo  \n",
            "329  630.196296  \n",
            "330      757.78  \n",
            "331      605.37  \n",
            "332      414.63  \n",
            "115\n",
            "      ano               modalidade  Mínimo  Médio  Máximo\n",
            "333  2018  Ampla Concorrência (AC)    <NA>   <NA>    <NA>\n",
            "117\n",
            "      ano                        modalidade  Mínimo       Médio  Máximo\n",
            "334  2020           Ampla Concorrência (AC)  795.37  820.149286  866.67\n",
            "335  2020               Escola Pública (EP)  723.52  743.456111  768.89\n",
            "336  2020  Pretos, Pardos e Indígenas (PPI)  674.07  694.073333  708.89\n",
            "118\n",
            "      ano               modalidade      Mínimo       Médio      Máximo\n",
            "337  2020  Ampla Concorrência (AC)  582.951852  611.979012  632.418519\n",
            "338  2020      Escola Pública (EP)  432.211111  456.296296  480.381482\n",
            "339  2021  Ampla Concorrência (AC)      836.11     842.126      849.63\n",
            "340  2021      Escola Pública (EP)       792.0       794.5       797.0\n",
            "119\n",
            "      ano               modalidade      Mínimo       Médio      Máximo\n",
            "341  2020  Ampla Concorrência (AC)  531.862963  569.705926  619.455556\n",
            "342  2020      Escola Pública (EP)  395.937037  395.937037  395.937037\n",
            "343  2021  Ampla Concorrência (AC)      616.11      616.11      616.11\n",
            "121\n",
            "      ano               modalidade      Mínimo       Médio      Máximo\n",
            "344  2020  Ampla Concorrência (AC)  412.951852  412.951852  412.951852\n",
            "123\n",
            "      ano               modalidade      Mínimo       Médio      Máximo\n",
            "345  2020  Ampla Concorrência (AC)  518.877778  518.877778  518.877778\n",
            "346  2021  Ampla Concorrência (AC)      542.59      542.59      542.59\n",
            "124\n",
            "      ano                        modalidade  Mínimo       Médio  Máximo\n",
            "347  2020           Ampla Concorrência (AC)  545.36  674.516571  764.46\n",
            "348  2020               Escola Pública (EP)  507.21  604.646667  669.06\n",
            "349  2020  Pretos, Pardos e Indígenas (PPI)  392.58     507.106   601.1\n",
            "350  2021           Ampla Concorrência (AC)  686.85  707.603333  742.22\n",
            "351  2021               Escola Pública (EP)  640.19     653.615  667.04\n",
            "352  2021  Pretos, Pardos e Indígenas (PPI)   494.0       494.0   494.0\n",
            "125\n",
            "      ano                        modalidade      Mínimo       Médio  \\\n",
            "353  2016           Ampla Concorrência (AC)  523.718518  523.718518   \n",
            "354  2016               Escola Pública (EP)  477.607407  477.607407   \n",
            "355  2017           Ampla Concorrência (AC)  487.962963  537.511111   \n",
            "356  2017  Pretos, Pardos e Indígenas (PPI)        <NA>        <NA>   \n",
            "357  2018           Ampla Concorrência (AC)  521.822222  570.468783   \n",
            "358  2018               Escola Pública (EP)  590.433333  590.433333   \n",
            "359  2019           Ampla Concorrência (AC)  569.062963  612.145926   \n",
            "360  2019  Pretos, Pardos e Indígenas (PPI)  462.766667  462.766667   \n",
            "361  2020           Ampla Concorrência (AC)  508.518519  625.368981   \n",
            "362  2020               Escola Pública (EP)  472.603704  524.344729   \n",
            "363  2020  Pretos, Pardos e Indígenas (PPI)  413.692593  413.692593   \n",
            "364  2021           Ampla Concorrência (AC)      642.04  665.618333   \n",
            "365  2021  Pretos, Pardos e Indígenas (PPI)      461.48      461.48   \n",
            "\n",
            "         Máximo  \n",
            "353  523.718518  \n",
            "354  477.607407  \n",
            "355  622.840741  \n",
            "356        <NA>  \n",
            "357  646.307407  \n",
            "358  590.433333  \n",
            "359   649.27037  \n",
            "360  462.766667  \n",
            "361  757.418519  \n",
            "362  581.285185  \n",
            "363  413.692593  \n",
            "364      721.48  \n",
            "365      461.48  \n",
            "128\n",
            "      ano                        modalidade  Mínimo       Médio  Máximo\n",
            "366  2020           Ampla Concorrência (AC)  779.07  807.672414  850.37\n",
            "367  2020               Escola Pública (EP)  722.41      745.31  791.67\n",
            "368  2020  Pretos, Pardos e Indígenas (PPI)   626.3  670.852857  761.32\n",
            "369  2021  Pretos, Pardos e Indígenas (PPI)  700.37      700.37  700.37\n",
            "130\n",
            "      ano                        modalidade      Mínimo       Médio  \\\n",
            "370  2020           Ampla Concorrência (AC)  583.322222  583.322222   \n",
            "371  2020               Escola Pública (EP)  486.666667  486.666667   \n",
            "372  2021           Ampla Concorrência (AC)      607.22      611.85   \n",
            "373  2021               Escola Pública (EP)       522.0      540.35   \n",
            "374  2021  Pretos, Pardos e Indígenas (PPI)      420.74      420.74   \n",
            "\n",
            "         Máximo  \n",
            "370  583.322222  \n",
            "371  486.666667  \n",
            "372      616.48  \n",
            "373       558.7  \n",
            "374      420.74  \n",
            "131\n",
            "      ano               modalidade      Mínimo       Médio      Máximo\n",
            "375  2020  Ampla Concorrência (AC)  672.962963  672.962963  672.962963\n",
            "376  2021      Escola Pública (EP)      544.07      544.07      544.07\n",
            "137\n",
            "      ano               modalidade  Mínimo     Médio  Máximo\n",
            "377  2021  Ampla Concorrência (AC)  367.41  426.9525   498.0\n",
            "378  2021      Escola Pública (EP)   388.7     388.7   388.7\n",
            "138\n",
            "      ano               modalidade  Mínimo    Médio  Máximo\n",
            "379  2014  Ampla Concorrência (AC)    <NA>     <NA>    <NA>\n",
            "380  2021  Ampla Concorrência (AC)   665.0  681.295  697.59\n",
            "381  2021      Escola Pública (EP)  723.89   723.89  723.89\n",
            "139\n",
            "      ano                        modalidade  Mínimo   Médio  Máximo\n",
            "382  2021               Escola Pública (EP)  563.33  563.33  563.33\n",
            "383  2021  Pretos, Pardos e Indígenas (PPI)  549.44  549.44  549.44\n",
            "140\n",
            "      ano               modalidade  Mínimo   Médio  Máximo\n",
            "384  2021  Ampla Concorrência (AC)  559.44  559.44  559.44\n",
            "142\n",
            "      ano               modalidade  Mínimo   Médio  Máximo\n",
            "385  2021  Ampla Concorrência (AC)  682.75  682.75  682.75\n",
            "143\n",
            "      ano                        modalidade  Mínimo       Médio  Máximo\n",
            "386  2020           Ampla Concorrência (AC)  589.26  658.528696  814.63\n",
            "387  2020               Escola Pública (EP)  483.52     563.518  633.33\n",
            "388  2020  Pretos, Pardos e Indígenas (PPI)  400.93     492.074  543.33\n",
            "389  2021  Pretos, Pardos e Indígenas (PPI)  488.89      506.36  538.52\n",
            "145\n",
            "      ano               modalidade      Mínimo       Médio      Máximo\n",
            "390  2015  Ampla Concorrência (AC)   630.37037   630.37037   630.37037\n",
            "391  2019  Ampla Concorrência (AC)  628.703704  628.703704  628.703704\n",
            "392  2020  Ampla Concorrência (AC)  691.296296  691.296296  691.296296\n",
            "393  2021  Ampla Concorrência (AC)      735.93  742.866667      756.67\n",
            "394  2021      Escola Pública (EP)      675.56  705.803333      764.81\n",
            "146\n",
            "      ano                        modalidade  Mínimo       Médio  Máximo\n",
            "395  2021           Ampla Concorrência (AC)  705.37  723.167778  765.93\n",
            "396  2021               Escola Pública (EP)  583.33   629.65375  712.41\n",
            "397  2021  Pretos, Pardos e Indígenas (PPI)  410.19     434.348   471.0\n",
            "147\n",
            "      ano                        modalidade  Mínimo   Médio  Máximo\n",
            "398  2021           Ampla Concorrência (AC)   586.3   586.3   586.3\n",
            "399  2021  Pretos, Pardos e Indígenas (PPI)  498.52  498.52  498.52\n",
            "148\n",
            "      ano               modalidade  Mínimo   Médio  Máximo\n",
            "400  2021  Ampla Concorrência (AC)  669.26  669.26  669.26\n",
            "149\n",
            "      ano               modalidade  Mínimo    Médio  Máximo\n",
            "401  2020  Ampla Concorrência (AC)  463.15   463.15  463.15\n",
            "402  2021      Escola Pública (EP)  461.67  485.465  509.26\n",
            "152\n",
            "      ano                        modalidade      Mínimo       Médio  \\\n",
            "403  2018           Ampla Concorrência (AC)  535.885185  535.885185   \n",
            "404  2019           Ampla Concorrência (AC)  672.581481  672.581481   \n",
            "405  2020           Ampla Concorrência (AC)      527.78  626.351111   \n",
            "406  2020               Escola Pública (EP)  427.222222  501.041975   \n",
            "407  2020  Pretos, Pardos e Indígenas (PPI)  351.655556   353.22963   \n",
            "408  2021           Ampla Concorrência (AC)      726.67    761.4375   \n",
            "409  2021               Escola Pública (EP)      688.52      688.52   \n",
            "410  2021  Pretos, Pardos e Indígenas (PPI)      489.91      489.91   \n",
            "\n",
            "         Máximo  \n",
            "403  535.885185  \n",
            "404  672.581481  \n",
            "405  697.407407  \n",
            "406  608.137037  \n",
            "407  354.803704  \n",
            "408      781.67  \n",
            "409      688.52  \n",
            "410      489.91  \n",
            "156\n",
            "      ano               modalidade  Mínimo       Médio  Máximo\n",
            "411  2021  Ampla Concorrência (AC)  651.67  706.483333  797.22\n",
            "157\n",
            "      ano               modalidade  Mínimo    Médio  Máximo\n",
            "412  2021  Ampla Concorrência (AC)   471.3  542.225  613.15\n",
            "413  2021      Escola Pública (EP)  441.85   441.85  441.85\n",
            "158\n",
            "      ano                        modalidade  Mínimo   Médio  Máximo\n",
            "414  2021  Pretos, Pardos e Indígenas (PPI)  395.37  395.37  395.37\n",
            "160\n",
            "      ano           modalidade      Mínimo       Médio      Máximo\n",
            "415  2020  Escola Pública (EP)  443.877778  443.877778  443.877778\n",
            "162\n",
            "      ano                        modalidade      Mínimo       Médio  \\\n",
            "416  2017           Ampla Concorrência (AC)        <NA>        <NA>   \n",
            "417  2018           Ampla Concorrência (AC)  618.414815  648.796296   \n",
            "418  2018               Escola Pública (EP)        <NA>        <NA>   \n",
            "419  2019           Ampla Concorrência (AC)  750.544444  750.544444   \n",
            "420  2019               Escola Pública (EP)  616.481481  621.979012   \n",
            "421  2020           Ampla Concorrência (AC)  671.655556   739.54709   \n",
            "422  2020               Escola Pública (EP)  552.211111  660.021693   \n",
            "423  2021           Ampla Concorrência (AC)      677.78  778.610833   \n",
            "424  2021               Escola Pública (EP)      584.26      654.33   \n",
            "425  2021  Pretos, Pardos e Indígenas (PPI)       413.0      569.71   \n",
            "\n",
            "         Máximo  \n",
            "416        <NA>  \n",
            "417  679.177778  \n",
            "418        <NA>  \n",
            "419  750.544444  \n",
            "420  630.359259  \n",
            "421  836.296296  \n",
            "422  740.185185  \n",
            "423       873.7  \n",
            "424      719.26  \n",
            "425      669.07  \n",
            "163\n",
            "      ano                        modalidade      Mínimo       Médio  \\\n",
            "426  2018           Ampla Concorrência (AC)  592.592593  592.592593   \n",
            "427  2019           Ampla Concorrência (AC)   633.52963  642.412963   \n",
            "428  2019  Pretos, Pardos e Indígenas (PPI)  269.640741  269.640741   \n",
            "429  2020           Ampla Concorrência (AC)  352.037037      479.56   \n",
            "\n",
            "         Máximo  \n",
            "426  592.592593  \n",
            "427  651.296296  \n",
            "428  269.640741  \n",
            "429  535.937037  \n",
            "164\n",
            "      ano                        modalidade  Mínimo    Médio  Máximo\n",
            "430  2020           Ampla Concorrência (AC)  535.93   535.93  535.93\n",
            "431  2021           Ampla Concorrência (AC)    54.0  501.346  678.89\n",
            "432  2021               Escola Pública (EP)  397.22   491.03  582.22\n",
            "433  2021  Pretos, Pardos e Indígenas (PPI)   276.3   285.28  294.26\n",
            "165\n",
            "      ano                        modalidade      Mínimo       Médio  \\\n",
            "434  2018           Ampla Concorrência (AC)       533.4  572.387037   \n",
            "435  2019           Ampla Concorrência (AC)  509.085185  509.085185   \n",
            "436  2020           Ampla Concorrência (AC)  547.962963  610.318333   \n",
            "437  2020               Escola Pública (EP)  519.825926  519.825926   \n",
            "438  2021           Ampla Concorrência (AC)       595.0       650.7   \n",
            "439  2021               Escola Pública (EP)      682.59      692.87   \n",
            "440  2021  Pretos, Pardos e Indígenas (PPI)       350.0       350.0   \n",
            "\n",
            "         Máximo  \n",
            "434  611.374074  \n",
            "435  509.085185  \n",
            "436  720.544444  \n",
            "437  519.825926  \n",
            "438      755.19  \n",
            "439      703.15  \n",
            "440       350.0  \n",
            "166\n",
            "      ano               modalidade      Mínimo       Médio      Máximo\n",
            "441  2018  Ampla Concorrência (AC)  633.333333  633.333333  633.333333\n",
            "442  2020  Ampla Concorrência (AC)  633.322222  633.322222  633.322222\n",
            "443  2021  Ampla Concorrência (AC)       680.0     742.222      833.89\n",
            "444  2021      Escola Pública (EP)       484.0      487.65       491.3\n",
            "167\n",
            "      ano               modalidade  Mínimo       Médio  Máximo\n",
            "445  2019      Escola Pública (EP)  559.81      559.81  559.81\n",
            "446  2020  Ampla Concorrência (AC)  469.26  561.013148   626.1\n",
            "447  2021  Ampla Concorrência (AC)  672.59  710.183333  735.74\n",
            "448  2021      Escola Pública (EP)  468.52     494.165  519.81\n",
            "168\n",
            "      ano                        modalidade      Mínimo       Médio  \\\n",
            "449  2019               Escola Pública (EP)  447.962963  447.962963   \n",
            "450  2020           Ampla Concorrência (AC)      587.22  640.616543   \n",
            "451  2020               Escola Pública (EP)  540.925926  578.946914   \n",
            "452  2021           Ampla Concorrência (AC)       613.7     681.088   \n",
            "453  2021               Escola Pública (EP)      489.63     529.184   \n",
            "454  2021  Pretos, Pardos e Indígenas (PPI)      351.11      351.11   \n",
            "\n",
            "         Máximo  \n",
            "449  447.962963  \n",
            "450  687.211111  \n",
            "451  651.111111  \n",
            "452      727.04  \n",
            "453      647.78  \n",
            "454      351.11  \n",
            "169\n",
            "      ano                        modalidade      Mínimo       Médio  \\\n",
            "455  2020           Ampla Concorrência (AC)  519.988889  576.106349   \n",
            "456  2020               Escola Pública (EP)  475.740741   489.07963   \n",
            "457  2021           Ampla Concorrência (AC)      592.59     619.565   \n",
            "458  2021               Escola Pública (EP)      459.26  524.626667   \n",
            "459  2021  Pretos, Pardos e Indígenas (PPI)      565.93      565.93   \n",
            "\n",
            "         Máximo  \n",
            "455  656.285185  \n",
            "456  502.418519  \n",
            "457       649.0  \n",
            "458      559.81  \n",
            "459      565.93  \n",
            "170\n",
            "      ano                        modalidade  Mínimo       Médio  Máximo\n",
            "460  2020           Ampla Concorrência (AC)  640.44  668.950303  748.33\n",
            "461  2020               Escola Pública (EP)  587.96  607.808333  632.04\n",
            "462  2020  Pretos, Pardos e Indígenas (PPI)  517.78  546.173333   586.3\n",
            "463  2021           Ampla Concorrência (AC)  712.22  751.871667  827.78\n",
            "464  2021               Escola Pública (EP)  650.93     669.075  685.74\n",
            "465  2021  Pretos, Pardos e Indígenas (PPI)  661.67      661.67  661.67\n",
            "171\n",
            "      ano                        modalidade      Mínimo       Médio  \\\n",
            "466  2019           Ampla Concorrência (AC)  673.137037  673.137037   \n",
            "467  2019               Escola Pública (EP)  452.592593  470.190741   \n",
            "468  2020           Ampla Concorrência (AC)  558.507407  685.217778   \n",
            "469  2020  Pretos, Pardos e Indígenas (PPI)       425.0       425.0   \n",
            "470  2021           Ampla Concorrência (AC)      621.48      621.48   \n",
            "471  2021               Escola Pública (EP)      550.93     598.245   \n",
            "472  2021  Pretos, Pardos e Indígenas (PPI)      486.11      486.11   \n",
            "\n",
            "         Máximo  \n",
            "466  673.137037  \n",
            "467  487.788889  \n",
            "468  781.285185  \n",
            "469       425.0  \n",
            "470      621.48  \n",
            "471      645.56  \n",
            "472      486.11  \n",
            "172\n",
            "      ano                        modalidade      Mínimo       Médio  \\\n",
            "473  2019           Ampla Concorrência (AC)  528.333333  528.333333   \n",
            "474  2019               Escola Pública (EP)  478.714815  505.566667   \n",
            "475  2020           Ampla Concorrência (AC)  590.011111  605.744444   \n",
            "476  2020               Escola Pública (EP)  480.011111  515.817037   \n",
            "477  2020  Pretos, Pardos e Indígenas (PPI)   430.37037  483.888889   \n",
            "478  2021           Ampla Concorrência (AC)       582.0       582.0   \n",
            "479  2021               Escola Pública (EP)      513.33      513.33   \n",
            "480  2021  Pretos, Pardos e Indígenas (PPI)      378.33      378.33   \n",
            "\n",
            "         Máximo  \n",
            "473  528.333333  \n",
            "474  532.418519  \n",
            "475  625.740741  \n",
            "476  555.185185  \n",
            "477  537.407407  \n",
            "478       582.0  \n",
            "479      513.33  \n",
            "480      378.33  \n",
            "173\n",
            "      ano               modalidade      Mínimo       Médio      Máximo\n",
            "481  2020  Ampla Concorrência (AC)  561.677778  561.677778  561.677778\n",
            "482  2020      Escola Pública (EP)  379.444444  436.617593  479.259259\n",
            "483  2021  Ampla Concorrência (AC)      500.37     580.865      776.67\n",
            "484  2021      Escola Pública (EP)      420.37    486.8875      542.22\n",
            "174\n",
            "      ano                        modalidade  Mínimo       Médio  Máximo\n",
            "485  2020           Ampla Concorrência (AC)  659.26  693.173333  754.81\n",
            "486  2020               Escola Pública (EP)  610.37  626.075833  642.78\n",
            "487  2020  Pretos, Pardos e Indígenas (PPI)  511.48  575.246667  672.59\n",
            "488  2021           Ampla Concorrência (AC)  764.26      764.26  764.26\n",
            "489  2021               Escola Pública (EP)   643.7       643.7   643.7\n"
          ]
        }
      ],
      "source": [
        "for id, df in fuvest_metrics_df.reset_index().groupby('id'):\n",
        "  print(id)\n",
        "  print(df[['ano', 'modalidade', 'Mínimo', 'Médio', 'Máximo']])"
      ]
    },
    {
      "cell_type": "code",
      "execution_count": 46,
      "metadata": {
        "colab": {
          "base_uri": "https://localhost:8080/",
          "height": 560
        },
        "id": "YrLvVeq_MN0X",
        "outputId": "77c4db96-a407-4a50-ba89-56edfb14dded"
      },
      "outputs": [
        {
          "name": "stdout",
          "output_type": "stream",
          "text": [
            "126\n"
          ]
        },
        {
          "data": {
            "application/vnd.plotly.v1+json": {
              "config": {
                "plotlyServerURL": "https://plot.ly"
              },
              "data": [
                {
                  "cells": {
                    "format": [
                      null,
                      ".2f",
                      ".2f",
                      ".2f"
                    ],
                    "values": [
                      [
                        "Ampla Concorrência (AC)",
                        "Escola Pública (EP)"
                      ],
                      [
                        577.96,
                        479.44
                      ],
                      [
                        649.51375,
                        527.8955555555556
                      ],
                      [
                        729.81,
                        579.26
                      ]
                    ]
                  },
                  "header": {
                    "align": "center",
                    "values": [
                      "Modalidade",
                      "Mínima",
                      "Média",
                      "Máxima"
                    ]
                  },
                  "type": "table"
                }
              ],
              "layout": {
                "template": {
                  "data": {
                    "bar": [
                      {
                        "error_x": {
                          "color": "#2a3f5f"
                        },
                        "error_y": {
                          "color": "#2a3f5f"
                        },
                        "marker": {
                          "line": {
                            "color": "#E5ECF6",
                            "width": 0.5
                          },
                          "pattern": {
                            "fillmode": "overlay",
                            "size": 10,
                            "solidity": 0.2
                          }
                        },
                        "type": "bar"
                      }
                    ],
                    "barpolar": [
                      {
                        "marker": {
                          "line": {
                            "color": "#E5ECF6",
                            "width": 0.5
                          },
                          "pattern": {
                            "fillmode": "overlay",
                            "size": 10,
                            "solidity": 0.2
                          }
                        },
                        "type": "barpolar"
                      }
                    ],
                    "carpet": [
                      {
                        "aaxis": {
                          "endlinecolor": "#2a3f5f",
                          "gridcolor": "white",
                          "linecolor": "white",
                          "minorgridcolor": "white",
                          "startlinecolor": "#2a3f5f"
                        },
                        "baxis": {
                          "endlinecolor": "#2a3f5f",
                          "gridcolor": "white",
                          "linecolor": "white",
                          "minorgridcolor": "white",
                          "startlinecolor": "#2a3f5f"
                        },
                        "type": "carpet"
                      }
                    ],
                    "choropleth": [
                      {
                        "colorbar": {
                          "outlinewidth": 0,
                          "ticks": ""
                        },
                        "type": "choropleth"
                      }
                    ],
                    "contour": [
                      {
                        "colorbar": {
                          "outlinewidth": 0,
                          "ticks": ""
                        },
                        "colorscale": [
                          [
                            0,
                            "#0d0887"
                          ],
                          [
                            0.1111111111111111,
                            "#46039f"
                          ],
                          [
                            0.2222222222222222,
                            "#7201a8"
                          ],
                          [
                            0.3333333333333333,
                            "#9c179e"
                          ],
                          [
                            0.4444444444444444,
                            "#bd3786"
                          ],
                          [
                            0.5555555555555556,
                            "#d8576b"
                          ],
                          [
                            0.6666666666666666,
                            "#ed7953"
                          ],
                          [
                            0.7777777777777778,
                            "#fb9f3a"
                          ],
                          [
                            0.8888888888888888,
                            "#fdca26"
                          ],
                          [
                            1,
                            "#f0f921"
                          ]
                        ],
                        "type": "contour"
                      }
                    ],
                    "contourcarpet": [
                      {
                        "colorbar": {
                          "outlinewidth": 0,
                          "ticks": ""
                        },
                        "type": "contourcarpet"
                      }
                    ],
                    "heatmap": [
                      {
                        "colorbar": {
                          "outlinewidth": 0,
                          "ticks": ""
                        },
                        "colorscale": [
                          [
                            0,
                            "#0d0887"
                          ],
                          [
                            0.1111111111111111,
                            "#46039f"
                          ],
                          [
                            0.2222222222222222,
                            "#7201a8"
                          ],
                          [
                            0.3333333333333333,
                            "#9c179e"
                          ],
                          [
                            0.4444444444444444,
                            "#bd3786"
                          ],
                          [
                            0.5555555555555556,
                            "#d8576b"
                          ],
                          [
                            0.6666666666666666,
                            "#ed7953"
                          ],
                          [
                            0.7777777777777778,
                            "#fb9f3a"
                          ],
                          [
                            0.8888888888888888,
                            "#fdca26"
                          ],
                          [
                            1,
                            "#f0f921"
                          ]
                        ],
                        "type": "heatmap"
                      }
                    ],
                    "heatmapgl": [
                      {
                        "colorbar": {
                          "outlinewidth": 0,
                          "ticks": ""
                        },
                        "colorscale": [
                          [
                            0,
                            "#0d0887"
                          ],
                          [
                            0.1111111111111111,
                            "#46039f"
                          ],
                          [
                            0.2222222222222222,
                            "#7201a8"
                          ],
                          [
                            0.3333333333333333,
                            "#9c179e"
                          ],
                          [
                            0.4444444444444444,
                            "#bd3786"
                          ],
                          [
                            0.5555555555555556,
                            "#d8576b"
                          ],
                          [
                            0.6666666666666666,
                            "#ed7953"
                          ],
                          [
                            0.7777777777777778,
                            "#fb9f3a"
                          ],
                          [
                            0.8888888888888888,
                            "#fdca26"
                          ],
                          [
                            1,
                            "#f0f921"
                          ]
                        ],
                        "type": "heatmapgl"
                      }
                    ],
                    "histogram": [
                      {
                        "marker": {
                          "pattern": {
                            "fillmode": "overlay",
                            "size": 10,
                            "solidity": 0.2
                          }
                        },
                        "type": "histogram"
                      }
                    ],
                    "histogram2d": [
                      {
                        "colorbar": {
                          "outlinewidth": 0,
                          "ticks": ""
                        },
                        "colorscale": [
                          [
                            0,
                            "#0d0887"
                          ],
                          [
                            0.1111111111111111,
                            "#46039f"
                          ],
                          [
                            0.2222222222222222,
                            "#7201a8"
                          ],
                          [
                            0.3333333333333333,
                            "#9c179e"
                          ],
                          [
                            0.4444444444444444,
                            "#bd3786"
                          ],
                          [
                            0.5555555555555556,
                            "#d8576b"
                          ],
                          [
                            0.6666666666666666,
                            "#ed7953"
                          ],
                          [
                            0.7777777777777778,
                            "#fb9f3a"
                          ],
                          [
                            0.8888888888888888,
                            "#fdca26"
                          ],
                          [
                            1,
                            "#f0f921"
                          ]
                        ],
                        "type": "histogram2d"
                      }
                    ],
                    "histogram2dcontour": [
                      {
                        "colorbar": {
                          "outlinewidth": 0,
                          "ticks": ""
                        },
                        "colorscale": [
                          [
                            0,
                            "#0d0887"
                          ],
                          [
                            0.1111111111111111,
                            "#46039f"
                          ],
                          [
                            0.2222222222222222,
                            "#7201a8"
                          ],
                          [
                            0.3333333333333333,
                            "#9c179e"
                          ],
                          [
                            0.4444444444444444,
                            "#bd3786"
                          ],
                          [
                            0.5555555555555556,
                            "#d8576b"
                          ],
                          [
                            0.6666666666666666,
                            "#ed7953"
                          ],
                          [
                            0.7777777777777778,
                            "#fb9f3a"
                          ],
                          [
                            0.8888888888888888,
                            "#fdca26"
                          ],
                          [
                            1,
                            "#f0f921"
                          ]
                        ],
                        "type": "histogram2dcontour"
                      }
                    ],
                    "mesh3d": [
                      {
                        "colorbar": {
                          "outlinewidth": 0,
                          "ticks": ""
                        },
                        "type": "mesh3d"
                      }
                    ],
                    "parcoords": [
                      {
                        "line": {
                          "colorbar": {
                            "outlinewidth": 0,
                            "ticks": ""
                          }
                        },
                        "type": "parcoords"
                      }
                    ],
                    "pie": [
                      {
                        "automargin": true,
                        "type": "pie"
                      }
                    ],
                    "scatter": [
                      {
                        "fillpattern": {
                          "fillmode": "overlay",
                          "size": 10,
                          "solidity": 0.2
                        },
                        "type": "scatter"
                      }
                    ],
                    "scatter3d": [
                      {
                        "line": {
                          "colorbar": {
                            "outlinewidth": 0,
                            "ticks": ""
                          }
                        },
                        "marker": {
                          "colorbar": {
                            "outlinewidth": 0,
                            "ticks": ""
                          }
                        },
                        "type": "scatter3d"
                      }
                    ],
                    "scattercarpet": [
                      {
                        "marker": {
                          "colorbar": {
                            "outlinewidth": 0,
                            "ticks": ""
                          }
                        },
                        "type": "scattercarpet"
                      }
                    ],
                    "scattergeo": [
                      {
                        "marker": {
                          "colorbar": {
                            "outlinewidth": 0,
                            "ticks": ""
                          }
                        },
                        "type": "scattergeo"
                      }
                    ],
                    "scattergl": [
                      {
                        "marker": {
                          "colorbar": {
                            "outlinewidth": 0,
                            "ticks": ""
                          }
                        },
                        "type": "scattergl"
                      }
                    ],
                    "scattermapbox": [
                      {
                        "marker": {
                          "colorbar": {
                            "outlinewidth": 0,
                            "ticks": ""
                          }
                        },
                        "type": "scattermapbox"
                      }
                    ],
                    "scatterpolar": [
                      {
                        "marker": {
                          "colorbar": {
                            "outlinewidth": 0,
                            "ticks": ""
                          }
                        },
                        "type": "scatterpolar"
                      }
                    ],
                    "scatterpolargl": [
                      {
                        "marker": {
                          "colorbar": {
                            "outlinewidth": 0,
                            "ticks": ""
                          }
                        },
                        "type": "scatterpolargl"
                      }
                    ],
                    "scatterternary": [
                      {
                        "marker": {
                          "colorbar": {
                            "outlinewidth": 0,
                            "ticks": ""
                          }
                        },
                        "type": "scatterternary"
                      }
                    ],
                    "surface": [
                      {
                        "colorbar": {
                          "outlinewidth": 0,
                          "ticks": ""
                        },
                        "colorscale": [
                          [
                            0,
                            "#0d0887"
                          ],
                          [
                            0.1111111111111111,
                            "#46039f"
                          ],
                          [
                            0.2222222222222222,
                            "#7201a8"
                          ],
                          [
                            0.3333333333333333,
                            "#9c179e"
                          ],
                          [
                            0.4444444444444444,
                            "#bd3786"
                          ],
                          [
                            0.5555555555555556,
                            "#d8576b"
                          ],
                          [
                            0.6666666666666666,
                            "#ed7953"
                          ],
                          [
                            0.7777777777777778,
                            "#fb9f3a"
                          ],
                          [
                            0.8888888888888888,
                            "#fdca26"
                          ],
                          [
                            1,
                            "#f0f921"
                          ]
                        ],
                        "type": "surface"
                      }
                    ],
                    "table": [
                      {
                        "cells": {
                          "fill": {
                            "color": "#EBF0F8"
                          },
                          "line": {
                            "color": "white"
                          }
                        },
                        "header": {
                          "fill": {
                            "color": "#C8D4E3"
                          },
                          "line": {
                            "color": "white"
                          }
                        },
                        "type": "table"
                      }
                    ]
                  },
                  "layout": {
                    "annotationdefaults": {
                      "arrowcolor": "#2a3f5f",
                      "arrowhead": 0,
                      "arrowwidth": 1
                    },
                    "autotypenumbers": "strict",
                    "coloraxis": {
                      "colorbar": {
                        "outlinewidth": 0,
                        "ticks": ""
                      }
                    },
                    "colorscale": {
                      "diverging": [
                        [
                          0,
                          "#8e0152"
                        ],
                        [
                          0.1,
                          "#c51b7d"
                        ],
                        [
                          0.2,
                          "#de77ae"
                        ],
                        [
                          0.3,
                          "#f1b6da"
                        ],
                        [
                          0.4,
                          "#fde0ef"
                        ],
                        [
                          0.5,
                          "#f7f7f7"
                        ],
                        [
                          0.6,
                          "#e6f5d0"
                        ],
                        [
                          0.7,
                          "#b8e186"
                        ],
                        [
                          0.8,
                          "#7fbc41"
                        ],
                        [
                          0.9,
                          "#4d9221"
                        ],
                        [
                          1,
                          "#276419"
                        ]
                      ],
                      "sequential": [
                        [
                          0,
                          "#0d0887"
                        ],
                        [
                          0.1111111111111111,
                          "#46039f"
                        ],
                        [
                          0.2222222222222222,
                          "#7201a8"
                        ],
                        [
                          0.3333333333333333,
                          "#9c179e"
                        ],
                        [
                          0.4444444444444444,
                          "#bd3786"
                        ],
                        [
                          0.5555555555555556,
                          "#d8576b"
                        ],
                        [
                          0.6666666666666666,
                          "#ed7953"
                        ],
                        [
                          0.7777777777777778,
                          "#fb9f3a"
                        ],
                        [
                          0.8888888888888888,
                          "#fdca26"
                        ],
                        [
                          1,
                          "#f0f921"
                        ]
                      ],
                      "sequentialminus": [
                        [
                          0,
                          "#0d0887"
                        ],
                        [
                          0.1111111111111111,
                          "#46039f"
                        ],
                        [
                          0.2222222222222222,
                          "#7201a8"
                        ],
                        [
                          0.3333333333333333,
                          "#9c179e"
                        ],
                        [
                          0.4444444444444444,
                          "#bd3786"
                        ],
                        [
                          0.5555555555555556,
                          "#d8576b"
                        ],
                        [
                          0.6666666666666666,
                          "#ed7953"
                        ],
                        [
                          0.7777777777777778,
                          "#fb9f3a"
                        ],
                        [
                          0.8888888888888888,
                          "#fdca26"
                        ],
                        [
                          1,
                          "#f0f921"
                        ]
                      ]
                    },
                    "colorway": [
                      "#636efa",
                      "#EF553B",
                      "#00cc96",
                      "#ab63fa",
                      "#FFA15A",
                      "#19d3f3",
                      "#FF6692",
                      "#B6E880",
                      "#FF97FF",
                      "#FECB52"
                    ],
                    "font": {
                      "color": "#2a3f5f"
                    },
                    "geo": {
                      "bgcolor": "white",
                      "lakecolor": "white",
                      "landcolor": "#E5ECF6",
                      "showlakes": true,
                      "showland": true,
                      "subunitcolor": "white"
                    },
                    "hoverlabel": {
                      "align": "left"
                    },
                    "hovermode": "closest",
                    "mapbox": {
                      "style": "light"
                    },
                    "paper_bgcolor": "white",
                    "plot_bgcolor": "#E5ECF6",
                    "polar": {
                      "angularaxis": {
                        "gridcolor": "white",
                        "linecolor": "white",
                        "ticks": ""
                      },
                      "bgcolor": "#E5ECF6",
                      "radialaxis": {
                        "gridcolor": "white",
                        "linecolor": "white",
                        "ticks": ""
                      }
                    },
                    "scene": {
                      "xaxis": {
                        "backgroundcolor": "#E5ECF6",
                        "gridcolor": "white",
                        "gridwidth": 2,
                        "linecolor": "white",
                        "showbackground": true,
                        "ticks": "",
                        "zerolinecolor": "white"
                      },
                      "yaxis": {
                        "backgroundcolor": "#E5ECF6",
                        "gridcolor": "white",
                        "gridwidth": 2,
                        "linecolor": "white",
                        "showbackground": true,
                        "ticks": "",
                        "zerolinecolor": "white"
                      },
                      "zaxis": {
                        "backgroundcolor": "#E5ECF6",
                        "gridcolor": "white",
                        "gridwidth": 2,
                        "linecolor": "white",
                        "showbackground": true,
                        "ticks": "",
                        "zerolinecolor": "white"
                      }
                    },
                    "shapedefaults": {
                      "line": {
                        "color": "#2a3f5f"
                      }
                    },
                    "ternary": {
                      "aaxis": {
                        "gridcolor": "white",
                        "linecolor": "white",
                        "ticks": ""
                      },
                      "baxis": {
                        "gridcolor": "white",
                        "linecolor": "white",
                        "ticks": ""
                      },
                      "bgcolor": "#E5ECF6",
                      "caxis": {
                        "gridcolor": "white",
                        "linecolor": "white",
                        "ticks": ""
                      }
                    },
                    "title": {
                      "x": 0.05
                    },
                    "xaxis": {
                      "automargin": true,
                      "gridcolor": "white",
                      "linecolor": "white",
                      "ticks": "",
                      "title": {
                        "standoff": 15
                      },
                      "zerolinecolor": "white",
                      "zerolinewidth": 2
                    },
                    "yaxis": {
                      "automargin": true,
                      "gridcolor": "white",
                      "linecolor": "white",
                      "ticks": "",
                      "title": {
                        "standoff": 15
                      },
                      "zerolinecolor": "white",
                      "zerolinewidth": 2
                    }
                  }
                }
              }
            }
          },
          "metadata": {},
          "output_type": "display_data"
        }
      ],
      "source": [
        "metric_tables = []\n",
        "# TODO add latest avaliable year to the title of the table\n",
        "for id, df in fuvest_metrics_df.reset_index().groupby('id'):\n",
        "  latest_metrics_df = df.loc[df.ano == df.ano.max()]\n",
        "  metric_tables.append(table_from_df(latest_metrics_df,\n",
        "                                     ['modalidade', 'Mínimo', 'Médio', 'Máximo'],\n",
        "                                     ['Modalidade', 'Mínima', 'Média', 'Máxima'],\n",
        "                                     [None, '.2f', '.2f', '.2f']))\n",
        "\n",
        "print(len(metric_tables))\n",
        "metric_tables[0].show()"
      ]
    },
    {
      "cell_type": "code",
      "execution_count": null,
      "metadata": {
        "colab": {
          "base_uri": "https://localhost:8080/",
          "height": 542
        },
        "id": "kshpbcr90cxC",
        "outputId": "1a8d7571-4db3-4c84-e932-7dfd2f864882"
      },
      "outputs": [
        {
          "data": {
            "text/html": [
              "<html>\n",
              "<head><meta charset=\"utf-8\" /></head>\n",
              "<body>\n",
              "    <div>            <script src=\"https://cdnjs.cloudflare.com/ajax/libs/mathjax/2.7.5/MathJax.js?config=TeX-AMS-MML_SVG\"></script><script type=\"text/javascript\">if (window.MathJax) {MathJax.Hub.Config({SVG: {font: \"STIX-Web\"}});}</script>                <script type=\"text/javascript\">window.PlotlyConfig = {MathJaxConfig: 'local'};</script>\n",
              "        <script src=\"https://cdn.plot.ly/plotly-2.8.3.min.js\"></script>                <div id=\"8498127a-0b1d-45cf-8903-61d5e1d8c17b\" class=\"plotly-graph-div\" style=\"height:525px; width:100%;\"></div>            <script type=\"text/javascript\">                                    window.PLOTLYENV=window.PLOTLYENV || {};                                    if (document.getElementById(\"8498127a-0b1d-45cf-8903-61d5e1d8c17b\")) {                    Plotly.newPlot(                        \"8498127a-0b1d-45cf-8903-61d5e1d8c17b\",                        [{\"cells\":{\"format\":[null,\".2f\",\".2f\",\".2f\"],\"values\":[[\"Ampla Concorr\\u00eancia (AC)\",\"Escola P\\u00fablica (EP)\",\"Pretos, Pardos e Ind\\u00edgenas (PPI)\"],[714.63,523.52,623.0],[727.964,551.6949999999999,628.35],[735.93,579.26,633.7]]},\"header\":{\"align\":\"center\",\"values\":[\"Modalidade\",\"M\\u00ednima\",\"M\\u00e9dia\",\"M\\u00e1xima\"]},\"type\":\"table\"}],                        {\"template\":{\"data\":{\"bar\":[{\"error_x\":{\"color\":\"#2a3f5f\"},\"error_y\":{\"color\":\"#2a3f5f\"},\"marker\":{\"line\":{\"color\":\"#E5ECF6\",\"width\":0.5},\"pattern\":{\"fillmode\":\"overlay\",\"size\":10,\"solidity\":0.2}},\"type\":\"bar\"}],\"barpolar\":[{\"marker\":{\"line\":{\"color\":\"#E5ECF6\",\"width\":0.5},\"pattern\":{\"fillmode\":\"overlay\",\"size\":10,\"solidity\":0.2}},\"type\":\"barpolar\"}],\"carpet\":[{\"aaxis\":{\"endlinecolor\":\"#2a3f5f\",\"gridcolor\":\"white\",\"linecolor\":\"white\",\"minorgridcolor\":\"white\",\"startlinecolor\":\"#2a3f5f\"},\"baxis\":{\"endlinecolor\":\"#2a3f5f\",\"gridcolor\":\"white\",\"linecolor\":\"white\",\"minorgridcolor\":\"white\",\"startlinecolor\":\"#2a3f5f\"},\"type\":\"carpet\"}],\"choropleth\":[{\"colorbar\":{\"outlinewidth\":0,\"ticks\":\"\"},\"type\":\"choropleth\"}],\"contour\":[{\"colorbar\":{\"outlinewidth\":0,\"ticks\":\"\"},\"colorscale\":[[0.0,\"#0d0887\"],[0.1111111111111111,\"#46039f\"],[0.2222222222222222,\"#7201a8\"],[0.3333333333333333,\"#9c179e\"],[0.4444444444444444,\"#bd3786\"],[0.5555555555555556,\"#d8576b\"],[0.6666666666666666,\"#ed7953\"],[0.7777777777777778,\"#fb9f3a\"],[0.8888888888888888,\"#fdca26\"],[1.0,\"#f0f921\"]],\"type\":\"contour\"}],\"contourcarpet\":[{\"colorbar\":{\"outlinewidth\":0,\"ticks\":\"\"},\"type\":\"contourcarpet\"}],\"heatmap\":[{\"colorbar\":{\"outlinewidth\":0,\"ticks\":\"\"},\"colorscale\":[[0.0,\"#0d0887\"],[0.1111111111111111,\"#46039f\"],[0.2222222222222222,\"#7201a8\"],[0.3333333333333333,\"#9c179e\"],[0.4444444444444444,\"#bd3786\"],[0.5555555555555556,\"#d8576b\"],[0.6666666666666666,\"#ed7953\"],[0.7777777777777778,\"#fb9f3a\"],[0.8888888888888888,\"#fdca26\"],[1.0,\"#f0f921\"]],\"type\":\"heatmap\"}],\"heatmapgl\":[{\"colorbar\":{\"outlinewidth\":0,\"ticks\":\"\"},\"colorscale\":[[0.0,\"#0d0887\"],[0.1111111111111111,\"#46039f\"],[0.2222222222222222,\"#7201a8\"],[0.3333333333333333,\"#9c179e\"],[0.4444444444444444,\"#bd3786\"],[0.5555555555555556,\"#d8576b\"],[0.6666666666666666,\"#ed7953\"],[0.7777777777777778,\"#fb9f3a\"],[0.8888888888888888,\"#fdca26\"],[1.0,\"#f0f921\"]],\"type\":\"heatmapgl\"}],\"histogram\":[{\"marker\":{\"pattern\":{\"fillmode\":\"overlay\",\"size\":10,\"solidity\":0.2}},\"type\":\"histogram\"}],\"histogram2d\":[{\"colorbar\":{\"outlinewidth\":0,\"ticks\":\"\"},\"colorscale\":[[0.0,\"#0d0887\"],[0.1111111111111111,\"#46039f\"],[0.2222222222222222,\"#7201a8\"],[0.3333333333333333,\"#9c179e\"],[0.4444444444444444,\"#bd3786\"],[0.5555555555555556,\"#d8576b\"],[0.6666666666666666,\"#ed7953\"],[0.7777777777777778,\"#fb9f3a\"],[0.8888888888888888,\"#fdca26\"],[1.0,\"#f0f921\"]],\"type\":\"histogram2d\"}],\"histogram2dcontour\":[{\"colorbar\":{\"outlinewidth\":0,\"ticks\":\"\"},\"colorscale\":[[0.0,\"#0d0887\"],[0.1111111111111111,\"#46039f\"],[0.2222222222222222,\"#7201a8\"],[0.3333333333333333,\"#9c179e\"],[0.4444444444444444,\"#bd3786\"],[0.5555555555555556,\"#d8576b\"],[0.6666666666666666,\"#ed7953\"],[0.7777777777777778,\"#fb9f3a\"],[0.8888888888888888,\"#fdca26\"],[1.0,\"#f0f921\"]],\"type\":\"histogram2dcontour\"}],\"mesh3d\":[{\"colorbar\":{\"outlinewidth\":0,\"ticks\":\"\"},\"type\":\"mesh3d\"}],\"parcoords\":[{\"line\":{\"colorbar\":{\"outlinewidth\":0,\"ticks\":\"\"}},\"type\":\"parcoords\"}],\"pie\":[{\"automargin\":true,\"type\":\"pie\"}],\"scatter\":[{\"marker\":{\"colorbar\":{\"outlinewidth\":0,\"ticks\":\"\"}},\"type\":\"scatter\"}],\"scatter3d\":[{\"line\":{\"colorbar\":{\"outlinewidth\":0,\"ticks\":\"\"}},\"marker\":{\"colorbar\":{\"outlinewidth\":0,\"ticks\":\"\"}},\"type\":\"scatter3d\"}],\"scattercarpet\":[{\"marker\":{\"colorbar\":{\"outlinewidth\":0,\"ticks\":\"\"}},\"type\":\"scattercarpet\"}],\"scattergeo\":[{\"marker\":{\"colorbar\":{\"outlinewidth\":0,\"ticks\":\"\"}},\"type\":\"scattergeo\"}],\"scattergl\":[{\"marker\":{\"colorbar\":{\"outlinewidth\":0,\"ticks\":\"\"}},\"type\":\"scattergl\"}],\"scattermapbox\":[{\"marker\":{\"colorbar\":{\"outlinewidth\":0,\"ticks\":\"\"}},\"type\":\"scattermapbox\"}],\"scatterpolar\":[{\"marker\":{\"colorbar\":{\"outlinewidth\":0,\"ticks\":\"\"}},\"type\":\"scatterpolar\"}],\"scatterpolargl\":[{\"marker\":{\"colorbar\":{\"outlinewidth\":0,\"ticks\":\"\"}},\"type\":\"scatterpolargl\"}],\"scatterternary\":[{\"marker\":{\"colorbar\":{\"outlinewidth\":0,\"ticks\":\"\"}},\"type\":\"scatterternary\"}],\"surface\":[{\"colorbar\":{\"outlinewidth\":0,\"ticks\":\"\"},\"colorscale\":[[0.0,\"#0d0887\"],[0.1111111111111111,\"#46039f\"],[0.2222222222222222,\"#7201a8\"],[0.3333333333333333,\"#9c179e\"],[0.4444444444444444,\"#bd3786\"],[0.5555555555555556,\"#d8576b\"],[0.6666666666666666,\"#ed7953\"],[0.7777777777777778,\"#fb9f3a\"],[0.8888888888888888,\"#fdca26\"],[1.0,\"#f0f921\"]],\"type\":\"surface\"}],\"table\":[{\"cells\":{\"fill\":{\"color\":\"#EBF0F8\"},\"line\":{\"color\":\"white\"}},\"header\":{\"fill\":{\"color\":\"#C8D4E3\"},\"line\":{\"color\":\"white\"}},\"type\":\"table\"}]},\"layout\":{\"annotationdefaults\":{\"arrowcolor\":\"#2a3f5f\",\"arrowhead\":0,\"arrowwidth\":1},\"autotypenumbers\":\"strict\",\"coloraxis\":{\"colorbar\":{\"outlinewidth\":0,\"ticks\":\"\"}},\"colorscale\":{\"diverging\":[[0,\"#8e0152\"],[0.1,\"#c51b7d\"],[0.2,\"#de77ae\"],[0.3,\"#f1b6da\"],[0.4,\"#fde0ef\"],[0.5,\"#f7f7f7\"],[0.6,\"#e6f5d0\"],[0.7,\"#b8e186\"],[0.8,\"#7fbc41\"],[0.9,\"#4d9221\"],[1,\"#276419\"]],\"sequential\":[[0.0,\"#0d0887\"],[0.1111111111111111,\"#46039f\"],[0.2222222222222222,\"#7201a8\"],[0.3333333333333333,\"#9c179e\"],[0.4444444444444444,\"#bd3786\"],[0.5555555555555556,\"#d8576b\"],[0.6666666666666666,\"#ed7953\"],[0.7777777777777778,\"#fb9f3a\"],[0.8888888888888888,\"#fdca26\"],[1.0,\"#f0f921\"]],\"sequentialminus\":[[0.0,\"#0d0887\"],[0.1111111111111111,\"#46039f\"],[0.2222222222222222,\"#7201a8\"],[0.3333333333333333,\"#9c179e\"],[0.4444444444444444,\"#bd3786\"],[0.5555555555555556,\"#d8576b\"],[0.6666666666666666,\"#ed7953\"],[0.7777777777777778,\"#fb9f3a\"],[0.8888888888888888,\"#fdca26\"],[1.0,\"#f0f921\"]]},\"colorway\":[\"#636efa\",\"#EF553B\",\"#00cc96\",\"#ab63fa\",\"#FFA15A\",\"#19d3f3\",\"#FF6692\",\"#B6E880\",\"#FF97FF\",\"#FECB52\"],\"font\":{\"color\":\"#2a3f5f\"},\"geo\":{\"bgcolor\":\"white\",\"lakecolor\":\"white\",\"landcolor\":\"#E5ECF6\",\"showlakes\":true,\"showland\":true,\"subunitcolor\":\"white\"},\"hoverlabel\":{\"align\":\"left\"},\"hovermode\":\"closest\",\"mapbox\":{\"style\":\"light\"},\"paper_bgcolor\":\"white\",\"plot_bgcolor\":\"#E5ECF6\",\"polar\":{\"angularaxis\":{\"gridcolor\":\"white\",\"linecolor\":\"white\",\"ticks\":\"\"},\"bgcolor\":\"#E5ECF6\",\"radialaxis\":{\"gridcolor\":\"white\",\"linecolor\":\"white\",\"ticks\":\"\"}},\"scene\":{\"xaxis\":{\"backgroundcolor\":\"#E5ECF6\",\"gridcolor\":\"white\",\"gridwidth\":2,\"linecolor\":\"white\",\"showbackground\":true,\"ticks\":\"\",\"zerolinecolor\":\"white\"},\"yaxis\":{\"backgroundcolor\":\"#E5ECF6\",\"gridcolor\":\"white\",\"gridwidth\":2,\"linecolor\":\"white\",\"showbackground\":true,\"ticks\":\"\",\"zerolinecolor\":\"white\"},\"zaxis\":{\"backgroundcolor\":\"#E5ECF6\",\"gridcolor\":\"white\",\"gridwidth\":2,\"linecolor\":\"white\",\"showbackground\":true,\"ticks\":\"\",\"zerolinecolor\":\"white\"}},\"shapedefaults\":{\"line\":{\"color\":\"#2a3f5f\"}},\"ternary\":{\"aaxis\":{\"gridcolor\":\"white\",\"linecolor\":\"white\",\"ticks\":\"\"},\"baxis\":{\"gridcolor\":\"white\",\"linecolor\":\"white\",\"ticks\":\"\"},\"bgcolor\":\"#E5ECF6\",\"caxis\":{\"gridcolor\":\"white\",\"linecolor\":\"white\",\"ticks\":\"\"}},\"title\":{\"x\":0.05},\"xaxis\":{\"automargin\":true,\"gridcolor\":\"white\",\"linecolor\":\"white\",\"ticks\":\"\",\"title\":{\"standoff\":15},\"zerolinecolor\":\"white\",\"zerolinewidth\":2},\"yaxis\":{\"automargin\":true,\"gridcolor\":\"white\",\"linecolor\":\"white\",\"ticks\":\"\",\"title\":{\"standoff\":15},\"zerolinecolor\":\"white\",\"zerolinewidth\":2}}}},                        {\"responsive\": true}                    ).then(function(){\n",
              "                            \n",
              "var gd = document.getElementById('8498127a-0b1d-45cf-8903-61d5e1d8c17b');\n",
              "var x = new MutationObserver(function (mutations, observer) {{\n",
              "        var display = window.getComputedStyle(gd).display;\n",
              "        if (!display || display === 'none') {{\n",
              "            console.log([gd, 'removed!']);\n",
              "            Plotly.purge(gd);\n",
              "            observer.disconnect();\n",
              "        }}\n",
              "}});\n",
              "\n",
              "// Listen for the removal of the full notebook cells\n",
              "var notebookContainer = gd.closest('#notebook-container');\n",
              "if (notebookContainer) {{\n",
              "    x.observe(notebookContainer, {childList: true});\n",
              "}}\n",
              "\n",
              "// Listen for the clearing of the current output cell\n",
              "var outputEl = gd.closest('.output');\n",
              "if (outputEl) {{\n",
              "    x.observe(outputEl, {childList: true});\n",
              "}}\n",
              "\n",
              "                        })                };                            </script>        </div>\n",
              "</body>\n",
              "</html>"
            ]
          },
          "metadata": {},
          "output_type": "display_data"
        }
      ],
      "source": [
        "metric_tables[45].show()"
      ]
    },
    {
      "cell_type": "code",
      "execution_count": 47,
      "metadata": {
        "id": "K3vIUQYTRkaA"
      },
      "outputs": [],
      "source": [
        "def plot_latest_metrics_table(metrics_df, exam='fuvest'):\n",
        "  # TODO add latest avaliable year to the title of the table\n",
        "  for id, df in metrics_df.reset_index().groupby('id'):\n",
        "    latest_metrics_df = df.loc[df.ano == df.ano.max()]\n",
        "    plotly_fig_to_html(\n",
        "      table_from_df(latest_metrics_df,\n",
        "                    ['modalidade', 'Mínimo', 'Médio', 'Máximo'],\n",
        "                    ['Modalidade', 'Mínima', 'Média', 'Máxima'],\n",
        "                    [None, '.2f', '.2f', '.2f']),\n",
        "      os.path.join(OUTPUT_PATH, str(id), exam,\n",
        "                   'latest_metrics.html'))"
      ]
    },
    {
      "cell_type": "code",
      "execution_count": 48,
      "metadata": {
        "id": "ZsUpOV2fSk5B"
      },
      "outputs": [],
      "source": [
        "plot_latest_metrics_table(fuvest_metrics_df)"
      ]
    },
    {
      "cell_type": "markdown",
      "metadata": {
        "id": "-BJxEYQjQqgt"
      },
      "source": [
        "#### Data tables"
      ]
    },
    {
      "cell_type": "code",
      "execution_count": 49,
      "metadata": {
        "colab": {
          "base_uri": "https://localhost:8080/",
          "height": 560
        },
        "id": "oRsXXlnnBv4p",
        "outputId": "fb59ffd6-666b-4450-86c6-0a5cb42c8387"
      },
      "outputs": [
        {
          "name": "stdout",
          "output_type": "stream",
          "text": [
            "490\n"
          ]
        },
        {
          "data": {
            "application/vnd.plotly.v1+json": {
              "config": {
                "plotlyServerURL": "https://plot.ly"
              },
              "data": [
                {
                  "cells": {
                    "format": [
                      null,
                      null,
                      ".2f",
                      ".2f",
                      ".2f",
                      ".1f",
                      null,
                      null
                    ],
                    "values": [
                      [
                        "<NA>",
                        "<NA>",
                        "<NA>",
                        "<NA>"
                      ],
                      [
                        "63",
                        "55",
                        "51",
                        "50"
                      ],
                      [
                        "51.0",
                        "61.0",
                        "50.0",
                        "55.0"
                      ],
                      [
                        "43.0",
                        "25.83",
                        "30.83",
                        "16.67"
                      ],
                      [
                        "546.6666667",
                        "493.137037",
                        "458.3222222",
                        "424.0851852"
                      ],
                      [
                        "28.0",
                        "33.0",
                        "29.5",
                        "29.5"
                      ],
                      [
                        "41",
                        "63",
                        "98",
                        "143"
                      ],
                      [
                        "<NA>",
                        "<NA>",
                        "<NA>",
                        "<NA>"
                      ]
                    ]
                  },
                  "header": {
                    "align": "center",
                    "values": [
                      "Chamada",
                      "1° fase",
                      "2° fase, 1° dia",
                      "2° fase, 2° dia",
                      "Nota final",
                      "Nota da redação",
                      "Classificação na carreira",
                      "Classificação no curso"
                    ]
                  },
                  "type": "table"
                }
              ],
              "layout": {
                "template": {
                  "data": {
                    "bar": [
                      {
                        "error_x": {
                          "color": "#2a3f5f"
                        },
                        "error_y": {
                          "color": "#2a3f5f"
                        },
                        "marker": {
                          "line": {
                            "color": "#E5ECF6",
                            "width": 0.5
                          },
                          "pattern": {
                            "fillmode": "overlay",
                            "size": 10,
                            "solidity": 0.2
                          }
                        },
                        "type": "bar"
                      }
                    ],
                    "barpolar": [
                      {
                        "marker": {
                          "line": {
                            "color": "#E5ECF6",
                            "width": 0.5
                          },
                          "pattern": {
                            "fillmode": "overlay",
                            "size": 10,
                            "solidity": 0.2
                          }
                        },
                        "type": "barpolar"
                      }
                    ],
                    "carpet": [
                      {
                        "aaxis": {
                          "endlinecolor": "#2a3f5f",
                          "gridcolor": "white",
                          "linecolor": "white",
                          "minorgridcolor": "white",
                          "startlinecolor": "#2a3f5f"
                        },
                        "baxis": {
                          "endlinecolor": "#2a3f5f",
                          "gridcolor": "white",
                          "linecolor": "white",
                          "minorgridcolor": "white",
                          "startlinecolor": "#2a3f5f"
                        },
                        "type": "carpet"
                      }
                    ],
                    "choropleth": [
                      {
                        "colorbar": {
                          "outlinewidth": 0,
                          "ticks": ""
                        },
                        "type": "choropleth"
                      }
                    ],
                    "contour": [
                      {
                        "colorbar": {
                          "outlinewidth": 0,
                          "ticks": ""
                        },
                        "colorscale": [
                          [
                            0,
                            "#0d0887"
                          ],
                          [
                            0.1111111111111111,
                            "#46039f"
                          ],
                          [
                            0.2222222222222222,
                            "#7201a8"
                          ],
                          [
                            0.3333333333333333,
                            "#9c179e"
                          ],
                          [
                            0.4444444444444444,
                            "#bd3786"
                          ],
                          [
                            0.5555555555555556,
                            "#d8576b"
                          ],
                          [
                            0.6666666666666666,
                            "#ed7953"
                          ],
                          [
                            0.7777777777777778,
                            "#fb9f3a"
                          ],
                          [
                            0.8888888888888888,
                            "#fdca26"
                          ],
                          [
                            1,
                            "#f0f921"
                          ]
                        ],
                        "type": "contour"
                      }
                    ],
                    "contourcarpet": [
                      {
                        "colorbar": {
                          "outlinewidth": 0,
                          "ticks": ""
                        },
                        "type": "contourcarpet"
                      }
                    ],
                    "heatmap": [
                      {
                        "colorbar": {
                          "outlinewidth": 0,
                          "ticks": ""
                        },
                        "colorscale": [
                          [
                            0,
                            "#0d0887"
                          ],
                          [
                            0.1111111111111111,
                            "#46039f"
                          ],
                          [
                            0.2222222222222222,
                            "#7201a8"
                          ],
                          [
                            0.3333333333333333,
                            "#9c179e"
                          ],
                          [
                            0.4444444444444444,
                            "#bd3786"
                          ],
                          [
                            0.5555555555555556,
                            "#d8576b"
                          ],
                          [
                            0.6666666666666666,
                            "#ed7953"
                          ],
                          [
                            0.7777777777777778,
                            "#fb9f3a"
                          ],
                          [
                            0.8888888888888888,
                            "#fdca26"
                          ],
                          [
                            1,
                            "#f0f921"
                          ]
                        ],
                        "type": "heatmap"
                      }
                    ],
                    "heatmapgl": [
                      {
                        "colorbar": {
                          "outlinewidth": 0,
                          "ticks": ""
                        },
                        "colorscale": [
                          [
                            0,
                            "#0d0887"
                          ],
                          [
                            0.1111111111111111,
                            "#46039f"
                          ],
                          [
                            0.2222222222222222,
                            "#7201a8"
                          ],
                          [
                            0.3333333333333333,
                            "#9c179e"
                          ],
                          [
                            0.4444444444444444,
                            "#bd3786"
                          ],
                          [
                            0.5555555555555556,
                            "#d8576b"
                          ],
                          [
                            0.6666666666666666,
                            "#ed7953"
                          ],
                          [
                            0.7777777777777778,
                            "#fb9f3a"
                          ],
                          [
                            0.8888888888888888,
                            "#fdca26"
                          ],
                          [
                            1,
                            "#f0f921"
                          ]
                        ],
                        "type": "heatmapgl"
                      }
                    ],
                    "histogram": [
                      {
                        "marker": {
                          "pattern": {
                            "fillmode": "overlay",
                            "size": 10,
                            "solidity": 0.2
                          }
                        },
                        "type": "histogram"
                      }
                    ],
                    "histogram2d": [
                      {
                        "colorbar": {
                          "outlinewidth": 0,
                          "ticks": ""
                        },
                        "colorscale": [
                          [
                            0,
                            "#0d0887"
                          ],
                          [
                            0.1111111111111111,
                            "#46039f"
                          ],
                          [
                            0.2222222222222222,
                            "#7201a8"
                          ],
                          [
                            0.3333333333333333,
                            "#9c179e"
                          ],
                          [
                            0.4444444444444444,
                            "#bd3786"
                          ],
                          [
                            0.5555555555555556,
                            "#d8576b"
                          ],
                          [
                            0.6666666666666666,
                            "#ed7953"
                          ],
                          [
                            0.7777777777777778,
                            "#fb9f3a"
                          ],
                          [
                            0.8888888888888888,
                            "#fdca26"
                          ],
                          [
                            1,
                            "#f0f921"
                          ]
                        ],
                        "type": "histogram2d"
                      }
                    ],
                    "histogram2dcontour": [
                      {
                        "colorbar": {
                          "outlinewidth": 0,
                          "ticks": ""
                        },
                        "colorscale": [
                          [
                            0,
                            "#0d0887"
                          ],
                          [
                            0.1111111111111111,
                            "#46039f"
                          ],
                          [
                            0.2222222222222222,
                            "#7201a8"
                          ],
                          [
                            0.3333333333333333,
                            "#9c179e"
                          ],
                          [
                            0.4444444444444444,
                            "#bd3786"
                          ],
                          [
                            0.5555555555555556,
                            "#d8576b"
                          ],
                          [
                            0.6666666666666666,
                            "#ed7953"
                          ],
                          [
                            0.7777777777777778,
                            "#fb9f3a"
                          ],
                          [
                            0.8888888888888888,
                            "#fdca26"
                          ],
                          [
                            1,
                            "#f0f921"
                          ]
                        ],
                        "type": "histogram2dcontour"
                      }
                    ],
                    "mesh3d": [
                      {
                        "colorbar": {
                          "outlinewidth": 0,
                          "ticks": ""
                        },
                        "type": "mesh3d"
                      }
                    ],
                    "parcoords": [
                      {
                        "line": {
                          "colorbar": {
                            "outlinewidth": 0,
                            "ticks": ""
                          }
                        },
                        "type": "parcoords"
                      }
                    ],
                    "pie": [
                      {
                        "automargin": true,
                        "type": "pie"
                      }
                    ],
                    "scatter": [
                      {
                        "fillpattern": {
                          "fillmode": "overlay",
                          "size": 10,
                          "solidity": 0.2
                        },
                        "type": "scatter"
                      }
                    ],
                    "scatter3d": [
                      {
                        "line": {
                          "colorbar": {
                            "outlinewidth": 0,
                            "ticks": ""
                          }
                        },
                        "marker": {
                          "colorbar": {
                            "outlinewidth": 0,
                            "ticks": ""
                          }
                        },
                        "type": "scatter3d"
                      }
                    ],
                    "scattercarpet": [
                      {
                        "marker": {
                          "colorbar": {
                            "outlinewidth": 0,
                            "ticks": ""
                          }
                        },
                        "type": "scattercarpet"
                      }
                    ],
                    "scattergeo": [
                      {
                        "marker": {
                          "colorbar": {
                            "outlinewidth": 0,
                            "ticks": ""
                          }
                        },
                        "type": "scattergeo"
                      }
                    ],
                    "scattergl": [
                      {
                        "marker": {
                          "colorbar": {
                            "outlinewidth": 0,
                            "ticks": ""
                          }
                        },
                        "type": "scattergl"
                      }
                    ],
                    "scattermapbox": [
                      {
                        "marker": {
                          "colorbar": {
                            "outlinewidth": 0,
                            "ticks": ""
                          }
                        },
                        "type": "scattermapbox"
                      }
                    ],
                    "scatterpolar": [
                      {
                        "marker": {
                          "colorbar": {
                            "outlinewidth": 0,
                            "ticks": ""
                          }
                        },
                        "type": "scatterpolar"
                      }
                    ],
                    "scatterpolargl": [
                      {
                        "marker": {
                          "colorbar": {
                            "outlinewidth": 0,
                            "ticks": ""
                          }
                        },
                        "type": "scatterpolargl"
                      }
                    ],
                    "scatterternary": [
                      {
                        "marker": {
                          "colorbar": {
                            "outlinewidth": 0,
                            "ticks": ""
                          }
                        },
                        "type": "scatterternary"
                      }
                    ],
                    "surface": [
                      {
                        "colorbar": {
                          "outlinewidth": 0,
                          "ticks": ""
                        },
                        "colorscale": [
                          [
                            0,
                            "#0d0887"
                          ],
                          [
                            0.1111111111111111,
                            "#46039f"
                          ],
                          [
                            0.2222222222222222,
                            "#7201a8"
                          ],
                          [
                            0.3333333333333333,
                            "#9c179e"
                          ],
                          [
                            0.4444444444444444,
                            "#bd3786"
                          ],
                          [
                            0.5555555555555556,
                            "#d8576b"
                          ],
                          [
                            0.6666666666666666,
                            "#ed7953"
                          ],
                          [
                            0.7777777777777778,
                            "#fb9f3a"
                          ],
                          [
                            0.8888888888888888,
                            "#fdca26"
                          ],
                          [
                            1,
                            "#f0f921"
                          ]
                        ],
                        "type": "surface"
                      }
                    ],
                    "table": [
                      {
                        "cells": {
                          "fill": {
                            "color": "#EBF0F8"
                          },
                          "line": {
                            "color": "white"
                          }
                        },
                        "header": {
                          "fill": {
                            "color": "#C8D4E3"
                          },
                          "line": {
                            "color": "white"
                          }
                        },
                        "type": "table"
                      }
                    ]
                  },
                  "layout": {
                    "annotationdefaults": {
                      "arrowcolor": "#2a3f5f",
                      "arrowhead": 0,
                      "arrowwidth": 1
                    },
                    "autotypenumbers": "strict",
                    "coloraxis": {
                      "colorbar": {
                        "outlinewidth": 0,
                        "ticks": ""
                      }
                    },
                    "colorscale": {
                      "diverging": [
                        [
                          0,
                          "#8e0152"
                        ],
                        [
                          0.1,
                          "#c51b7d"
                        ],
                        [
                          0.2,
                          "#de77ae"
                        ],
                        [
                          0.3,
                          "#f1b6da"
                        ],
                        [
                          0.4,
                          "#fde0ef"
                        ],
                        [
                          0.5,
                          "#f7f7f7"
                        ],
                        [
                          0.6,
                          "#e6f5d0"
                        ],
                        [
                          0.7,
                          "#b8e186"
                        ],
                        [
                          0.8,
                          "#7fbc41"
                        ],
                        [
                          0.9,
                          "#4d9221"
                        ],
                        [
                          1,
                          "#276419"
                        ]
                      ],
                      "sequential": [
                        [
                          0,
                          "#0d0887"
                        ],
                        [
                          0.1111111111111111,
                          "#46039f"
                        ],
                        [
                          0.2222222222222222,
                          "#7201a8"
                        ],
                        [
                          0.3333333333333333,
                          "#9c179e"
                        ],
                        [
                          0.4444444444444444,
                          "#bd3786"
                        ],
                        [
                          0.5555555555555556,
                          "#d8576b"
                        ],
                        [
                          0.6666666666666666,
                          "#ed7953"
                        ],
                        [
                          0.7777777777777778,
                          "#fb9f3a"
                        ],
                        [
                          0.8888888888888888,
                          "#fdca26"
                        ],
                        [
                          1,
                          "#f0f921"
                        ]
                      ],
                      "sequentialminus": [
                        [
                          0,
                          "#0d0887"
                        ],
                        [
                          0.1111111111111111,
                          "#46039f"
                        ],
                        [
                          0.2222222222222222,
                          "#7201a8"
                        ],
                        [
                          0.3333333333333333,
                          "#9c179e"
                        ],
                        [
                          0.4444444444444444,
                          "#bd3786"
                        ],
                        [
                          0.5555555555555556,
                          "#d8576b"
                        ],
                        [
                          0.6666666666666666,
                          "#ed7953"
                        ],
                        [
                          0.7777777777777778,
                          "#fb9f3a"
                        ],
                        [
                          0.8888888888888888,
                          "#fdca26"
                        ],
                        [
                          1,
                          "#f0f921"
                        ]
                      ]
                    },
                    "colorway": [
                      "#636efa",
                      "#EF553B",
                      "#00cc96",
                      "#ab63fa",
                      "#FFA15A",
                      "#19d3f3",
                      "#FF6692",
                      "#B6E880",
                      "#FF97FF",
                      "#FECB52"
                    ],
                    "font": {
                      "color": "#2a3f5f"
                    },
                    "geo": {
                      "bgcolor": "white",
                      "lakecolor": "white",
                      "landcolor": "#E5ECF6",
                      "showlakes": true,
                      "showland": true,
                      "subunitcolor": "white"
                    },
                    "hoverlabel": {
                      "align": "left"
                    },
                    "hovermode": "closest",
                    "mapbox": {
                      "style": "light"
                    },
                    "paper_bgcolor": "white",
                    "plot_bgcolor": "#E5ECF6",
                    "polar": {
                      "angularaxis": {
                        "gridcolor": "white",
                        "linecolor": "white",
                        "ticks": ""
                      },
                      "bgcolor": "#E5ECF6",
                      "radialaxis": {
                        "gridcolor": "white",
                        "linecolor": "white",
                        "ticks": ""
                      }
                    },
                    "scene": {
                      "xaxis": {
                        "backgroundcolor": "#E5ECF6",
                        "gridcolor": "white",
                        "gridwidth": 2,
                        "linecolor": "white",
                        "showbackground": true,
                        "ticks": "",
                        "zerolinecolor": "white"
                      },
                      "yaxis": {
                        "backgroundcolor": "#E5ECF6",
                        "gridcolor": "white",
                        "gridwidth": 2,
                        "linecolor": "white",
                        "showbackground": true,
                        "ticks": "",
                        "zerolinecolor": "white"
                      },
                      "zaxis": {
                        "backgroundcolor": "#E5ECF6",
                        "gridcolor": "white",
                        "gridwidth": 2,
                        "linecolor": "white",
                        "showbackground": true,
                        "ticks": "",
                        "zerolinecolor": "white"
                      }
                    },
                    "shapedefaults": {
                      "line": {
                        "color": "#2a3f5f"
                      }
                    },
                    "ternary": {
                      "aaxis": {
                        "gridcolor": "white",
                        "linecolor": "white",
                        "ticks": ""
                      },
                      "baxis": {
                        "gridcolor": "white",
                        "linecolor": "white",
                        "ticks": ""
                      },
                      "bgcolor": "#E5ECF6",
                      "caxis": {
                        "gridcolor": "white",
                        "linecolor": "white",
                        "ticks": ""
                      }
                    },
                    "title": {
                      "x": 0.05
                    },
                    "xaxis": {
                      "automargin": true,
                      "gridcolor": "white",
                      "linecolor": "white",
                      "ticks": "",
                      "title": {
                        "standoff": 15
                      },
                      "zerolinecolor": "white",
                      "zerolinewidth": 2
                    },
                    "yaxis": {
                      "automargin": true,
                      "gridcolor": "white",
                      "linecolor": "white",
                      "ticks": "",
                      "title": {
                        "standoff": 15
                      },
                      "zerolinecolor": "white",
                      "zerolinewidth": 2
                    }
                  }
                }
              }
            }
          },
          "metadata": {},
          "output_type": "display_data"
        }
      ],
      "source": [
        "TABLE_COL_NAMES = [\n",
        "  'chamada',\n",
        "  'nota_1',\n",
        "  'nota_2_1',\n",
        "  'nota_2_2',\n",
        "  'nota_final',\n",
        "  'nota_redacao',\n",
        "  'classificacao_carreira',\n",
        "  'classificacao_curso',\n",
        "]\n",
        "HEADER_COL_NAMES = [\n",
        "  'Chamada',\n",
        "  '1° fase',\n",
        "  '2° fase, 1° dia',\n",
        "  '2° fase, 2° dia',\n",
        "  'Nota final',\n",
        "  'Nota da redação',\n",
        "  'Classificação na carreira',\n",
        "  'Classificação no curso',\n",
        "]\n",
        "COL_FORMATS = [None, None, '.2f', '.2f', '.2f', '.1f', None, None]\n",
        "data_tables = []\n",
        "\n",
        "for id, df in fuvest.groupby('id'):\n",
        "  df = df.reset_index()\n",
        "  for ano in df['ano'].unique():\n",
        "    for modalidade in df['modalidade'].unique():\n",
        "      sliced_df = df[(df['ano'] == ano)\n",
        "                     & (df['modalidade'] == modalidade)]\n",
        "      if not sliced_df.empty:\n",
        "        sliced_df = sliced_df.sort_values('nota_final', ascending=False)\n",
        "        full_df = sliced_df.astype(str)\n",
        "        data_tables.append(table_from_df(full_df,\n",
        "                                         TABLE_COL_NAMES,\n",
        "                                         HEADER_COL_NAMES,\n",
        "                                         COL_FORMATS))\n",
        "print(len(data_tables))\n",
        "data_tables[0].show()"
      ]
    },
    {
      "cell_type": "code",
      "execution_count": 50,
      "metadata": {
        "id": "R7BiT2I6Dl4A"
      },
      "outputs": [],
      "source": [
        "def plot_data_tables(exam_df, cols, header, cells_format, exam='fuvest'):\n",
        "  for id, df in exam_df.groupby('id'):\n",
        "    df = df.reset_index()\n",
        "    for ano in df['ano'].unique():\n",
        "      for modalidade in df['modalidade'].unique():\n",
        "        sliced_df = df[(df['ano'] == ano)\n",
        "                      & (df['modalidade'] == modalidade)]\n",
        "        if not sliced_df.empty:\n",
        "          sliced_df = sliced_df.sort_values('nota_final', ascending=False)\n",
        "          full_df = sliced_df.astype(str)\n",
        "          plotly_fig_to_html(\n",
        "            table_from_df(full_df, cols, header, cells_format),\n",
        "            os.path.join(OUTPUT_PATH, str(id), exam,\n",
        "                         str(ano), f'{modalidade}.html')  \n",
        "          )"
      ]
    },
    {
      "cell_type": "code",
      "execution_count": 51,
      "metadata": {
        "id": "2ClaiKpNUUPq"
      },
      "outputs": [],
      "source": [
        "plot_data_tables(fuvest, TABLE_COL_NAMES, HEADER_COL_NAMES, COL_FORMATS)"
      ]
    },
    {
      "cell_type": "markdown",
      "metadata": {
        "id": "XAGWr2lwH_3F"
      },
      "source": [
        "### Enem"
      ]
    },
    {
      "cell_type": "code",
      "execution_count": 52,
      "metadata": {
        "id": "exX5crdzH90O"
      },
      "outputs": [],
      "source": [
        "for index, row in enem[['id', 'ano']].drop_duplicates().iterrows():\n",
        "  os.makedirs(os.path.join(OUTPUT_PATH, str(row.id), 'enem', str(row.ano)))"
      ]
    },
    {
      "cell_type": "code",
      "execution_count": 53,
      "metadata": {
        "colab": {
          "base_uri": "https://localhost:8080/"
        },
        "id": "zBoqmK_sIovD",
        "outputId": "923ceb25-2a83-4571-90ce-e2ce14c5597f"
      },
      "outputs": [
        {
          "data": {
            "text/plain": [
              "{(0, 2020, 'Ampla Concorrência (AC)'): [412], (0, 2020, 'Escola Pública (EP)'): [413, 414, 415], (0, 2021, 'Pretos, Pardos e Indígenas (PPI)'): [417], (2, 2019, 'Escola Pública (EP)'): [72], (4, 2020, 'Escola Pública (EP)'): [46], (4, 2020, 'Pretos, Pardos e Indígenas (PPI)'): [45], (12, 2017, 'Pretos, Pardos e Indígenas (PPI)'): [231], (12, 2019, 'Pretos, Pardos e Indígenas (PPI)'): [232], (12, 2020, 'Ampla Concorrência (AC)'): [233], (12, 2021, 'Escola Pública (EP)'): [416], (22, 2019, 'Escola Pública (EP)'): [79, 80], (22, 2019, 'Pretos, Pardos e Indígenas (PPI)'): [78], (22, 2020, 'Escola Pública (EP)'): [82], (22, 2020, 'Pretos, Pardos e Indígenas (PPI)'): [81], (24, 2020, 'Ampla Concorrência (AC)'): [77, 418], (24, 2021, 'Escola Pública (EP)'): [419], (27, 2021, 'Pretos, Pardos e Indígenas (PPI)'): [420], (29, 2018, 'Pretos, Pardos e Indígenas (PPI)'): [44], (36, 2020, 'Escola Pública (EP)'): [163], (38, 2020, 'Pretos, Pardos e Indígenas (PPI)'): [421], (46, 2020, 'Ampla Concorrência (AC)'): [191], (46, 2020, 'Escola Pública (EP)'): [190], (47, 2020, 'Ampla Concorrência (AC)'): [170, 172], (47, 2020, 'Escola Pública (EP)'): [171, 174], (47, 2020, 'Pretos, Pardos e Indígenas (PPI)'): [173], (48, 2020, 'Ampla Concorrência (AC)'): [133, 136, 137, 138], (48, 2020, 'Escola Pública (EP)'): [134, 135], (50, 2020, 'Ampla Concorrência (AC)'): [196], (50, 2020, 'Escola Pública (EP)'): [195], (50, 2020, 'Pretos, Pardos e Indígenas (PPI)'): [194], (53, 2020, 'Ampla Concorrência (AC)'): [145, 146], (53, 2020, 'Escola Pública (EP)'): [144], (54, 2020, 'Ampla Concorrência (AC)'): [150, 151, 154, 155, 156], (54, 2020, 'Escola Pública (EP)'): [147, 149, 152, 153], (54, 2020, 'Pretos, Pardos e Indígenas (PPI)'): [148], (55, 2020, 'Ampla Concorrência (AC)'): [158, 161, 162], (55, 2020, 'Escola Pública (EP)'): [159, 160], (55, 2020, 'Pretos, Pardos e Indígenas (PPI)'): [157], (55, 2021, 'Ampla Concorrência (AC)'): [451], (56, 2020, 'Ampla Concorrência (AC)'): [164], (56, 2021, 'Ampla Concorrência (AC)'): [452], (57, 2020, 'Ampla Concorrência (AC)'): [165, 166], (58, 2020, 'Ampla Concorrência (AC)'): [168, 169], (58, 2020, 'Pretos, Pardos e Indígenas (PPI)'): [167], (59, 2020, 'Ampla Concorrência (AC)'): [176, 178, 179, 180], (59, 2020, 'Escola Pública (EP)'): [177], (59, 2020, 'Pretos, Pardos e Indígenas (PPI)'): [175], (60, 2020, 'Ampla Concorrência (AC)'): [182, 183, 184, 185, 186, 187, 188], (60, 2020, 'Escola Pública (EP)'): [181], (60, 2021, 'Escola Pública (EP)'): [453], (61, 2019, 'Escola Pública (EP)'): [454], (61, 2020, 'Ampla Concorrência (AC)'): [192, 193], (62, 2020, 'Ampla Concorrência (AC)'): [198], (62, 2020, 'Escola Pública (EP)'): [197], (63, 2020, 'Ampla Concorrência (AC)'): [200, 201], (63, 2020, 'Pretos, Pardos e Indígenas (PPI)'): [199], (64, 2020, 'Ampla Concorrência (AC)'): [202, 203, 204, 205], (65, 2020, 'Ampla Concorrência (AC)'): [140, 141], (65, 2020, 'Escola Pública (EP)'): [142, 143], (65, 2020, 'Pretos, Pardos e Indígenas (PPI)'): [139], (66, 2020, 'Escola Pública (EP)'): [189], (67, 2021, 'Ampla Concorrência (AC)'): [422], (71, 2019, 'Escola Pública (EP)'): [19], (71, 2020, 'Ampla Concorrência (AC)'): [20, 21, 24, 25, 26, 27, 28, 29, 30, 38], (71, 2020, 'Escola Pública (EP)'): [23, 34, 35, 36, 37, 43], (71, 2020, 'Pretos, Pardos e Indígenas (PPI)'): [22, 31, 32, 33, 39, 40, 41, 42], (72, 2021, 'Escola Pública (EP)'): [423, 424, 425], (73, 2020, 'Ampla Concorrência (AC)'): [84, 88], (73, 2020, 'Escola Pública (EP)'): [83, 85, 86], (73, 2020, 'Pretos, Pardos e Indígenas (PPI)'): [87], (74, 2017, 'Escola Pública (EP)'): [206], (74, 2019, 'Escola Pública (EP)'): [208, 209], (74, 2019, 'Pretos, Pardos e Indígenas (PPI)'): [207], (74, 2020, 'Pretos, Pardos e Indígenas (PPI)'): [210, 211, 212, 213], (76, 2019, 'Escola Pública (EP)'): [214], (77, 2020, 'Escola Pública (EP)'): [91, 92, 95], (77, 2020, 'Pretos, Pardos e Indígenas (PPI)'): [89, 90, 93, 94], (78, 2020, 'Escola Pública (EP)'): [99, 100, 101, 102, 104, 105], (78, 2020, 'Pretos, Pardos e Indígenas (PPI)'): [96, 97, 98, 103], (78, 2021, 'Escola Pública (EP)'): [426], (78, 2021, 'Pretos, Pardos e Indígenas (PPI)'): [427], (80, 2019, 'Escola Pública (EP)'): [11, 12], (80, 2019, 'Pretos, Pardos e Indígenas (PPI)'): [4, 5, 9, 10], (80, 2020, 'Escola Pública (EP)'): [7, 8], (80, 2020, 'Pretos, Pardos e Indígenas (PPI)'): [6], (81, 2019, 'Escola Pública (EP)'): [15, 16], (81, 2020, 'Escola Pública (EP)'): [13, 14, 17, 18], (82, 2020, 'Escola Pública (EP)'): [50, 51, 52, 53, 54, 55], (83, 2019, 'Escola Pública (EP)'): [65, 67, 68, 69], (83, 2019, 'Pretos, Pardos e Indígenas (PPI)'): [62], (83, 2020, 'Ampla Concorrência (AC)'): [71], (83, 2020, 'Escola Pública (EP)'): [59, 63, 64, 66, 70], (83, 2020, 'Pretos, Pardos e Indígenas (PPI)'): [60, 61], (84, 2020, 'Escola Pública (EP)'): [106, 110, 111, 112, 113, 114, 115], (84, 2020, 'Pretos, Pardos e Indígenas (PPI)'): [107, 108, 109], (85, 2019, 'Escola Pública (EP)'): [126, 128, 130, 131], (85, 2019, 'Pretos, Pardos e Indígenas (PPI)'): [123, 125], (85, 2020, 'Escola Pública (EP)'): [119, 127, 129, 132], (85, 2020, 'Pretos, Pardos e Indígenas (PPI)'): [120, 121, 122, 124], (85, 2021, 'Pretos, Pardos e Indígenas (PPI)'): [428], ...}"
            ]
          },
          "execution_count": 53,
          "metadata": {},
          "output_type": "execute_result"
        }
      ],
      "source": [
        "enem_grouped = enem.groupby(['id', 'ano', 'modalidade'])\n",
        "enem_grouped.groups"
      ]
    },
    {
      "cell_type": "code",
      "execution_count": 54,
      "metadata": {
        "colab": {
          "base_uri": "https://localhost:8080/",
          "height": 455
        },
        "id": "Sbvkr2H_IscW",
        "outputId": "cc895dbd-dac9-4253-8eff-03459605bc7b"
      },
      "outputs": [
        {
          "data": {
            "text/html": [
              "<div>\n",
              "<style scoped>\n",
              "    .dataframe tbody tr th:only-of-type {\n",
              "        vertical-align: middle;\n",
              "    }\n",
              "\n",
              "    .dataframe tbody tr th {\n",
              "        vertical-align: top;\n",
              "    }\n",
              "\n",
              "    .dataframe thead th {\n",
              "        text-align: right;\n",
              "    }\n",
              "</style>\n",
              "<table border=\"1\" class=\"dataframe\">\n",
              "  <thead>\n",
              "    <tr style=\"text-align: right;\">\n",
              "      <th></th>\n",
              "      <th></th>\n",
              "      <th></th>\n",
              "      <th>Mínimo</th>\n",
              "      <th>Máximo</th>\n",
              "      <th>Médio</th>\n",
              "    </tr>\n",
              "    <tr>\n",
              "      <th>id</th>\n",
              "      <th>ano</th>\n",
              "      <th>modalidade</th>\n",
              "      <th></th>\n",
              "      <th></th>\n",
              "      <th></th>\n",
              "    </tr>\n",
              "  </thead>\n",
              "  <tbody>\n",
              "    <tr>\n",
              "      <th rowspan=\"3\" valign=\"top\">0</th>\n",
              "      <th rowspan=\"2\" valign=\"top\">2020</th>\n",
              "      <th>Ampla Concorrência (AC)</th>\n",
              "      <td>779.85</td>\n",
              "      <td>779.85</td>\n",
              "      <td>779.85</td>\n",
              "    </tr>\n",
              "    <tr>\n",
              "      <th>Escola Pública (EP)</th>\n",
              "      <td>715.08</td>\n",
              "      <td>723.9</td>\n",
              "      <td>718.073333</td>\n",
              "    </tr>\n",
              "    <tr>\n",
              "      <th>2021</th>\n",
              "      <th>Pretos, Pardos e Indígenas (PPI)</th>\n",
              "      <td>707.34</td>\n",
              "      <td>707.34</td>\n",
              "      <td>707.34</td>\n",
              "    </tr>\n",
              "    <tr>\n",
              "      <th>2</th>\n",
              "      <th>2019</th>\n",
              "      <th>Escola Pública (EP)</th>\n",
              "      <td>700.557143</td>\n",
              "      <td>700.557143</td>\n",
              "      <td>700.557143</td>\n",
              "    </tr>\n",
              "    <tr>\n",
              "      <th>4</th>\n",
              "      <th>2020</th>\n",
              "      <th>Escola Pública (EP)</th>\n",
              "      <td>695.328571</td>\n",
              "      <td>695.328571</td>\n",
              "      <td>695.328571</td>\n",
              "    </tr>\n",
              "    <tr>\n",
              "      <th>...</th>\n",
              "      <th>...</th>\n",
              "      <th>...</th>\n",
              "      <td>...</td>\n",
              "      <td>...</td>\n",
              "      <td>...</td>\n",
              "    </tr>\n",
              "    <tr>\n",
              "      <th>173</th>\n",
              "      <th>2021</th>\n",
              "      <th>Ampla Concorrência (AC)</th>\n",
              "      <td>723.0</td>\n",
              "      <td>723.0</td>\n",
              "      <td>723.0</td>\n",
              "    </tr>\n",
              "    <tr>\n",
              "      <th rowspan=\"4\" valign=\"top\">174</th>\n",
              "      <th rowspan=\"3\" valign=\"top\">2020</th>\n",
              "      <th>Ampla Concorrência (AC)</th>\n",
              "      <td>803.83</td>\n",
              "      <td>831.63</td>\n",
              "      <td>817.73</td>\n",
              "    </tr>\n",
              "    <tr>\n",
              "      <th>Escola Pública (EP)</th>\n",
              "      <td>724.64</td>\n",
              "      <td>755.53</td>\n",
              "      <td>739.3</td>\n",
              "    </tr>\n",
              "    <tr>\n",
              "      <th>Pretos, Pardos e Indígenas (PPI)</th>\n",
              "      <td>647.22</td>\n",
              "      <td>745.0</td>\n",
              "      <td>706.132857</td>\n",
              "    </tr>\n",
              "    <tr>\n",
              "      <th>2021</th>\n",
              "      <th>Pretos, Pardos e Indígenas (PPI)</th>\n",
              "      <td>743.02</td>\n",
              "      <td>743.02</td>\n",
              "      <td>743.02</td>\n",
              "    </tr>\n",
              "  </tbody>\n",
              "</table>\n",
              "<p>173 rows × 3 columns</p>\n",
              "</div>"
            ],
            "text/plain": [
              "                                               Mínimo      Máximo       Médio\n",
              "id  ano  modalidade                                                          \n",
              "0   2020 Ampla Concorrência (AC)               779.85      779.85      779.85\n",
              "         Escola Pública (EP)                   715.08       723.9  718.073333\n",
              "    2021 Pretos, Pardos e Indígenas (PPI)      707.34      707.34      707.34\n",
              "2   2019 Escola Pública (EP)               700.557143  700.557143  700.557143\n",
              "4   2020 Escola Pública (EP)               695.328571  695.328571  695.328571\n",
              "...                                               ...         ...         ...\n",
              "173 2021 Ampla Concorrência (AC)                723.0       723.0       723.0\n",
              "174 2020 Ampla Concorrência (AC)               803.83      831.63      817.73\n",
              "         Escola Pública (EP)                   724.64      755.53       739.3\n",
              "         Pretos, Pardos e Indígenas (PPI)      647.22       745.0  706.132857\n",
              "    2021 Pretos, Pardos e Indígenas (PPI)      743.02      743.02      743.02\n",
              "\n",
              "[173 rows x 3 columns]"
            ]
          },
          "execution_count": 54,
          "metadata": {},
          "output_type": "execute_result"
        }
      ],
      "source": [
        "enem_metrics_df = enem_grouped.agg(\n",
        "  Mínimo=('nota_final', 'min'),\n",
        "  Máximo=('nota_final', 'max'), \n",
        "  Médio=('nota_final', 'mean'),\n",
        ")\n",
        "enem_metrics_df"
      ]
    },
    {
      "cell_type": "markdown",
      "metadata": {
        "id": "c7nmj1wRJVWG"
      },
      "source": [
        "#### Metrics plot"
      ]
    },
    {
      "cell_type": "code",
      "execution_count": 55,
      "metadata": {
        "id": "uvB19k5jJXMR"
      },
      "outputs": [],
      "source": [
        "plot_metric_evolution(enem_metrics_df, exam='enem')"
      ]
    },
    {
      "cell_type": "markdown",
      "metadata": {
        "id": "-5Z8re_YJek_"
      },
      "source": [
        "#### Metrics table for the latest year"
      ]
    },
    {
      "cell_type": "code",
      "execution_count": 56,
      "metadata": {
        "id": "A9__x452JiA6"
      },
      "outputs": [],
      "source": [
        "plot_latest_metrics_table(enem_metrics_df, exam='enem')"
      ]
    },
    {
      "cell_type": "markdown",
      "metadata": {
        "id": "euOIApzyJy2c"
      },
      "source": [
        "#### Data tables"
      ]
    },
    {
      "cell_type": "code",
      "execution_count": 57,
      "metadata": {
        "colab": {
          "base_uri": "https://localhost:8080/"
        },
        "id": "wAt6u6thKvFL",
        "outputId": "c22fcf39-9a47-49d3-aa91-1b240781a9ab"
      },
      "outputs": [
        {
          "data": {
            "text/plain": [
              "Index(['id', 'unidade', 'curso', 'ano', 'modalidade', 'chamada',\n",
              "       'nota_linguagens', 'nota_humanas', 'nota_natureza', 'nota_matematica',\n",
              "       'nota_redacao', 'nota_final', 'nota_redacao_c1', 'nota_redacao_c2',\n",
              "       'nota_redacao_c3', 'nota_redacao_c4', 'nota_redacao_c5', 'redacao'],\n",
              "      dtype='object')"
            ]
          },
          "execution_count": 57,
          "metadata": {},
          "output_type": "execute_result"
        }
      ],
      "source": [
        "enem.columns"
      ]
    },
    {
      "cell_type": "code",
      "execution_count": 58,
      "metadata": {
        "id": "Pi9dzfvqJ1Po"
      },
      "outputs": [],
      "source": [
        "ENEM_TABLE_COL_NAMES = [\n",
        "  'chamada',\n",
        "  'nota_linguagens',\n",
        "  'nota_humanas',\n",
        "  'nota_natureza',\n",
        "  'nota_matematica',\n",
        "  'nota_redacao',\n",
        "  'nota_final',\n",
        "]\n",
        "ENEM_HEADER_COL_NAMES = [\n",
        "  'Chamada',\n",
        "  'Linguagens',\n",
        "  'Humanas',\n",
        "  'Ciências da Natureza',\n",
        "  'Matemática',\n",
        "  'Nota da redação',\n",
        "  'Nota final',\n",
        "]\n",
        "ENEM_COL_FORMATS = [None, '.2f', '.2f', '.2f', '.2f', '.3d', '.2f']\n",
        "\n",
        "plot_data_tables(enem,\n",
        "                 ENEM_TABLE_COL_NAMES, \n",
        "                 ENEM_HEADER_COL_NAMES, \n",
        "                 ENEM_COL_FORMATS, \n",
        "                 exam='enem')"
      ]
    },
    {
      "cell_type": "code",
      "execution_count": null,
      "metadata": {
        "id": "HBNO1IRirrCP"
      },
      "outputs": [],
      "source": []
    }
  ],
  "metadata": {
    "colab": {
      "collapsed_sections": [],
      "name": "mdv_tables_plots.ipynb",
      "provenance": []
    },
    "kernelspec": {
      "display_name": "Python 3",
      "name": "python3"
    },
    "language_info": {
      "name": "python"
    }
  },
  "nbformat": 4,
  "nbformat_minor": 0
}
